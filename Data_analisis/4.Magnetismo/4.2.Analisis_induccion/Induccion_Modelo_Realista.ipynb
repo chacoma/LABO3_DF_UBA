{
 "cells": [
  {
   "cell_type": "code",
   "execution_count": 18,
   "id": "7b235e4e",
   "metadata": {},
   "outputs": [],
   "source": [
    "import pandas as pd\n",
    "import numpy as np\n",
    "import matplotlib.pyplot as plt"
   ]
  },
  {
   "cell_type": "markdown",
   "id": "01e793c6",
   "metadata": {},
   "source": [
    "### Modelo parásito \n",
    "\n",
    "Simulación y curva teórica del circuito propuesto en el apunte [Inducción con parásitos](../..Apuntes/4.Magnetismo//2-%20Induccion%20con%20componentes%20parasitos.md)\n",
    "\n",
    "Datos de la simulación:"
   ]
  },
  {
   "cell_type": "code",
   "execution_count": 19,
   "id": "55fefc7f",
   "metadata": {},
   "outputs": [],
   "source": [
    "df = pd.read_csv('data/induc_paras_2.txt', \n",
    "                 sep='\\t|,',  \n",
    "                 engine='python',  \n",
    "                 skiprows=1, \n",
    "                 names=['f', 'Tr', 'Ti'],\n",
    "                 dtype='float'\n",
    ")\n"
   ]
  },
  {
   "cell_type": "markdown",
   "id": "862518c2",
   "metadata": {},
   "source": [
    "Rutinas para calcular las impedancias"
   ]
  },
  {
   "cell_type": "code",
   "execution_count": 20,
   "id": "a4885ba3",
   "metadata": {},
   "outputs": [],
   "source": [
    "def get_Z1(w, R1,C1):\n",
    "    zc = 1.0/(1j*w*C1)\n",
    "    zr = R1\n",
    "\n",
    "    return zc*zr/(zc+zr)\n",
    "\n",
    "def get_ZL1(w, r1, L1):\n",
    "\n",
    "    return r1+ 1j*w*L1\n",
    "\n",
    "\n",
    "def get_ZL2(w, r2, L2):\n",
    "\n",
    "    return r2+ 1j*w*L2\n",
    "\n",
    "def get_Z2(w, R2,C2):\n",
    "    \n",
    "    zc = 1.0/(1j*w*C2)\n",
    "    zr = R2\n",
    "    return zc*zr/(zc+zr)\n",
    "\n",
    "\n",
    "def get_Zsec(w, r2, L2, R2,C2):\n",
    "    ZL2 = get_ZL2( w, r2, L2 )\n",
    "    Z2 = get_Z2( w, R2, C2 )\n",
    "    return ZL2+Z2 \n",
    "\n",
    "def get_Zref( w, r2, L2, R2,C2, M ):\n",
    "\n",
    "    Zsec= get_Zsec(w, r2, L2, R2,C2)\n",
    "    return ((w*M)**2)/Zsec\n",
    "\n",
    "\n",
    "def get_ZM( w, M ):\n",
    "\n",
    "    return 1j*w*M\n",
    "\n",
    "\n",
    "# ec de transferencia\n",
    "def Transf(f, R, R1,C1,r1,L1, R2,C2,r2,L2, k):\n",
    "\n",
    "    w =2*np.pi*f\n",
    "\n",
    "    M = k*np.sqrt(L1*L2)\n",
    "\n",
    "    ZM  = get_ZM( w, M )\n",
    "    Z1  = get_Z1(w, R1,C1)\n",
    "    Z2  = get_Z1(w, R2,C2)\n",
    "    ZL2 = get_ZL2(w, r2, L2)\n",
    "    Zsec= get_Zsec(w, r2, L2, R2,C2)\n",
    "    Zref= get_Zref( w, r2, L2, R2,C2, M )\n",
    "    ZL1 = get_ZL1(w, r1, L1)\n",
    "\n",
    "    zV2 = ZM*(-1+ ZL2/(Zsec))\n",
    "\n",
    "    zVR = R*(ZL1+Zref+Z1)/(Z1)\n",
    "\n",
    "\n",
    "    return abs(zV2/zVR)\n"
   ]
  },
  {
   "cell_type": "code",
   "execution_count": 21,
   "id": "bbe80906",
   "metadata": {},
   "outputs": [
    {
     "data": {
      "image/png": "[encoded data removed]",
      "text/plain": [
       "<Figure size 400x300 with 1 Axes>"
      ]
     },
     "metadata": {},
     "output_type": "display_data"
    }
   ],
   "source": [
    "# valores de las componentes\n",
    "R= 100\n",
    "R1 =1e3\n",
    "C1 =50e-9\n",
    "r1 =10 \n",
    "L1 =10e-3\n",
    "R2 =1e3 \n",
    "C2 =50e-9\n",
    "r2 =50\n",
    "L2 =50e-3\n",
    "k  =0.8\n",
    "\n",
    "pars = [R, R1,C1,r1,L1, R2,C2,r2,L2, k]\n",
    "\n",
    "# datos a plotear\n",
    "T_exp = df[\"Tr\"]                    # data de simulacion\n",
    "T_mod = Transf( df[\"f\"], *pars )    # modelo\n",
    "f = df[\"f\"].to_numpy() /1000        # freq en kHz\n",
    "\n",
    "# plot\n",
    "fig, ax = plt.subplots(figsize=(4,3))\n",
    "\n",
    "ax.scatter( f, T_exp , label='Data')   \n",
    "\n",
    "ax.plot( f,T_mod , c='C3', label='Model')\n",
    "\n",
    "ax.set_ylabel(\"$v_S/v_R$ \")\n",
    "ax.set_xlabel(\"$f$ [kHz]\")\n",
    "plt.legend()\n",
    "plt.show()\n"
   ]
  },
  {
   "cell_type": "markdown",
   "id": "e0392f04",
   "metadata": {},
   "source": [
    "### Ejemplo de como usar la rutina Transf para ajustar datos reales\n",
    "\n",
    "Si tienen datos reales y quieren ajustar la curva utilizando este modelo, lo conveniente es ir ajustando de a pares de parámetros.\n",
    "Esto funciona mejor dado que la expresión tiene muchos parametros, 10 en total.\n",
    "\n",
    "Por ejemplo si queremos ajustar k, R1, y C1 primero, definimos la rutina del curve fit así:"
   ]
  },
  {
   "cell_type": "code",
   "execution_count": 22,
   "id": "56d15435",
   "metadata": {},
   "outputs": [],
   "source": [
    "def modelo( f, k, R1, C1 ):\n",
    "\n",
    "    # aca pongo el resto de los parametros que no estoy ajustando\n",
    "    R= 100\n",
    "    #R1 =1e3\n",
    "    #C1 =50e-9\n",
    "    r1 =10 \n",
    "    L1 =10e-3\n",
    "    R2 =1e3 \n",
    "    C2 =50e-9\n",
    "    r2 =50\n",
    "    L2 =50e-3\n",
    "    #k  =0.8\n",
    "\n",
    "    pars = [R, R1,C1,r1,L1, R2,C2,r2,L2, k]\n",
    "\n",
    "    return Transf( f, *pars )"
   ]
  },
  {
   "cell_type": "markdown",
   "id": "3fbe8a3d",
   "metadata": {},
   "source": [
    "Una vez que obtengo esos parámetros, los fijo y ajusto otros, y así con todos hasta obtener a algo razonable."
   ]
  }
 ],
 "metadata": {
  "kernelspec": {
   "display_name": "base",
   "language": "python",
   "name": "python3"
  },
  "language_info": {
   "codemirror_mode": {
    "name": "ipython",
    "version": 3
   },
   "file_extension": ".py",
   "mimetype": "text/x-python",
   "name": "python",
   "nbconvert_exporter": "python",
   "pygments_lexer": "ipython3",
   "version": "3.10.14"
  }
 },
 "nbformat": 4,
 "nbformat_minor": 5
}
