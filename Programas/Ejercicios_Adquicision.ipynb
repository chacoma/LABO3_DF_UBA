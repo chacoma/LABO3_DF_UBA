{
 "cells": [
  {
   "cell_type": "markdown",
   "id": "d3190140",
   "metadata": {},
   "source": [
    "## Ejercicios Adquisición\n",
    "\n",
    "En esta práctica se plantean una serie de ejercicios para trabajar la **operación combinada** del Generador de Funciones y del Osciloscopio. Para su resolución, use como referencia los tutoriales que explican el funcionamiento básico de los equipos. \n",
    "\n",
    "Ejecute sus respuestas en celdas de este mismo notebook.\n",
    "\n",
    "Recuerde siempre que puede necesitar ejecutar **pausas entre comandos** para el correcto funcionamiento del programa.\n",
    "\n",
    "#### (1) En la siguiente celda se importan dos de las librerías necesarias para operar el generador de funciones y para adquirir con el osciloscopio. Importe las que faltan:"
   ]
  },
  {
   "cell_type": "code",
   "execution_count": 1,
   "id": "60cc83a3",
   "metadata": {},
   "outputs": [],
   "source": [
    "import numpy as np\n",
    "import pandas as pd\n",
    "\n"
   ]
  },
  {
   "cell_type": "markdown",
   "id": "18eb6682",
   "metadata": {},
   "source": [
    "#### (2) Defina el objeto resource manager y muestre una lista con los equipos conectados"
   ]
  },
  {
   "cell_type": "code",
   "execution_count": null,
   "id": "3dd8de19",
   "metadata": {},
   "outputs": [],
   "source": []
  },
  {
   "cell_type": "markdown",
   "id": "19d3cb79",
   "metadata": {},
   "source": [
    "#### (3) Establezca conexión con Generador de Funciones y con el Osciloscopio. Luego ejecute un *query* a ambos para pedir que se identifiquen."
   ]
  },
  {
   "cell_type": "code",
   "execution_count": null,
   "id": "3caa180e",
   "metadata": {},
   "outputs": [],
   "source": []
  },
  {
   "cell_type": "markdown",
   "id": "3238ed87",
   "metadata": {},
   "source": [
    "#### (4) Escriba un programa que setee en el canal 1 del Generador de Funciones una función sinusoidal de frecuencia $440Hz$, amplitud $1V_{PP}$, con fase nula. Visualize la curva en el Osciloscopio, adquierala y grafiquela."
   ]
  },
  {
   "cell_type": "code",
   "execution_count": null,
   "id": "f9a32fea",
   "metadata": {},
   "outputs": [],
   "source": []
  },
  {
   "cell_type": "markdown",
   "id": "34c94f5a",
   "metadata": {},
   "source": [
    "#### (5) Para verificar la frecuencia y la amplitud entregada por el Generador de Funciones ene canal 1, escriba un programa para que el Osciloscopio mida esos parámetros de la señal."
   ]
  },
  {
   "cell_type": "code",
   "execution_count": null,
   "id": "b4d46186",
   "metadata": {},
   "outputs": [],
   "source": []
  },
  {
   "cell_type": "markdown",
   "id": "96cd07be",
   "metadata": {},
   "source": [
    "#### (6) Escriba un programa que setee en el canal 2 del generador de Funciones una señal de $523 Hz$, amplitud $2V_{PP}$, con fase $\\pi/2$. Visualize las dos curvas en el osciloscopio, la que habia seteado previamente en el canal 1 y esta, y mida la diferencia de fases y la diferencia de amplitud entre ambas."
   ]
  },
  {
   "cell_type": "code",
   "execution_count": null,
   "id": "f2f4405c",
   "metadata": {},
   "outputs": [],
   "source": []
  },
  {
   "cell_type": "markdown",
   "id": "fc455c39",
   "metadata": {},
   "source": [
    "#### (7) "
   ]
  },
  {
   "cell_type": "code",
   "execution_count": null,
   "id": "ed2cb354",
   "metadata": {},
   "outputs": [
    {
     "name": "stdout",
     "output_type": "stream",
     "text": [
      "Freq: 752.0 , Amp: 3.0 , Fase: 54.0\n",
      "Freq: 775.0 , Amp: 2.9 , Fase: 17.0\n",
      "Freq: 702.0 , Amp: 3.4 , Fase: 65.0\n",
      "Freq: 472.0 , Amp: 1.1 , Fase: 55.0\n",
      "Freq: 909.0 , Amp: 3.5 , Fase: 133.0\n",
      "Freq: 41.0 , Amp: 4.0 , Fase: 84.0\n",
      "Freq: 244.0 , Amp: 1.9 , Fase: 117.0\n",
      "Freq: 378.0 , Amp: 3.8 , Fase: 171.0\n",
      "Freq: 630.0 , Amp: 2.8 , Fase: 58.0\n",
      "Freq: 716.0 , Amp: 2.9 , Fase: 19.0\n"
     ]
    }
   ],
   "source": [
    "N= 10\n",
    "\n",
    "frecuencias = np.random.randint(10,1000, N)\n",
    "amplitudes = np.random.random(N)*3+1\n",
    "fases = np.random.randint(0,180, N)\n",
    "\n",
    "\n",
    "for i in range(N):\n",
    "\n",
    "    freq = frecuencias[i]\n",
    "    amp  = amplitudes[i]\n",
    "    fase = fases[i]\n",
    "\n",
    "    print ( \"Freq: %.1f , Amp: %.1f , Fase: %.1f\" % (freq,amp,fase) )\n",
    "\n",
    "\n",
    "    \n"
   ]
  }
 ],
 "metadata": {
  "kernelspec": {
   "display_name": "base",
   "language": "python",
   "name": "python3"
  },
  "language_info": {
   "codemirror_mode": {
    "name": "ipython",
    "version": 3
   },
   "file_extension": ".py",
   "mimetype": "text/x-python",
   "name": "python",
   "nbconvert_exporter": "python",
   "pygments_lexer": "ipython3",
   "version": "3.10.14"
  }
 },
 "nbformat": 4,
 "nbformat_minor": 5
}
