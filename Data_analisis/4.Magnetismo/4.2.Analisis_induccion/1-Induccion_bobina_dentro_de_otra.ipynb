{
 "cells": [
  {
   "cell_type": "markdown",
   "id": "029f3422",
   "metadata": {},
   "source": [
    "## Análisis exp inducción: una bobina dentro de otra\n",
    "\n",
    "- $Lp = 0.07$ $mH$ (res. int. $r_{Lp}=5\\Omega$)\n",
    "- $Ls=50$ $mH$ (res. int. $r_{Lp}=49\\Omega$)\n",
    "- $R=100$ $\\Omega$\n",
    "- $V_{in}$ sinusoidal amplitud $1V$. Barrido en frecuencias $10-2k$ $Hz$\n",
    "\n",
    "Se midio la amplitud sobre la resistencia ($v_R$) y sobre el secundario ($v_s$) en función de la frecuencia $f$.\n",
    "\n",
    "Exporto librerias a utilizar,"
   ]
  },
  {
   "cell_type": "code",
   "execution_count": 4,
   "id": "d5313d72",
   "metadata": {},
   "outputs": [],
   "source": [
    "import pandas as pd\n",
    "import numpy as np\n",
    "import matplotlib.pyplot as plt\n",
    "from scipy.optimize import curve_fit"
   ]
  },
  {
   "cell_type": "markdown",
   "id": "64085b02",
   "metadata": {},
   "source": [
    "### 1 - Caso SIN núcleo \n",
    "\n",
    "Cargo datos,\n"
   ]
  },
  {
   "cell_type": "code",
   "execution_count": 5,
   "id": "890b8c32",
   "metadata": {},
   "outputs": [
    {
     "data": {
      "text/html": [
       "<div>\n",
       "<style scoped>\n",
       "    .dataframe tbody tr th:only-of-type {\n",
       "        vertical-align: middle;\n",
       "    }\n",
       "\n",
       "    .dataframe tbody tr th {\n",
       "        vertical-align: top;\n",
       "    }\n",
       "\n",
       "    .dataframe thead th {\n",
       "        text-align: right;\n",
       "    }\n",
       "</style>\n",
       "<table border=\"1\" class=\"dataframe\">\n",
       "  <thead>\n",
       "    <tr style=\"text-align: right;\">\n",
       "      <th></th>\n",
       "      <th>f</th>\n",
       "      <th>vs</th>\n",
       "      <th>vR</th>\n",
       "    </tr>\n",
       "  </thead>\n",
       "  <tbody>\n",
       "    <tr>\n",
       "      <th>0</th>\n",
       "      <td>10.00000</td>\n",
       "      <td>-0.001327</td>\n",
       "      <td>0.645660</td>\n",
       "    </tr>\n",
       "    <tr>\n",
       "      <th>1</th>\n",
       "      <td>30.10101</td>\n",
       "      <td>0.002463</td>\n",
       "      <td>0.645629</td>\n",
       "    </tr>\n",
       "    <tr>\n",
       "      <th>2</th>\n",
       "      <td>50.20202</td>\n",
       "      <td>0.005728</td>\n",
       "      <td>0.644737</td>\n",
       "    </tr>\n",
       "    <tr>\n",
       "      <th>3</th>\n",
       "      <td>70.30303</td>\n",
       "      <td>0.005618</td>\n",
       "      <td>0.644451</td>\n",
       "    </tr>\n",
       "    <tr>\n",
       "      <th>4</th>\n",
       "      <td>90.40404</td>\n",
       "      <td>0.004009</td>\n",
       "      <td>0.647370</td>\n",
       "    </tr>\n",
       "  </tbody>\n",
       "</table>\n",
       "</div>"
      ],
      "text/plain": [
       "          f        vs        vR\n",
       "0  10.00000 -0.001327  0.645660\n",
       "1  30.10101  0.002463  0.645629\n",
       "2  50.20202  0.005728  0.644737\n",
       "3  70.30303  0.005618  0.644451\n",
       "4  90.40404  0.004009  0.647370"
      ]
     },
     "execution_count": 5,
     "metadata": {},
     "output_type": "execute_result"
    }
   ],
   "source": [
    "arx = \"data/induccion_SN.csv\"\n",
    "df = pd.read_csv( arx )\n",
    "df.head()"
   ]
  },
  {
   "cell_type": "markdown",
   "id": "de870f05",
   "metadata": {},
   "source": [
    "exploro"
   ]
  },
  {
   "cell_type": "code",
   "execution_count": 6,
   "id": "05894c55",
   "metadata": {},
   "outputs": [
    {
     "name": "stdout",
     "output_type": "stream",
     "text": [
      "Induct. mutua teorica, M:\n",
      "M teo. : 0.001871\n"
     ]
    },
    {
     "data": {
      "image/png": "[encoded data removed]",
      "text/plain": [
       "<Figure size 400x300 with 1 Axes>"
      ]
     },
     "metadata": {},
     "output_type": "display_data"
    }
   ],
   "source": [
    "# valores medidos\n",
    "R = 100\n",
    "Lp = 0.07e-3\n",
    "Ls = 50e-3\n",
    "\n",
    "print (\"Induct. mutua teorica, M:\")\n",
    "M_th = np.sqrt(Lp*Ls)\n",
    "print( f\"M teo. : {M_th:.6f}\"  )\n",
    "\n",
    "# tomo data\n",
    "y = df[\"vs\"].to_numpy()/df[\"vR\"].to_numpy() # vs/vR\n",
    "x = df[\"f\"].to_numpy()*2*np.pi/R # w/R\n",
    "\n",
    "# plot exploratorio\n",
    "fig,ax = plt.subplots(figsize=(4,3))\n",
    "\n",
    "ax.scatter(x,y)\n",
    "\n",
    "ax.set_xlabel(r\"$\\frac{\\omega}{R}$\", fontsize=16)\n",
    "ax.set_ylabel(r\"$\\frac{v_s}{v_R}$\", fontsize=16)\n",
    "plt.show()"
   ]
  },
  {
   "cell_type": "markdown",
   "id": "fdce198a",
   "metadata": {},
   "source": [
    "ajusto modelo lineal para obtener $M$ experimental"
   ]
  },
  {
   "cell_type": "code",
   "execution_count": 7,
   "id": "3879dfa2",
   "metadata": {},
   "outputs": [
    {
     "name": "stdout",
     "output_type": "stream",
     "text": [
      "Parámetros obtenidos del ajuste:\n",
      "M exp. = (0.001610 ± 0.000011) \n",
      "a = (-0.005251 ± 0.000838) \n"
     ]
    },
    {
     "data": {
      "image/png": "[encoded data removed]",
      "text/plain": [
       "<Figure size 400x300 with 1 Axes>"
      ]
     },
     "metadata": {},
     "output_type": "display_data"
    }
   ],
   "source": [
    "def modelo(x, a, M):\n",
    "    return a+M*x\n",
    "\n",
    "#semillas\n",
    "a_ini=0\n",
    "M_ini=1\n",
    "p0 = [a_ini,M_ini]\n",
    "\n",
    "#ajuste\n",
    "popt, pcov = curve_fit(modelo, x, y, p0=p0)      \n",
    "a_exp, M_exp = popt\n",
    "\n",
    "# Errores estandar\n",
    "SE_a, SE_M = np.sqrt(np.diag(pcov))\n",
    "\n",
    "print (\"Parámetros obtenidos del ajuste:\")\n",
    "print(f\"M exp. = ({M_exp:.6f} ± {SE_M:.6f}) \")\n",
    "print(f\"a = ({a_exp:.6f} ± {SE_a:.6f}) \")\n",
    "\n",
    "\n",
    "fig,ax = plt.subplots(figsize=(4,3))\n",
    "\n",
    "ax.scatter(x,y, label='Data')\n",
    "ax.plot( x, modelo(x, *popt), c='C3', label='Fit' )\n",
    "\n",
    "ax.set_xlabel(r\"$\\frac{\\omega}{R}$\", fontsize=16)\n",
    "ax.set_ylabel(r\"$\\frac{v_s}{v_R}$\", fontsize=16)\n",
    "ax.legend(loc=2)\n",
    "plt.show()"
   ]
  },
  {
   "cell_type": "markdown",
   "id": "3337c650",
   "metadata": {},
   "source": [
    "vemos que la inductancia mutua teórica difiere de la experimental, eso es por que la constante de acoplamiento $k \\neq 1 $, tengo,\n",
    "\n",
    "$$\n",
    "M_{exp} = k \\sqrt{Lp Ls} = k M_{teo}\n",
    "$$\n",
    "\n",
    "entonces el acoplamiento $k$ viene dado por, "
   ]
  },
  {
   "cell_type": "code",
   "execution_count": 8,
   "id": "f320b6a1",
   "metadata": {},
   "outputs": [
    {
     "name": "stdout",
     "output_type": "stream",
     "text": [
      "Constante acop. k = 0.8608\n"
     ]
    }
   ],
   "source": [
    "k = M_exp/M_th\n",
    "\n",
    "print (f\"Constante acop. k = {k:.4}\")"
   ]
  },
  {
   "cell_type": "markdown",
   "id": "092c839b",
   "metadata": {},
   "source": [
    "### 2- Caso CON núcleo "
   ]
  },
  {
   "cell_type": "code",
   "execution_count": 9,
   "id": "fbc63ddc",
   "metadata": {},
   "outputs": [
    {
     "data": {
      "text/html": [
       "<div>\n",
       "<style scoped>\n",
       "    .dataframe tbody tr th:only-of-type {\n",
       "        vertical-align: middle;\n",
       "    }\n",
       "\n",
       "    .dataframe tbody tr th {\n",
       "        vertical-align: top;\n",
       "    }\n",
       "\n",
       "    .dataframe thead th {\n",
       "        text-align: right;\n",
       "    }\n",
       "</style>\n",
       "<table border=\"1\" class=\"dataframe\">\n",
       "  <thead>\n",
       "    <tr style=\"text-align: right;\">\n",
       "      <th></th>\n",
       "      <th>f</th>\n",
       "      <th>vs</th>\n",
       "      <th>vR</th>\n",
       "    </tr>\n",
       "  </thead>\n",
       "  <tbody>\n",
       "    <tr>\n",
       "      <th>0</th>\n",
       "      <td>10.00000</td>\n",
       "      <td>0.004549</td>\n",
       "      <td>0.648471</td>\n",
       "    </tr>\n",
       "    <tr>\n",
       "      <th>1</th>\n",
       "      <td>30.10101</td>\n",
       "      <td>0.008604</td>\n",
       "      <td>0.644541</td>\n",
       "    </tr>\n",
       "    <tr>\n",
       "      <th>2</th>\n",
       "      <td>50.20202</td>\n",
       "      <td>0.023882</td>\n",
       "      <td>0.646609</td>\n",
       "    </tr>\n",
       "    <tr>\n",
       "      <th>3</th>\n",
       "      <td>70.30303</td>\n",
       "      <td>0.033155</td>\n",
       "      <td>0.646269</td>\n",
       "    </tr>\n",
       "    <tr>\n",
       "      <th>4</th>\n",
       "      <td>90.40404</td>\n",
       "      <td>0.044494</td>\n",
       "      <td>0.646340</td>\n",
       "    </tr>\n",
       "  </tbody>\n",
       "</table>\n",
       "</div>"
      ],
      "text/plain": [
       "          f        vs        vR\n",
       "0  10.00000  0.004549  0.648471\n",
       "1  30.10101  0.008604  0.644541\n",
       "2  50.20202  0.023882  0.646609\n",
       "3  70.30303  0.033155  0.646269\n",
       "4  90.40404  0.044494  0.646340"
      ]
     },
     "execution_count": 9,
     "metadata": {},
     "output_type": "execute_result"
    }
   ],
   "source": [
    "arx = \"data/induccion_CN.csv\"\n",
    "df = pd.read_csv( arx )\n",
    "df.head()"
   ]
  },
  {
   "cell_type": "code",
   "execution_count": 10,
   "id": "74388be3",
   "metadata": {},
   "outputs": [
    {
     "data": {
      "image/png": "[encoded data removed]",
      "text/plain": [
       "<Figure size 400x300 with 1 Axes>"
      ]
     },
     "metadata": {},
     "output_type": "display_data"
    }
   ],
   "source": [
    "# valores medidos, mismo que antes\n",
    "R = 100\n",
    "Lp = 0.07e-3\n",
    "Ls = 50e-3\n",
    "\n",
    "# tomo data\n",
    "y = df[\"vs\"].to_numpy()/df[\"vR\"].to_numpy() # vs/vR\n",
    "x = df[\"f\"].to_numpy()*2*np.pi/R # w/R\n",
    "\n",
    "# plot exploratorio\n",
    "fig,ax = plt.subplots(figsize=(4,3))\n",
    "\n",
    "ax.scatter(x,y)\n",
    "\n",
    "ax.set_xlabel(r\"$\\frac{\\omega}{R}$\", fontsize=16)\n",
    "ax.set_ylabel(r\"$\\frac{v_s}{v_R}$\", fontsize=16)\n",
    "plt.show()"
   ]
  },
  {
   "cell_type": "code",
   "execution_count": 11,
   "id": "e55b5187",
   "metadata": {},
   "outputs": [
    {
     "name": "stdout",
     "output_type": "stream",
     "text": [
      "Parámetros obtenidos del ajuste:\n",
      "M exp. (con nucleo) = (0.009396 ± 0.000286) \n",
      "a = (0.008880 ± 0.003330) \n"
     ]
    },
    {
     "data": {
      "image/png": "[encoded data removed]",
      "text/plain": [
       "<Figure size 400x300 with 1 Axes>"
      ]
     },
     "metadata": {},
     "output_type": "display_data"
    }
   ],
   "source": [
    "def modelo(x, a, M):\n",
    "    return a+M*x\n",
    "\n",
    "#semillas\n",
    "a_ini=0\n",
    "M_ini=1\n",
    "p0 = [a_ini,M_ini]\n",
    "\n",
    "# Ajusto solo parte lineal: tomo datos en el rango x<20\n",
    "x1 = x[x<20]\n",
    "y1 = y[x<20]\n",
    "\n",
    "#ajuste\n",
    "popt, pcov = curve_fit(modelo, x1, y1, p0=p0)      \n",
    "a_exp, M_exp_cn = popt\n",
    "\n",
    "# Errores estandar\n",
    "SE_a, SE_M = np.sqrt(np.diag(pcov))\n",
    "\n",
    "print (\"Parámetros obtenidos del ajuste:\")\n",
    "print(f\"M exp. (con nucleo) = ({M_exp_cn:.6f} ± {SE_M:.6f}) \")\n",
    "print(f\"a = ({a_exp:.6f} ± {SE_a:.6f}) \")\n",
    "\n",
    "\n",
    "fig,ax = plt.subplots(figsize=(4,3))\n",
    "\n",
    "ax.scatter(x1,y1, label='Data')\n",
    "ax.plot( x1, modelo(x1, *popt), c='C3', label='Fit' )\n",
    "\n",
    "ax.set_xlabel(r\"$\\frac{\\omega}{R}$\", fontsize=16)\n",
    "ax.set_ylabel(r\"$\\frac{v_s}{v_R}$\", fontsize=16)\n",
    "ax.legend(loc=2)\n",
    "plt.show()"
   ]
  },
  {
   "cell_type": "markdown",
   "id": "63e939a7",
   "metadata": {},
   "source": [
    "vemos que la inductancia mutua crece con el núcleo, para una estimación de la permiabilidad magnética $\\mu$ podemos calcular,\n",
    "\n",
    "$$\n",
    "\\mu = \\frac{M_{exp}^\\prime}{M_{exp}}\n",
    "$$"
   ]
  },
  {
   "cell_type": "code",
   "execution_count": 12,
   "id": "f71bc971",
   "metadata": {},
   "outputs": [
    {
     "name": "stdout",
     "output_type": "stream",
     "text": [
      "Permiab. mag. del material mu : 5.8346\n"
     ]
    }
   ],
   "source": [
    "mu = M_exp_cn/ M_exp\n",
    "\n",
    "print (f\"Permiab. mag. del material mu : {mu:.4f}\")"
   ]
  }
 ],
 "metadata": {
  "kernelspec": {
   "display_name": "base",
   "language": "python",
   "name": "python3"
  },
  "language_info": {
   "codemirror_mode": {
    "name": "ipython",
    "version": 3
   },
   "file_extension": ".py",
   "mimetype": "text/x-python",
   "name": "python",
   "nbconvert_exporter": "python",
   "pygments_lexer": "ipython3",
   "version": "3.10.14"
  }
 },
 "nbformat": 4,
 "nbformat_minor": 5
}
