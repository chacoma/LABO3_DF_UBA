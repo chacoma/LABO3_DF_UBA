{
 "cells": [
  {
   "cell_type": "markdown",
   "id": "bb32e7dc-420e-4352-94ac-80520f0928a5",
   "metadata": {},
   "source": [
    "### Operación remota de los generadores de funciones de Tektronix\n",
    "\n",
    "Un **generador de funciones** es un dispositivo que crea señales eléctricas de diferentes formas, como **senoidal**, **cuadrada** o **rampa**. Estas señales tienen propiedades como **frecuencia** y **amplitud**. Se usan para probar circuitos electrónicos, estudiar comportamientos de sistemas o simular señales en experimentos.\n",
    "\n",
    "En el laboratorio pueden encontrarse con generadores tektronix de dos familias:\n",
    "- AFG3000 series\n",
    "- AFG1000 series"
   ]
  },
  {
   "cell_type": "markdown",
   "id": "84b3e565",
   "metadata": {},
   "source": [
    "La idea de este tutorial es mostrar como se operán estos instrumentos a partir del standart NI-VISA utilizando como interfaz la librería pyvisa de Python. Empezamos importando las librerias que vamos a utilizar:"
   ]
  },
  {
   "cell_type": "code",
   "execution_count": 1,
   "id": "bd8d4f27-3552-4296-8f94-a98adfaf495a",
   "metadata": {},
   "outputs": [],
   "source": [
    "import pyvisa                               # para comunicarnos con los equipos\n",
    "import numpy as np                          # para operar con listas de datos\n",
    "import pandas as pd                         # para manejar archivos de datos: Guardar, abrir, etc\n",
    "import matplotlib.pyplot as plt             # para graficar \n",
    "import time                                 # para realizar pausas entre mediciones"
   ]
  },
  {
   "cell_type": "markdown",
   "id": "bf2eb0a0",
   "metadata": {},
   "source": [
    "En primer lugar, necesitamos un objeto que nos permita comunicarnos e interactuar con los instrumentos que tenemos conectados vía puerto USB, GPIB, Serial (RS232), Ethernet, etc. Este objeto se conoce como Resource Manager y lo invocamos desde la librería pyvisa:"
   ]
  },
  {
   "cell_type": "code",
   "execution_count": null,
   "id": "c3eefa4c",
   "metadata": {},
   "outputs": [],
   "source": [
    "rm = pyvisa.ResourceManager()"
   ]
  },
  {
   "cell_type": "markdown",
   "id": "9ce3c58c",
   "metadata": {},
   "source": [
    "Este se utiliza para: (a) detectar dispositivos conectados y listar todos los recursos disponibles y (b) crear interfases para comunicarnos con dispositivos.\n",
    "\n",
    "Una vez defido el objeto **rm**, podemos listar los instrumentos conectados a nuestra PC: "
   ]
  },
  {
   "cell_type": "code",
   "execution_count": null,
   "id": "ed54aee0",
   "metadata": {},
   "outputs": [],
   "source": [
    "instrumentos_conectados = rm.list_resources()           # lista de instrumentos conectados\n",
    "\n",
    "print (instrumentos_conectados)"
   ]
  },
  {
   "cell_type": "markdown",
   "id": "9983658d",
   "metadata": {},
   "source": [
    "De la lista obtenida en la celda anterior, buscamos el generador con el que queremos interactuar. Copiamos el nombre y lo pegamos en la variable instrumento, luego procedemos a establecer la comunicación con el equipo:"
   ]
  },
  {
   "cell_type": "code",
   "execution_count": null,
   "id": "ff4cdc2f",
   "metadata": {},
   "outputs": [],
   "source": [
    "instrumento = 'puerto::marca::modelo::NroSerie'         # colocar acá el instrumento asociado al oscilascopio \n",
    "\n",
    "gen = rm.open_resource(instrumento)                     # Establesco comunicación con el osciloscopio"
   ]
  },
  {
   "cell_type": "markdown",
   "id": "800a2677",
   "metadata": {},
   "source": [
    "El objeto *gen* será nuestra interfase, éste nos permite interactuar con el generador de funciones utilizando rutinas estándar. Generalmente, realizamos dos tipos de operaciones:\n",
    "\n",
    "- Enviar un comando al instrumento para configurar parámetros o iniciar procesos sin esperar ninguna respuesta. Esto se realiza mediante rutinas de tipo **write**.\n",
    "  \n",
    "- Enviar un comando al instrumento y esperar una respuesta, como por ejemplo, obtener los datos que estoy midiendo o consultar el estado del instrumento. Esto se realiza mediante rutinas de tipo **query**.\n",
    "\n",
    "El lenguaje que utilizamos para comunicarnos con el equipo está definido en el estándar [**SCPI**](https://en.wikipedia.org/wiki/Standard_Commands_for_Programmable_Instruments) (Standard Commands for Programmable Instruments), el cual es ampliamente utilizado para la comunicación remota con equipos de instrumentación como osciloscopios, multímetros y generadores de funciones."
   ]
  },
  {
   "cell_type": "markdown",
   "id": "0a5e7b56",
   "metadata": {},
   "source": [
    "### 1- Generación de funciones\n",
    "\n",
    "Establecida la conexión con el generador de función, a continuación mostramos como configurar el equipo para que entregue distintos tipos de funciones.\n",
    "\n",
    "#### 1.1. Señal sinusoidal "
   ]
  },
  {
   "cell_type": "code",
   "execution_count": null,
   "id": "d76fa192",
   "metadata": {},
   "outputs": [],
   "source": [
    "gen.write('SOURCE1:FREQUENCY 1kHz') #Hz; kHz; MHz"
   ]
  },
  {
   "cell_type": "code",
   "execution_count": null,
   "id": "81956987",
   "metadata": {},
   "outputs": [],
   "source": [
    "gen.write(\"SOURCE1:FUNC RAMP\")\n",
    "gen.write(\"SOURCE1:FREQ 1000\")\n",
    "gen.write(\"SOURCE1:VOLT 5\")\n",
    "gen.write(\"SOURCE1:VOLT:OFFSET 0\")\n",
    "gen.write(\"SOURCE1:FUNC:RAMP:SYMMETRY 50\")"
   ]
  },
  {
   "cell_type": "code",
   "execution_count": null,
   "id": "f05cb9d0",
   "metadata": {},
   "outputs": [],
   "source": [
    "\n",
    "\n",
    "\n",
    "gen.write(\"SOURCE1:FUNC RAMP\")\n",
    "\n",
    "\n",
    "\n",
    "gen.write('SOUR1:VOLT:OFFS 0mV') #Seteo del offset\n",
    "gen.write('SOURce1:VOLTage 0.5Vpp') #Seteo de la amplitud pico a pico\n",
    "time.sleep(1)\n",
    "gen.write('SOURCE2:FREQUENCY 100') #Por default las unidades son Hz;\n",
    "\n",
    "#Si le queremos preguntar la amplitud del canal 1\n",
    "print(gen.query('SOUR1:VOLT?')) #Version reducida del comando"
   ]
  }
 ],
 "metadata": {
  "kernelspec": {
   "display_name": "base",
   "language": "python",
   "name": "python3"
  },
  "language_info": {
   "codemirror_mode": {
    "name": "ipython",
    "version": 3
   },
   "file_extension": ".py",
   "mimetype": "text/x-python",
   "name": "python",
   "nbconvert_exporter": "python",
   "pygments_lexer": "ipython3",
   "version": "3.10.14"
  }
 },
 "nbformat": 4,
 "nbformat_minor": 5
}
