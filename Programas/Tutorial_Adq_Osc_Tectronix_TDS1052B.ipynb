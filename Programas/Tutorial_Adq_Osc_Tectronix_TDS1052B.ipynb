{
 "cells": [
  {
   "cell_type": "markdown",
   "metadata": {},
   "source": [
    "## Adquisición con osciloscopio Tektronix TDS1052B\n",
    "\n",
    "En este tutorial, mostramos cómo utilizar la biblioteca de Python [**PyVISA**](https://pyvisa.readthedocs.io/en/latest/) para comunicarnos con el osciloscopio [**TDS1052B**](https://drive.google.com/file/d/1RWL1YynB5UbAedhVg5HxluuabhzyV4i3/view?usp=sharing) a través del estándar [**NI-VISA**](https://en.wikipedia.org/wiki/Virtual_instrument_software_architecture) y adquirir datos de la señal obtenida como resultado del proceso de medición en nuestro experimento.\n",
    "\n",
    "En primer lugar, importamos las bibliotecas que utilizaremos en este script:"
   ]
  },
  {
   "cell_type": "code",
   "execution_count": null,
   "metadata": {},
   "outputs": [],
   "source": [
    "import pyvisa                               # para comunicarnos con los equipos\n",
    "import numpy as np                          # para operar con listas de datos\n",
    "import pandas as pd                         # para manejar archivos de datos: Guardar, abrir, etc\n",
    "import matplotlib.pyplot as plt             # para graficar \n",
    "import time                                 # para realizar pausas entre mediciones"
   ]
  },
  {
   "cell_type": "markdown",
   "metadata": {},
   "source": [
    "Vamos a mostrar cómo efectuar dos tipos de adquisiciones distintas:\n",
    "\n",
    "1. Adquisición de una curva mostrada por el osciloscopio.\n",
    "2. Mediciones matemáticas sobre la señal.\n",
    "\n",
    "Para ambos casos, en primer lugar, necesitamos definir un objeto que nos permita comunicarnos e interactuar con los instrumentos que tenemos conectados vía puerto USB, GPIB, Serial (RS232), Ethernet, etc. Este objeto se conoce como Resource Manager y lo invocamos desde la librería pyvisa:"
   ]
  },
  {
   "cell_type": "code",
   "execution_count": null,
   "metadata": {},
   "outputs": [],
   "source": [
    "rm = pyvisa.ResourceManager()            # Defino objeto resource manager de pyvisa"
   ]
  },
  {
   "cell_type": "markdown",
   "metadata": {},
   "source": [
    "Este se utiliza para: (a) detectar dispositivos conectados y listar todos los recursos disponibles y (b) crear interfases para comunicarnos con dispositivos.\n",
    "\n",
    "Una vez defido el objeto **rm**, podemos listar los instrumentos conectados a nuestra PC: "
   ]
  },
  {
   "cell_type": "code",
   "execution_count": null,
   "metadata": {},
   "outputs": [],
   "source": [
    "instrumentos_conectados = rm.list_resources()           # lista con los instrumentos conectados\n",
    "\n",
    "print (instrumentos_conectados)"
   ]
  },
  {
   "cell_type": "markdown",
   "metadata": {},
   "source": [
    "De la lista obtenida en la celda anterior, vemos que cada instrumento es identificado con un *string* de la siguiente manera: `puerto::marca::modelo::NroSerie`. Para identificar cual de todos es el osciloscopio, buscamos el *modelo* en la etiqueta ubicada en la parte trasera del equipo. Una vez identificado, copiamos el nombre y lo pegamos en la variable *instrumento*, luego procedemos a establecer la comunicación con el equipo:"
   ]
  },
  {
   "cell_type": "code",
   "execution_count": null,
   "metadata": {},
   "outputs": [],
   "source": [
    "instrumento = 'puerto::marca::modelo::NroSerie'         # colocar acá el instrumento asociado al oscilascopio \n",
    "\n",
    "osci = rm.open_resource(instrumento)                    # Establesco comunicación con el osciloscopio"
   ]
  },
  {
   "cell_type": "markdown",
   "metadata": {},
   "source": [
    "El objeto *osci* será nuestra interfase, éste nos permite interactuar con el osciloscopio utilizando rutinas estándar. Generalmente, realizamos dos tipos de operaciones:\n",
    "\n",
    "- Enviar un comando al instrumento para configurar parámetros o iniciar procesos sin esperar ninguna respuesta. Esto se realiza mediante rutinas de tipo **write**.\n",
    "  \n",
    "- Enviar un comando al instrumento y esperar una respuesta, como por ejemplo, obtener los datos que estoy midiendo o consultar el estado del instrumento. Esto se realiza mediante rutinas de tipo **query**.\n",
    "\n",
    "El lenguaje que utilizamos para comunicarnos con el equipo está definido en el estándar [**SCPI**](https://en.wikipedia.org/wiki/Standard_Commands_for_Programmable_Instruments) (Standard Commands for Programmable Instruments), el cual es ampliamente utilizado para la comunicación remota con equipos de instrumentación como osciloscopios, multímetros y generadores de funciones."
   ]
  },
  {
   "cell_type": "markdown",
   "metadata": {},
   "source": [
    "### 1. Adquicisión de una curva mostrada por el osciloscopio\n",
    "\n",
    "Estás utilizando el osciloscopio para medir la caída de tensión en un componente de tu circuito y visualizas una curva. Te interesa adquirir la curva observada para realizar algún tipo de análisis de datos en la PC. A continuación, te explico cómo hacerlo.\n",
    "\n",
    "Primero, configuramos el equipo en AUTOSET. Esto le indica al osciloscopio que ajuste su configuración para optimizar la visualización de la señal que está midiendo, en particular nos interesa que realize un ajuste automático de la escala. Para esto, escribimos:"
   ]
  },
  {
   "cell_type": "code",
   "execution_count": null,
   "metadata": {},
   "outputs": [],
   "source": [
    "osci.write('AUTOS EXEC')   # Equivalente a apretar el boton AUTOSET del equipo, \n",
    "time.sleep(5)                   "
   ]
  },
  {
   "cell_type": "markdown",
   "metadata": {},
   "source": [
    "La rutina *time.sleep()* genera una pausa de 5 segundos, tiempo de espera necesario para que el equipo optimice la visualización de la señal antes de poder recibir otra orden.\n",
    "\n",
    "Una vez transcurrido el tiempo de espera, encendemos el canal del equipo con el que queremos adquirir, en este caso, el canal 1 (CH1):"
   ]
  },
  {
   "cell_type": "code",
   "execution_count": null,
   "metadata": {},
   "outputs": [],
   "source": [
    "osci.write('SEL:CH1 ON')        # select:channel1 ON"
   ]
  },
  {
   "cell_type": "markdown",
   "metadata": {},
   "source": [
    "Ahora le indicamos al equipo cómo debe codificar los datos de salida. En este caso, utilizaremos datos **Raw Binary** (RPB), lo que significa que queremos los datos en formato binario crudo, sin ningún tipo de procesamiento o compresión:"
   ]
  },
  {
   "cell_type": "code",
   "execution_count": null,
   "metadata": {},
   "outputs": [],
   "source": [
    "osci.write('DAT:ENC RPB')"
   ]
  },
  {
   "cell_type": "markdown",
   "metadata": {},
   "source": [
    "A continuación, seteamos el ancho de banda en *1 byte*. Es decir, establecemos que el osciloscopio envie datos como valores de 8 bits por muestra:"
   ]
  },
  {
   "cell_type": "code",
   "execution_count": null,
   "metadata": {},
   "outputs": [],
   "source": [
    "osci.write('DAT:WID 1')         # data band width 1 byte"
   ]
  },
  {
   "cell_type": "markdown",
   "metadata": {},
   "source": [
    "Configuramos el osciloscopio para que la fuente de datos sea el canal 1 (CH1). Esto significa que, al realizar operaciones de adquisición o cálculos posteriormente, el osciloscopio usará la señal medida en el canal 1:"
   ]
  },
  {
   "cell_type": "code",
   "execution_count": null,
   "metadata": {},
   "outputs": [],
   "source": [
    "osci.write('DAT:SOU CH1')       # data:source channel1"
   ]
  },
  {
   "cell_type": "markdown",
   "metadata": {},
   "source": [
    "Si estamos por tomar los datos y la pantalla se mueve mucho, por ejemplo por una señal ruidosa, es conveniente congelar la pantalla antes de medir. Eso se hace con el comando:"
   ]
  },
  {
   "cell_type": "code",
   "execution_count": null,
   "metadata": {},
   "outputs": [],
   "source": [
    "osci.write('ACQ:STATE OFF')    "
   ]
  },
  {
   "cell_type": "markdown",
   "metadata": {},
   "source": [
    "Pedimos también que los datos sean transmitidos limpiamente, sin encabezados:"
   ]
  },
  {
   "cell_type": "code",
   "execution_count": null,
   "metadata": {},
   "outputs": [],
   "source": [
    "osci.write('HEADER OFF')"
   ]
  },
  {
   "cell_type": "markdown",
   "metadata": {},
   "source": [
    "Una vez fijada la fuente de datos y congelado la pantalla, solicitamos al osciloscopio algunos parámetros relacionados con la escala de la señal que estamos adquiriendo:"
   ]
  },
  {
   "cell_type": "code",
   "execution_count": null,
   "metadata": {},
   "outputs": [],
   "source": [
    "xze, xin, yze, ymu, yoff = osci.query_ascii_values('WFMPRE:XZE?;XIN?;YZE?;YMU?;YOFF?;',separator=';') #waveform preamble information"
   ]
  },
  {
   "cell_type": "markdown",
   "metadata": {},
   "source": [
    "En este comando multiple estamos solicitando: \n",
    "\n",
    "- 'WFMPRE:XZE?': Pide el desplazamiento horizontal inicial (XZE), que es el tiempo correspondiente al primer punto de la señal.\n",
    "- 'WFMPRE:XIN?': Pide el intervalo de muestreo (XIN), que es el tiempo entre muestras consecutivas.\n",
    "- 'WFMPRE:YZE?': Pide el desplazamiento vertical cero (YZE), que es el nivel de voltaje que corresponde a un valor digital de cero.\n",
    "- 'WFMPRE:YMU?': Pide la escala vertical (YMU), que convierte unidades digitales a unidades físicas (típicamente voltios).\n",
    "- 'WFMPRE:YOFF?': Pide el desplazamiento vertical (YOFF), que corrige la señal para que el cero físico corresponda al cero digital.\n",
    "\n",
    "Más adelante utilizaremos estos parámetros para escribir la curva en terminos de las magnitudes físicas correspondientes.\n",
    "\n",
    "Ahora si, finalmente, adquirimos la curva que observamos en el osciloscopio:"
   ]
  },
  {
   "cell_type": "code",
   "execution_count": null,
   "metadata": {},
   "outputs": [],
   "source": [
    "dataCH1 = osci.query_binary_values('CURV?', datatype='B', container=np.array) "
   ]
  },
  {
   "cell_type": "markdown",
   "metadata": {},
   "source": [
    "Los argumentos de la función *osci.query_binary_values()* indican:\n",
    "\n",
    "- 'CURV?': Es la consulta que se realiza al dispositivo. En este caso, 'CURV?' generalmente se usa para solicitar datos de forma de onda (curva) del osciloscopio. Esto indica que el dispositivo debe enviar datos binarios de la forma de onda.\n",
    "\n",
    "- datatype='B': Especifica el tipo de datos que se esperan recibir del dispositivo. 'B' indica que los datos se recibirán como bytes (es decir, valores enteros de 8 bits sin signo).\n",
    "\n",
    "- container=np.array: Especifica el contenedor en el que se deben almacenar los datos recibidos. *np.array* indica que los datos se almacenarán en un array de NumPy.\n",
    "\n",
    "Hecha la medición, podemos descongelar la pantalla para eventualmente realizar otra medición:"
   ]
  },
  {
   "cell_type": "code",
   "execution_count": null,
   "metadata": {},
   "outputs": [],
   "source": [
    "osci.write('ACQ:STATE ON')"
   ]
  },
  {
   "cell_type": "markdown",
   "metadata": {},
   "source": [
    "Ya con la curva adquirida, utilizamos los parámetros para re-escribir la curva en terminos de las magnitudes físicas correspondientes: "
   ]
  },
  {
   "cell_type": "code",
   "execution_count": null,
   "metadata": {},
   "outputs": [],
   "source": [
    "t = xze + np.arange(len(dataCH1)) * xin             # Conversion a tiempo en segundos\n",
    "\n",
    "VCH1 = (dataCH1 - yoff) * ymu + yze                 # Conversion a voltaje en Volts"
   ]
  },
  {
   "cell_type": "markdown",
   "metadata": {},
   "source": [
    "Hacemos un gráfico para visualizar los datos:"
   ]
  },
  {
   "cell_type": "code",
   "execution_count": null,
   "metadata": {},
   "outputs": [],
   "source": [
    "fig, ax  =  plt.subplots()\n",
    "\n",
    "ax.plot(t, VCH1, label=\"CH1\")\n",
    "\n",
    "ax.set_xlabel('Tiempo [s]')\n",
    "ax.set_ylabel('Voltaje [V]')\n",
    "\n",
    "plt.show()"
   ]
  },
  {
   "cell_type": "markdown",
   "metadata": {},
   "source": [
    "Queremos guardar los datos medidos, una forma sencilla es hacerlo a través de la libreria *pandas*. Primero definimos un objeto *DataFrame* al cual le pasamos como argumentos los datos y los nombres de las columnas:"
   ]
  },
  {
   "cell_type": "code",
   "execution_count": null,
   "metadata": {},
   "outputs": [],
   "source": [
    "df = pd.DataFrame( [t, VCH1], columns=[\"tiempo\", \"voltaje\"] )  "
   ]
  },
  {
   "cell_type": "markdown",
   "metadata": {},
   "source": [
    "El objeto resultante, *df*, es un tipo de estructura de datos en Pandas que funciona como una tabla, similar a una hoja de cálculo o una base de datos, donde a partir de varias rutinas de la librería, podemos almacenar y manipular datos organizados en filas y columnas.\n",
    "\n",
    "Hecho esto, definimos una carpeta de destino para los datos, un nombre, y guardamos el conjunto de datos en un archivo tipo *Comma Separated Values* (*.csv*):"
   ]
  },
  {
   "cell_type": "code",
   "execution_count": null,
   "metadata": {},
   "outputs": [],
   "source": [
    "carpeta = \"path/to/you/folder/\"                       # indicar direccion de la carpeta donde se guardarán los datos\n",
    "\n",
    "df.to_csv( carpeta+\"voltaje_CH1.csv\", index=False )"
   ]
  },
  {
   "cell_type": "markdown",
   "metadata": {},
   "source": [
    "### 2. Mediciones matemáticas sobre la señal\n",
    "\n",
    "Estamos midiendo la caída de tensión sobre un componente de nuestro circuito. Para esto estamos utilizando el canal 1 del osciloscopio (CH1). Visualizamos la curva en el osciloscopio y queremos obtener de ésta la amplitud y la fase. Para realizar estas mediciones, vamos a utilizar el comando **MEASUREMENT**.\n",
    "\n",
    "#### 2.1. Medición de amplitud de la señal\n",
    "\n",
    "En primer lugar configuramos al canal 1 como la fuente para la medición número 1 en el osciloscopio:"
   ]
  },
  {
   "cell_type": "code",
   "execution_count": null,
   "metadata": {},
   "outputs": [],
   "source": [
    "osci.write('MEASU:MEAS1:SOURCE CH1')"
   ]
  },
  {
   "cell_type": "markdown",
   "metadata": {},
   "source": [
    "Para medir la amplitud, configuramos al osciloscopio para que la medición 1 sea del tipo *Root Mean Square* (RMS), es decir pedimos que cuando midamos nos entregue el voltaje eficaz de la señal:"
   ]
  },
  {
   "cell_type": "code",
   "execution_count": null,
   "metadata": {},
   "outputs": [],
   "source": [
    "osci.write('MEASU:MEAS1:TYPE CRMS')  "
   ]
  },
  {
   "cell_type": "markdown",
   "metadata": {},
   "source": [
    "Antes de medir ajusto la escala del ociloscopio y le doy 5 segundos de pausa antes de ejecutar un nuevo comando"
   ]
  },
  {
   "cell_type": "code",
   "execution_count": null,
   "metadata": {},
   "outputs": [],
   "source": [
    "osci.write('AUTOS EXEC')\n",
    "time.sleep(5)"
   ]
  },
  {
   "cell_type": "markdown",
   "metadata": {},
   "source": [
    "Mido la amplitud en el canal 1:"
   ]
  },
  {
   "cell_type": "code",
   "execution_count": null,
   "metadata": {},
   "outputs": [],
   "source": [
    "ACH1= float(osci.query('MEASU:MEAS1:VALue?')) # "
   ]
  },
  {
   "cell_type": "markdown",
   "metadata": {},
   "source": [
    "Note que *osci.query('MEASU:MEAS1:VALue?')* devuelve un string con el valor medido, como por ejemplo \"0.1234\" o \"1.56E-03\". Para convertirlo a un número flotante y poder hacer cálculos con él, es necesario usar la rutina *float()*.\n",
    "\n",
    "Por último queremos obtener la incertidumbre en la medicion, para eso utilizamos la expresión:\n",
    "\n",
    "\n",
    "$\\Delta A = \\Delta A_{\\text{rel}} + \\Delta A_{\\text{res}}$\n",
    "\n",
    "Donde:  \n",
    "- $ \\Delta A_{\\text{rel}}$: Error relativo asociado al sistema de medición.  \n",
    "- $ \\Delta A_{\\text{res}}$: Error debido a la resolución del sistema (cuantización).\n",
    "\n",
    "Cálculo de cada término:\n",
    "\n",
    "1. **Error relativo ($ \\Delta A_{\\text{rel}}$)**  \n",
    "    $\\Delta A_{\\text{rel}} = \\alpha ACH1$\n",
    "    \n",
    "    Donde:  \n",
    "    - $ACH1$ es la amplitud medida.\n",
    "    - $\\alpha$ es el error relativo dado por el fabricante del dispositivo (en este osciloscopio, $\\alpha = 0.03$ o $3\\%$).\n",
    "\n",
    "2. **Error de resolución ($\\Delta A_{\\text{res}}$)**  \n",
    "   $\\Delta A_{\\text{res}} = \\frac{\\text{escalav1} \\times (R/N)}{2}$\n",
    "\n",
    "   Donde:  \n",
    "   - $\\text{escalav1}$ es la escala de medición (por ejemplo 0.1 V/div).  \n",
    "   - $R$ es el rango total del sistema, es la diferencia entre el máximo y el mínimo voltaje que el osciloscopio puede medir.\n",
    "    En este modelo R=10 V (mide de -5 V a +5 V).  \n",
    "   - $N$ es el número de niveles de cuantización, como estoy midiendo con 8 bits, N = 255.\n",
    "   - El factor 2 indica estamos considerando que el error de resolución podría ser de hasta la mitad del intervalo de cuantización.\n",
    "\n",
    "Note que, necesitamos la escala vertical (o sensibilidad) del canal 1 para realizar el cálculo. Para obtenerla ejecutamos:"
   ]
  },
  {
   "cell_type": "code",
   "execution_count": null,
   "metadata": {},
   "outputs": [],
   "source": [
    "escalav1 = float(osci.query('CH1:SCAle?'))"
   ]
  },
  {
   "cell_type": "markdown",
   "metadata": {},
   "source": [
    "El error de medición entonces se calcula como:"
   ]
  },
  {
   "cell_type": "code",
   "execution_count": null,
   "metadata": {},
   "outputs": [],
   "source": [
    "errACH1 = 0.03*ACH1 + (escalav1*(10/255))/2.0"
   ]
  },
  {
   "cell_type": "markdown",
   "metadata": {},
   "source": [
    "#### 2.2. Medición de la fase de la señal"
   ]
  },
  {
   "cell_type": "markdown",
   "metadata": {},
   "source": [
    "Al igual que antes utilizamos el comando MEASUREMENT, el procedimiento es similar al caso de la amplitud: \n",
    "\n",
    "Definimos la medicion 2 (MEAS2) con fuente en el canal 1, configuramos el tipo de medicion 2 en *tipo fase*, y ejecutamos un *query* para adquirir el valor:"
   ]
  },
  {
   "cell_type": "code",
   "execution_count": null,
   "metadata": {},
   "outputs": [],
   "source": [
    "osci.write('MEASU:MEAS2:SOURCE CH1')\n",
    "\n",
    "osci.write('MEASU:MEAS2:TYPE PHAse')\n",
    "\n",
    "fase = osci.query_ascii_values('MEASU:MEAS3:VAL?')      # en radianes (tipo float)"
   ]
  },
  {
   "cell_type": "markdown",
   "metadata": {},
   "source": [
    "Nota: ¿Cómo mide la fase el osciloscopio?\n",
    "\n",
    "- Calcula el instante en el que la señal cruza el eje horizontal en la dirección positiva por primera vez (cero cruzado ascendente de la señal ), $\\Delta t$.\n",
    "- Calcula el período de la señal, T.\n",
    "- Para cálcular la fase utiliza la relación $\\phi = 2 \\pi \\frac{\\Delta t}{T}$."
   ]
  }
 ],
 "metadata": {
  "kernelspec": {
   "display_name": "Python 3 (ipykernel)",
   "language": "python",
   "name": "python3"
  },
  "language_info": {
   "codemirror_mode": {
    "name": "ipython",
    "version": 3
   },
   "file_extension": ".py",
   "mimetype": "text/x-python",
   "name": "python",
   "nbconvert_exporter": "python",
   "pygments_lexer": "ipython3",
   "version": "3.10.14"
  }
 },
 "nbformat": 4,
 "nbformat_minor": 4
}
