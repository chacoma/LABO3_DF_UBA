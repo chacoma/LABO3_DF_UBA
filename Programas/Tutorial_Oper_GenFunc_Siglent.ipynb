{
 "cells": [
  {
   "cell_type": "markdown",
   "id": "bb32e7dc-420e-4352-94ac-80520f0928a5",
   "metadata": {},
   "source": [
    "### Operación remota de generadores de funciones de la marca **Siglent**\n",
    "\n",
    "De la marca Siglent, en el laboratorio 3 están disponible los modelos:\n",
    "- SDG1050\n",
    "- SDG1010\n",
    "\n",
    "La idea de este tutorial es mostrar como se operan estos instrumentos a partir del standart NI-VISA utilizando como interfaz la [librería pyvisa](https://pyvisa.readthedocs.io/en/latest/) de Python. Ambos modelos utilizan el mismo lenguaje.\n",
    "\n",
    "[Ver manual de programación de SDG serie 1000](https://asignaturas.df.uba.ar/l3-raspa/wp-content/uploads/sites/26/2025/02/SDG-Programming-Guide-.pdf).\n",
    "\n",
    "Empezamos importando las librerías necesarias:"
   ]
  },
  {
   "cell_type": "code",
   "execution_count": null,
   "id": "bd8d4f27-3552-4296-8f94-a98adfaf495a",
   "metadata": {},
   "outputs": [],
   "source": [
    "import pyvisa                               # para comunicarnos con los equipos\n",
    "import numpy as np                          # manejo de arrays\n",
    "import time                                 # para hacer pausas entre mediciones"
   ]
  },
  {
   "cell_type": "markdown",
   "id": "bf2eb0a0",
   "metadata": {},
   "source": [
    "En primer lugar, necesitamos un objeto que nos permita comunicarnos e interactuar con los instrumentos que tenemos conectados vía puerto USB, GPIB, Serial (RS232), Ethernet, etc. Ese objeto es el *resource manager* (administrador de recursos) y la invocamos desde la librería pyvisa:"
   ]
  },
  {
   "cell_type": "code",
   "execution_count": null,
   "id": "c3eefa4c",
   "metadata": {},
   "outputs": [],
   "source": [
    "rm = pyvisa.ResourceManager()"
   ]
  },
  {
   "cell_type": "markdown",
   "id": "9ce3c58c",
   "metadata": {},
   "source": [
    "El resource manager (rm) se utiliza para: (a) detectar dispositivos conectados y listar todos los recursos disponibles y (b) crear interfases para comunicarnos con dispositivos.\n",
    "\n",
    "Una vez definido el objeto **rm**, podemos listar los instrumentos conectados a nuestra PC: "
   ]
  },
  {
   "cell_type": "code",
   "execution_count": null,
   "id": "ed54aee0",
   "metadata": {},
   "outputs": [],
   "source": [
    "instrumentos_conectados = rm.list_resources()           # lista de instrumentos conectados\n",
    "\n",
    "print (instrumentos_conectados)"
   ]
  },
  {
   "cell_type": "markdown",
   "id": "9983658d",
   "metadata": {},
   "source": [
    "De la lista obtenida en la celda anterior, buscamos el generador. Copiamos el nombre y lo pegamos en la variable instrumento, luego procedemos a establecer la comunicación con el equipo:"
   ]
  },
  {
   "cell_type": "code",
   "execution_count": null,
   "id": "ff4cdc2f",
   "metadata": {},
   "outputs": [],
   "source": [
    "instrumento = 'puerto::marca::modelo::NroSerie'         # colocar acá el instrumento asociado al osciloscopio \n",
    "\n",
    "gen = rm.open_resource(instrumento)                     # Establezco comunicación con el osciloscopio\n",
    "\n",
    "gen.query('*IDN?')                                      # le pedimos que se identifique para checkear conexión"
   ]
  },
  {
   "cell_type": "markdown",
   "id": "800a2677",
   "metadata": {},
   "source": [
    "El objeto *gen* será nuestra interfase, éste nos permite interactuar con el generador de funciones utilizando rutinas estándar. Generalmente, realizamos dos tipos de operaciones:\n",
    "\n",
    "- Enviar un comando al instrumento para configurar parámetros o iniciar procesos sin esperar ninguna respuesta. Esto se realiza mediante rutinas de tipo **write**.\n",
    "  \n",
    "- Enviar un comando al instrumento y esperar una respuesta, como por ejemplo, obtener los datos que estoy midiendo o consultar el estado del instrumento. Esto se realiza mediante rutinas de tipo **query**.\n",
    "\n",
    "El lenguaje que utilizamos para comunicarnos con el equipo está definido en el estándar [**SCPI**](https://en.wikipedia.org/wiki/Standard_Commands_for_Programmable_Instruments) (Standard Commands for Programmable Instruments), el cual es ampliamente utilizado para la comunicación remota con equipos de instrumentación como osciloscopios, multímetros y generadores de funciones."
   ]
  },
  {
   "cell_type": "markdown",
   "id": "0a5e7b56",
   "metadata": {},
   "source": [
    "### 1- Generación de funciones\n",
    "\n",
    "Establecida la conexión con el generador de función, a continuación mostramos como configurar el equipo para que entregue distintos tipos de señales.\n",
    "\n",
    "#### 1.1. Señal sinusoidal \n",
    "\n",
    "En primer lugar, apago la salida. Esto es opcional pero es una buena costumbre:"
   ]
  },
  {
   "cell_type": "code",
   "execution_count": null,
   "id": "72f5a3fc",
   "metadata": {},
   "outputs": [],
   "source": [
    "gen.write('C1:OUTP OFF')  "
   ]
  },
  {
   "cell_type": "markdown",
   "id": "8a5984c2",
   "metadata": {},
   "source": [
    "Para generar una función sinusoide necesitamos definir tres parámetros: Amplitud, frecuencia y fase, esto dependerá del experimento. Por ejemplo, supongamos:"
   ]
  },
  {
   "cell_type": "code",
   "execution_count": null,
   "id": "ab2b7a0b",
   "metadata": {},
   "outputs": [],
   "source": [
    "ampli= 4.            # voltaje pico a pico\n",
    "freq = 1000.         # en Hz \n",
    "fase = 180.          # en grados"
   ]
  },
  {
   "cell_type": "markdown",
   "id": "0395ab88",
   "metadata": {},
   "source": [
    "configuramos la señal:"
   ]
  },
  {
   "cell_type": "code",
   "execution_count": null,
   "id": "49876351",
   "metadata": {},
   "outputs": [],
   "source": [
    "gen.write('C1:BSWV WVTP,SINE,FRQ,%.2f,AMP,%.2f,PHSE,%.2f'% (freq, ampli, fase)   ) "
   ]
  },
  {
   "cell_type": "markdown",
   "id": "8eef63be",
   "metadata": {},
   "source": [
    "**Descomposición del comando:**\n",
    "\n",
    "- C1: Indica que la configuración es para el canal 1 del generador (usar C2: para el canal 2).\n",
    "\n",
    "- BSWV (Basic Waveform): Especifica que estamos configurando los parámetros básicos de una señal de forma de onda.\n",
    "\n",
    "- WVTP,SINE (Wave Type): Define el tipo de señal. En este caso, una onda sinusoidal (SINE). \n",
    "\n",
    "    - Otros posibles valores son:\n",
    "\n",
    "        - SQUARE (Cuadrada)\n",
    "        - RAMP (Diente de sierra o triangular)\n",
    "        - PULSE (Pulso)\n",
    "        - NOISE (Ruido)\n",
    "        - DC (Nivel constante)\n",
    "        - ARB (Forma de onda arbitraria)\n",
    "        - FRQ,1000 (Frequency): Define la frecuencia de la onda en Hz. En este caso, es 1000 Hz (1 kHz). Se puede cambiar por cualquier valor dentro del rango permitido por el generador.\n",
    "\n",
    "- AMP,1 (Amplitude):Establece la amplitud pico a pico (Vpp) de la señal. En este caso, es 1 Vpp.También se puede especificar como RMS usando AMPVRMS\n",
    "\n",
    "\n",
    "volvemos a activar el canal para que empiece a generar:"
   ]
  },
  {
   "cell_type": "code",
   "execution_count": null,
   "id": "8ef36853",
   "metadata": {},
   "outputs": [],
   "source": [
    "gen.write('C1:OUTP ON') "
   ]
  },
  {
   "cell_type": "markdown",
   "id": "05a3c370",
   "metadata": {},
   "source": [
    "#### 1.2. Señal tipo Rampa\n",
    "\n",
    "Queremos una señal tipo rampa o diente de sierra. Este tipo de señal crece linealmente por un tiempo para luego decaer linealmente. Los parámetros frecuencia y amplitud son análogos a la señal tipo seno, el parámetro distinto es la simetría que indica el porcentaje de tiempo que la señal esta subiendo. Con simetría 50% la señal tiene el mismo tiempo de bajada que de subida, con simetría 30% le damos solo 30% del tiempo a la subida."
   ]
  },
  {
   "cell_type": "code",
   "execution_count": null,
   "id": "5c9889b3",
   "metadata": {},
   "outputs": [],
   "source": [
    "# Detener la señal antes de configurar\n",
    "gen.write('C1:OUTP OFF')\n",
    "\n",
    "# Configurar la señal tipo rampa\n",
    "gen.write('C1:BSWV WVTP,RAMP,FRQ,1000,AMP,1,SYM,30')  # 1 kHz, 1 Vpp, Simetría 30%\n",
    "\n",
    "# Encender la señal\n",
    "gen.write('C1:OUTP ON')"
   ]
  },
  {
   "cell_type": "markdown",
   "id": "2133fa24-96cf-4982-96ab-0757824d2408",
   "metadata": {},
   "source": [
    "### 2. Barrido en frecuencias\n",
    "\n",
    "Vamos a hacer un barrido en frecuencia de una función sinusoidal, la seteamos en el generador:"
   ]
  },
  {
   "cell_type": "code",
   "execution_count": null,
   "id": "1f753b90",
   "metadata": {},
   "outputs": [],
   "source": [
    "gen.write('C1:BSWV WVTP,SINE' ) "
   ]
  },
  {
   "cell_type": "markdown",
   "id": "023187fa",
   "metadata": {},
   "source": [
    "En primer lugar definimos las frecuencias mínimas y máximas que queremos, así como el numero de freq a explorar en el barrido."
   ]
  },
  {
   "cell_type": "code",
   "execution_count": null,
   "id": "fbb20163-6249-4817-b469-676ea17ce258",
   "metadata": {},
   "outputs": [],
   "source": [
    "frec1 = 10.                # freq mínima\n",
    "frec2 = 1000.              # freq máxima"
   ]
  },
  {
   "cell_type": "markdown",
   "id": "72c23a92-7814-4679-b8e0-7d452f784010",
   "metadata": {},
   "source": [
    "Primero, exploramos un barrido en frecuencias lineal. En este caso, variamos la frecuencia tal que esta se incrementa de manera uniforme entre un valor inicial y un valor final. "
   ]
  },
  {
   "cell_type": "code",
   "execution_count": null,
   "id": "a5beeb00-efd0-4708-89fb-c0941c2ffc95",
   "metadata": {},
   "outputs": [],
   "source": [
    "paso= 100                                          # espaciamiento entre freqs\n",
    "\n",
    "N1 = int( (frec2-frec1)/paso ) +1                  # cant de freqs en el conjunto\n",
    "\n",
    "frecuencias = np.linspace( frec1, frec2, N1 )      # conjunto de freqs\n",
    "\n",
    "\n",
    "for freq in frecuencias:\n",
    "    print (freq)\n",
    "    gen.write('C1:BSWV FRQ,%f' % freq)            # fija la freq en el gen\n",
    "    time.sleep(2)"
   ]
  },
  {
   "cell_type": "markdown",
   "id": "e125c3b9-3572-412d-a84e-26ac537b9d22",
   "metadata": {},
   "source": [
    "Ahora planteamos un barrido logarítmico. En este caso, las frecuencias de prueba se distribuyen de manera que la relación entre frecuencias consecutivas es constante, en lugar de la diferencia absoluta. Esto permite cubrir un rango amplio de frecuencias con mayor detalle en bajas frecuencias y menos puntos en altas frecuencias, siendo útil en análisis de respuesta en frecuencia y caracterización de sistemas que siguen comportamientos exponenciales o de amplio espectro."
   ]
  },
  {
   "cell_type": "code",
   "execution_count": null,
   "id": "500277fc-9210-4995-973c-5f91aaa39f72",
   "metadata": {},
   "outputs": [],
   "source": [
    "frec1 = 10.                # freq mínima\n",
    "frec2 = 1000.              # freq máxima\n",
    "\n",
    "N2=100\n",
    "\n",
    "frecuencias=np.geomspace( frec1, frec2, N2 )\n",
    "\n",
    "for freq in frecuencias:\n",
    "    print (freq)\n",
    "    gen.write('C1:BSWV FRQ,%f' % freq)             # fija freq\n",
    "    time.sleep(2)                                  # da tiempo al instrumento para trabajar"
   ]
  }
 ],
 "metadata": {
  "kernelspec": {
   "display_name": "Python 3 (ipykernel)",
   "language": "python",
   "name": "python3"
  },
  "language_info": {
   "codemirror_mode": {
    "name": "ipython",
    "version": 3
   },
   "file_extension": ".py",
   "mimetype": "text/x-python",
   "name": "python",
   "nbconvert_exporter": "python",
   "pygments_lexer": "ipython3",
   "version": "3.10.14"
  }
 },
 "nbformat": 4,
 "nbformat_minor": 5
}
