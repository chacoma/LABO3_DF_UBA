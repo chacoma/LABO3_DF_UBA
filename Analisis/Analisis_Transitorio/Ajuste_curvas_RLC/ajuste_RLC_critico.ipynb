{
 "cells": [
  {
   "cell_type": "markdown",
   "id": "6eb25306",
   "metadata": {},
   "source": [
    "# Ajuste de las curvas obtenidas en el transitorio del circuito RCL Crítico\n",
    "\n",
    "En este tutorial analizo los datos adquiridos de un circuito **RLC transitorio crítico**.\n",
    "\n",
    "El circuito tiene las siguientes características:\n",
    "\n",
    "```\n",
    " _____ -V0 (PULSE)+ _____ R _____ L _____ C ____   \n",
    "|                     |               |         |  \n",
    "GND                  Vin              VC        GND\n",
    "```\n",
    "\n",
    "Parámetros:\n",
    "- R = 2 $k\\Omega$\n",
    "- L = 100 $mH$\n",
    "- C = 100 $nF$\n",
    "\n",
    "- Tiempo característico $\\tau = 2L/R \\approx 0.0001$ sec\n",
    "- $V_0$ tren de pulsos cuadrados, tension en alto $5V$. Tiempo de alto y tiempo de bajo $10\\tau$\n",
    "- En $V_{in}$ se mide la señal de entrada respecto de GND (masa).\n",
    "- En $V_C$ se mide la tensión en el capacitor respecto de GND (masa).\n",
    "\n",
    "Empezamos importando las librerías necesarias:"
   ]
  },
  {
   "cell_type": "code",
   "execution_count": 20,
   "id": "5e50da8c",
   "metadata": {},
   "outputs": [],
   "source": [
    "import pandas as pd\n",
    "import numpy as np\n",
    "import matplotlib.pyplot as plt\n",
    "\n",
    "from scipy.optimize import curve_fit"
   ]
  },
  {
   "cell_type": "markdown",
   "id": "f45fe605",
   "metadata": {},
   "source": [
    "Cargamos los datos"
   ]
  },
  {
   "cell_type": "code",
   "execution_count": 21,
   "id": "52dcbffd",
   "metadata": {},
   "outputs": [
    {
     "data": {
      "text/html": [
       "<div>\n",
       "<style scoped>\n",
       "    .dataframe tbody tr th:only-of-type {\n",
       "        vertical-align: middle;\n",
       "    }\n",
       "\n",
       "    .dataframe tbody tr th {\n",
       "        vertical-align: top;\n",
       "    }\n",
       "\n",
       "    .dataframe thead th {\n",
       "        text-align: right;\n",
       "    }\n",
       "</style>\n",
       "<table border=\"1\" class=\"dataframe\">\n",
       "  <thead>\n",
       "    <tr style=\"text-align: right;\">\n",
       "      <th></th>\n",
       "      <th>time</th>\n",
       "      <th>Vin</th>\n",
       "      <th>VC</th>\n",
       "      <th>I</th>\n",
       "    </tr>\n",
       "  </thead>\n",
       "  <tbody>\n",
       "    <tr>\n",
       "      <th>0</th>\n",
       "      <td>0.000000e+00</td>\n",
       "      <td>-0.004517</td>\n",
       "      <td>-0.030526</td>\n",
       "      <td>5.209502e-08</td>\n",
       "    </tr>\n",
       "    <tr>\n",
       "      <th>1</th>\n",
       "      <td>1.428571e-10</td>\n",
       "      <td>0.715972</td>\n",
       "      <td>0.015663</td>\n",
       "      <td>2.360429e-06</td>\n",
       "    </tr>\n",
       "    <tr>\n",
       "      <th>2</th>\n",
       "      <td>2.857143e-10</td>\n",
       "      <td>1.433148</td>\n",
       "      <td>0.023521</td>\n",
       "      <td>-7.645043e-07</td>\n",
       "    </tr>\n",
       "    <tr>\n",
       "      <th>3</th>\n",
       "      <td>4.285714e-10</td>\n",
       "      <td>2.127252</td>\n",
       "      <td>0.015965</td>\n",
       "      <td>-4.490775e-07</td>\n",
       "    </tr>\n",
       "    <tr>\n",
       "      <th>4</th>\n",
       "      <td>5.714286e-10</td>\n",
       "      <td>2.859388</td>\n",
       "      <td>0.015971</td>\n",
       "      <td>-7.206572e-07</td>\n",
       "    </tr>\n",
       "  </tbody>\n",
       "</table>\n",
       "</div>"
      ],
      "text/plain": [
       "           time       Vin        VC             I\n",
       "0  0.000000e+00 -0.004517 -0.030526  5.209502e-08\n",
       "1  1.428571e-10  0.715972  0.015663  2.360429e-06\n",
       "2  2.857143e-10  1.433148  0.023521 -7.645043e-07\n",
       "3  4.285714e-10  2.127252  0.015965 -4.490775e-07\n",
       "4  5.714286e-10  2.859388  0.015971 -7.206572e-07"
      ]
     },
     "execution_count": 21,
     "metadata": {},
     "output_type": "execute_result"
    }
   ],
   "source": [
    "df = pd.read_csv(\"datos/data_RLC_critico.csv\")\n",
    "\n",
    "df.head()"
   ]
  },
  {
   "cell_type": "markdown",
   "id": "e1d26141",
   "metadata": {},
   "source": [
    "Hacemos un plot exploratorio:"
   ]
  },
  {
   "cell_type": "code",
   "execution_count": 22,
   "id": "8ba69739",
   "metadata": {},
   "outputs": [
    {
     "data": {
      "text/plain": [
       "<Axes: xlabel='time'>"
      ]
     },
     "execution_count": 22,
     "metadata": {},
     "output_type": "execute_result"
    },
    {
     "data": {
      "image/png": "[encoded data removed]",
      "text/plain": [
       "<Figure size 1600x300 with 1 Axes>"
      ]
     },
     "metadata": {},
     "output_type": "display_data"
    }
   ],
   "source": [
    "df.plot( x='time', y=['VC', 'Vin'], figsize=(16,3) )"
   ]
  },
  {
   "cell_type": "markdown",
   "id": "20239805",
   "metadata": {},
   "source": [
    "**Filtramos** los datos para quedarnos solo con uno de transitorios. Nos quedamos con el que esta entre los tiempos 0.010 y 0.015:"
   ]
  },
  {
   "cell_type": "code",
   "execution_count": 23,
   "id": "9b282045",
   "metadata": {},
   "outputs": [
    {
     "data": {
      "text/plain": [
       "<Axes: xlabel='time'>"
      ]
     },
     "execution_count": 23,
     "metadata": {},
     "output_type": "execute_result"
    },
    {
     "data": {
      "image/png": "[encoded data removed]",
      "text/plain": [
       "<Figure size 300x200 with 1 Axes>"
      ]
     },
     "metadata": {},
     "output_type": "display_data"
    }
   ],
   "source": [
    "df_alto = df[ (df[\"time\"]<0.015) & (df[\"time\"]>0.010) ]\n",
    "\n",
    "df_alto.plot(x='time', y='VC', figsize=(3,2))"
   ]
  },
  {
   "cell_type": "markdown",
   "id": "8de7448c",
   "metadata": {},
   "source": [
    "El eje temporal esta trasladado, **llevamos el origen a cero** restando el primer punto, tambien pasamos nuestros datos a arrays de numpy para trabajar más cómodos el ajuste:"
   ]
  },
  {
   "cell_type": "code",
   "execution_count": 24,
   "id": "99ffc051",
   "metadata": {},
   "outputs": [],
   "source": [
    "t0 = df_alto[\"time\"].iloc[0]\n",
    "\n",
    "t = df_alto[\"time\"].to_numpy()-t0\n",
    "\n",
    "VC = df_alto[\"VC\"].to_numpy()"
   ]
  },
  {
   "cell_type": "markdown",
   "id": "a1d11ec0",
   "metadata": {},
   "source": [
    "Definimos una **ecuación** para hacer el ajuste de la tensión que cae en los bornes del capacitor:\n",
    "\n",
    "$$\n",
    "V_C = V_0 ( 1 - e^{-\\gamma t} ( 1 + \\gamma t  ) )\n",
    "$$"
   ]
  },
  {
   "cell_type": "code",
   "execution_count": 25,
   "id": "7b851301",
   "metadata": {},
   "outputs": [],
   "source": [
    "def modelo_tension(u, V0, g):                         \n",
    "    z= V0*( 1 - np.exp(-g*u)*( 1 + g*u ) )    # Ec para la tensión VC caso sub amort\n",
    "    return z\n"
   ]
  },
  {
   "cell_type": "markdown",
   "id": "13c63022",
   "metadata": {},
   "source": [
    "Estimamos los valores de los parámeros para pasarselos al algoritmo como **semillas**:"
   ]
  },
  {
   "cell_type": "code",
   "execution_count": 29,
   "id": "e848bd76",
   "metadata": {},
   "outputs": [
    {
     "name": "stdout",
     "output_type": "stream",
     "text": [
      "Amortiguamiento teórico:  10000.0\n",
      "Freq angular teórica (es cero por estar en estado crítico):  0.0\n"
     ]
    }
   ],
   "source": [
    "R= 2000\n",
    "L= 100e-3\n",
    "C= 100e-9\n",
    "\n",
    "g = R/(2.0*L)\n",
    "w02 = 1.0/(L*C)\n",
    "w2 = w02 - g**2\n",
    "\n",
    "print (\"Amortiguamiento teórico: \", g)\n",
    "print (\"Freq angular teórica (es cero por estar en estado crítico): \", w2)"
   ]
  },
  {
   "cell_type": "markdown",
   "id": "49ca0ae8",
   "metadata": {},
   "source": [
    "**Ajuste**:"
   ]
  },
  {
   "cell_type": "code",
   "execution_count": 27,
   "id": "cda4e909",
   "metadata": {},
   "outputs": [
    {
     "name": "stdout",
     "output_type": "stream",
     "text": [
      "Parámetros obtenidos del ajuste:\n",
      "V0 = (5.0102 ± 0.0034)\n",
      "g  = (10356.9815 ± 29.910969)\n"
     ]
    }
   ],
   "source": [
    "# valores semilla\n",
    "V0_ini = 5.0\n",
    "g_ini  = 10000.0\n",
    "\n",
    "# ajuste\n",
    "popt, pcov = curve_fit(modelo_tension, t, VC, p0=[ V0_ini, g_ini ] )      \n",
    "\n",
    "# tomo parámetros\n",
    "V0, g = popt\n",
    "\n",
    "# Errores estandar\n",
    "SE_V0, SE_g = np.sqrt(np.diag(pcov))\n",
    "\n",
    "print (\"Parámetros obtenidos del ajuste:\")\n",
    "print(f\"V0 = ({V0:.4f} ± {SE_V0:.4f})\")\n",
    "print(f\"g  = ({g:.4f} ± {SE_g:.6f})\")"
   ]
  },
  {
   "cell_type": "markdown",
   "id": "6b2d1f76",
   "metadata": {},
   "source": [
    "Hacemos un **plot** con los datos del experimento y el ajuste:"
   ]
  },
  {
   "cell_type": "code",
   "execution_count": 28,
   "id": "407b85b3",
   "metadata": {},
   "outputs": [
    {
     "data": {
      "image/png": "[encoded data removed]",
      "text/plain": [
       "<Figure size 400x300 with 1 Axes>"
      ]
     },
     "metadata": {},
     "output_type": "display_data"
    }
   ],
   "source": [
    "fig,ax = plt.subplots(figsize=(4,3))\n",
    "\n",
    "ax.scatter( t, VC ,label='Data', marker='.')                      # datos\n",
    "\n",
    "ax.plot( t, modelo_tension(t, V0, g), c='C3', label='Fit' )       # modelo con parametros del ajuste\n",
    "\n",
    "ax.set_xlabel(\"$t$ [Sec]\")\n",
    "ax.set_ylabel(\"$V_C$ [Volt]\")\n",
    "\n",
    "plt.legend(loc=4)\n",
    "plt.show()"
   ]
  }
 ],
 "metadata": {
  "kernelspec": {
   "display_name": "base",
   "language": "python",
   "name": "python3"
  },
  "language_info": {
   "codemirror_mode": {
    "name": "ipython",
    "version": 3
   },
   "file_extension": ".py",
   "mimetype": "text/x-python",
   "name": "python",
   "nbconvert_exporter": "python",
   "pygments_lexer": "ipython3",
   "version": "3.10.14"
  }
 },
 "nbformat": 4,
 "nbformat_minor": 5
}
