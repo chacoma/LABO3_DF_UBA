{
 "cells": [
  {
   "cell_type": "code",
   "execution_count": 58,
   "metadata": {},
   "outputs": [],
   "source": [
    "import numpy as np\n",
    "import matplotlib.pyplot as plt\n",
    "import pandas as pd"
   ]
  },
  {
   "cell_type": "markdown",
   "metadata": {},
   "source": [
    "### Carga y preprocesamiento de datos\n",
    "\n",
    "En primer lugar cargamos los datos que adquirimos en nuestro experimento. Vamos a utilizar la libreria pandas:"
   ]
  },
  {
   "cell_type": "code",
   "execution_count": 59,
   "metadata": {},
   "outputs": [
    {
     "data": {
      "text/html": [
       "<div>\n",
       "<style scoped>\n",
       "    .dataframe tbody tr th:only-of-type {\n",
       "        vertical-align: middle;\n",
       "    }\n",
       "\n",
       "    .dataframe tbody tr th {\n",
       "        vertical-align: top;\n",
       "    }\n",
       "\n",
       "    .dataframe thead th {\n",
       "        text-align: right;\n",
       "    }\n",
       "</style>\n",
       "<table border=\"1\" class=\"dataframe\">\n",
       "  <thead>\n",
       "    <tr style=\"text-align: right;\">\n",
       "      <th></th>\n",
       "      <th>corriente [mA]</th>\n",
       "      <th>tension [V]</th>\n",
       "    </tr>\n",
       "  </thead>\n",
       "  <tbody>\n",
       "    <tr>\n",
       "      <th>0</th>\n",
       "      <td>10.491378</td>\n",
       "      <td>1.045658</td>\n",
       "    </tr>\n",
       "    <tr>\n",
       "      <th>1</th>\n",
       "      <td>8.181423</td>\n",
       "      <td>0.813871</td>\n",
       "    </tr>\n",
       "    <tr>\n",
       "      <th>2</th>\n",
       "      <td>9.731880</td>\n",
       "      <td>1.005271</td>\n",
       "    </tr>\n",
       "    <tr>\n",
       "      <th>3</th>\n",
       "      <td>7.679995</td>\n",
       "      <td>0.773010</td>\n",
       "    </tr>\n",
       "    <tr>\n",
       "      <th>4</th>\n",
       "      <td>7.443637</td>\n",
       "      <td>0.728722</td>\n",
       "    </tr>\n",
       "  </tbody>\n",
       "</table>\n",
       "</div>"
      ],
      "text/plain": [
       "   corriente [mA]  tension [V]\n",
       "0       10.491378     1.045658\n",
       "1        8.181423     0.813871\n",
       "2        9.731880     1.005271\n",
       "3        7.679995     0.773010\n",
       "4        7.443637     0.728722"
      ]
     },
     "execution_count": 59,
     "metadata": {},
     "output_type": "execute_result"
    }
   ],
   "source": [
    "df = pd.read_csv(\"Datos/data_LeyDeOhm.csv\")\n",
    "\n",
    "df.head()"
   ]
  },
  {
   "cell_type": "markdown",
   "metadata": {},
   "source": [
    "Al adquirir solemos tomar los datos de forma desordenada, una buena costumbre es ordenarlos, utilizamos la rutina sort de pandas y ordenamos por valor de corriente:"
   ]
  },
  {
   "cell_type": "code",
   "execution_count": 60,
   "metadata": {},
   "outputs": [],
   "source": [
    "df_ord = df.sort_values(by='corriente [mA]')"
   ]
  },
  {
   "cell_type": "markdown",
   "metadata": {},
   "source": [
    "Ahora guardamos los datos en array para operar mas facilmente. Además, como la corriente esta en unnidades $[mA]$ divido por 1000 para pasar los datos a [A] :"
   ]
  },
  {
   "cell_type": "code",
   "execution_count": 61,
   "metadata": {},
   "outputs": [],
   "source": [
    "I = df_ord[\"corriente [mA]\"].to_numpy()\n",
    "V = df_ord[\"tension [V]\"].to_numpy()"
   ]
  },
  {
   "cell_type": "markdown",
   "metadata": {},
   "source": [
    "### Calculo de errores\n",
    "\n",
    "Los valores de tensión y corriente fueron medidos con dos multimetros *modelo UT51-55* de 3 1/2 dígitos.\n",
    "\n",
    "**Errores en el voltaje**:\n",
    "\n",
    "$$\n",
    "\\Delta V = \\frac{\\% error}{100} \\times V_{Medido} + n\\times LSB\n",
    "$$\n",
    "\n",
    "Se midió en la escala de $2 V$.\n",
    "\n",
    "El porcentaje de error es de $0.5\\%$ (para todas las escalas).\n",
    "\n",
    "En la escala de $2 V$, podemos ir del $0.000$ al $1.999$, entonces el LSB (bit menos significativo) es $0.001$. El valor de $n=1$ para todas las escalas.\n",
    "\n",
    "Calculamos el error de voltaje:"
   ]
  },
  {
   "cell_type": "code",
   "execution_count": 62,
   "metadata": {},
   "outputs": [],
   "source": [
    "Verr = (0.5/100)*V + 1*0.001"
   ]
  },
  {
   "cell_type": "markdown",
   "metadata": {},
   "source": [
    "**Errores en la corriente**, \n",
    "\n",
    "$$\n",
    "\\Delta I = \\frac{\\% error}{100} \\times I_{Medido} + n\\times LSB\n",
    "$$\n",
    "\n",
    "Se midió en la escala de $20mA$.\n",
    "\n",
    "Para esa escala el porcentaje de error es $0.8\\%$.\n",
    "\n",
    "En la escala de $20 mA$, podemos ir desde $00.00$ hasta $19.99$, entonces el LSB es $0.01$. Para esta escala $n=1$.\n",
    "\n",
    "Calculamos el error de corriente:"
   ]
  },
  {
   "cell_type": "code",
   "execution_count": 63,
   "metadata": {},
   "outputs": [],
   "source": [
    "Ierr = (0.8/100)*I + 1*0.01"
   ]
  },
  {
   "cell_type": "markdown",
   "metadata": {},
   "source": [
    "La corriente esta en $mA$, antes de analizar los datos divido por $1000$ a $I$ y $Ierr$ para trabajar en Amperes:"
   ]
  },
  {
   "cell_type": "code",
   "execution_count": 64,
   "metadata": {},
   "outputs": [],
   "source": [
    "I=I/1000\n",
    "Ierr = Ierr/1000"
   ]
  },
  {
   "cell_type": "markdown",
   "metadata": {},
   "source": [
    "Graficamos para inspeccionar visualmente nuestros datos"
   ]
  },
  {
   "cell_type": "code",
   "execution_count": 65,
   "metadata": {},
   "outputs": [
    {
     "data": {
      "image/png": "[encoded data removed]",
      "text/plain": [
       "<Figure size 640x480 with 1 Axes>"
      ]
     },
     "metadata": {},
     "output_type": "display_data"
    }
   ],
   "source": [
    "fig,ax = plt.subplots()\n",
    "\n",
    "ax.errorbar( x=I,y=V, xerr=Ierr, yerr=Verr, fmt='none', capsize=2)\n",
    "\n",
    "ax.set_xlabel(\"I [mA]\")\n",
    "ax.set_ylabel(\"V [V]\")\n",
    "\n",
    "plt.show()"
   ]
  },
  {
   "cell_type": "markdown",
   "metadata": {},
   "source": [
    "## Ajuste Lineal\n",
    "\n"
   ]
  },
  {
   "cell_type": "code",
   "execution_count": null,
   "metadata": {},
   "outputs": [
    {
     "name": "stdout",
     "output_type": "stream",
     "text": [
      "\n",
      "Parámetros:\n",
      "Pendiente (m): 99.329 ± 0.569\n",
      "Intercepto (b): 0.005 ± 0.004\n"
     ]
    }
   ],
   "source": [
    "import statsmodels.api as sm\n",
    "\n",
    "w= 1/Verr**2\n",
    "\n",
    "# Añadir intercepto (sm.add_constant)\n",
    "Imatrix = sm.add_constant(I)  # Convierte I en matriz [1, I]\n",
    "\n",
    "# Modelo con pesos (1/yerr²)\n",
    "model = sm.WLS(V, Imatrix, weights=w)  # WLS = Weighted Least Squares\n",
    "results = model.fit()\n",
    "\n",
    "# Resultados detallados\n",
    "#print(results.summary())\n",
    "\n",
    "# Coeficientes (pendiente e intercepto) y errores\n",
    "print(\"\\nParámetros:\")\n",
    "print(f\"Pendiente (m): {results.params[1]:.3f} ± {results.bse[1]:.3f}\")\n",
    "print(f\"Intercepto (b): {results.params[0]:.3f} ± {results.bse[0]:.3f}\")"
   ]
  },
  {
   "cell_type": "code",
   "execution_count": 73,
   "metadata": {},
   "outputs": [
    {
     "data": {
      "image/png": "[encoded data removed]",
      "text/plain": [
       "<Figure size 640x480 with 1 Axes>"
      ]
     },
     "metadata": {},
     "output_type": "display_data"
    }
   ],
   "source": [
    "a, b = results.params\n",
    "fl= lambda u: a+b*u\n",
    "\n",
    "\n",
    "fig,ax = plt.subplots()\n",
    "\n",
    "ax.errorbar( x=I,y=V, xerr=Ierr, yerr=Verr, fmt='none', capsize=2, label='Data')\n",
    "\n",
    "ax.plot( I, fl(I), c='C3' , label='Linear Fit')\n",
    "\n",
    "ax.set_xlabel(\"I [A]\")\n",
    "ax.set_ylabel(\"V [V]\")\n",
    "\n",
    "plt.legend()\n",
    "plt.show()"
   ]
  },
  {
   "cell_type": "code",
   "execution_count": 77,
   "metadata": {},
   "outputs": [
    {
     "data": {
      "text/html": [
       "<div>\n",
       "<style scoped>\n",
       "    .dataframe tbody tr th:only-of-type {\n",
       "        vertical-align: middle;\n",
       "    }\n",
       "\n",
       "    .dataframe tbody tr th {\n",
       "        vertical-align: top;\n",
       "    }\n",
       "\n",
       "    .dataframe thead th {\n",
       "        text-align: right;\n",
       "    }\n",
       "</style>\n",
       "<table border=\"1\" class=\"dataframe\">\n",
       "  <thead>\n",
       "    <tr style=\"text-align: right;\">\n",
       "      <th></th>\n",
       "      <th>I</th>\n",
       "      <th>V</th>\n",
       "    </tr>\n",
       "  </thead>\n",
       "  <tbody>\n",
       "    <tr>\n",
       "      <th>0</th>\n",
       "      <td>10.491378</td>\n",
       "      <td>1.045658</td>\n",
       "    </tr>\n",
       "    <tr>\n",
       "      <th>1</th>\n",
       "      <td>8.181423</td>\n",
       "      <td>0.813871</td>\n",
       "    </tr>\n",
       "    <tr>\n",
       "      <th>2</th>\n",
       "      <td>9.731880</td>\n",
       "      <td>1.005271</td>\n",
       "    </tr>\n",
       "    <tr>\n",
       "      <th>3</th>\n",
       "      <td>7.679995</td>\n",
       "      <td>0.773010</td>\n",
       "    </tr>\n",
       "    <tr>\n",
       "      <th>4</th>\n",
       "      <td>7.443637</td>\n",
       "      <td>0.728722</td>\n",
       "    </tr>\n",
       "  </tbody>\n",
       "</table>\n",
       "</div>"
      ],
      "text/plain": [
       "           I         V\n",
       "0  10.491378  1.045658\n",
       "1   8.181423  0.813871\n",
       "2   9.731880  1.005271\n",
       "3   7.679995  0.773010\n",
       "4   7.443637  0.728722"
      ]
     },
     "execution_count": 77,
     "metadata": {},
     "output_type": "execute_result"
    }
   ],
   "source": [
    "df = df.rename(columns={\"tension [V]\": \"V\", \"corriente [mA]\":\"I\"})\n",
    "df.head()"
   ]
  },
  {
   "cell_type": "code",
   "execution_count": 78,
   "metadata": {},
   "outputs": [],
   "source": [
    "import statsmodels.formula.api as smf\n",
    "\n",
    "model = smf.wls('V ~ I', data=df, weights=1/Verr**2)\n",
    "results = model.fit()"
   ]
  },
  {
   "cell_type": "code",
   "execution_count": 79,
   "metadata": {},
   "outputs": [
    {
     "data": {
      "text/plain": [
       "Intercept   -0.004852\n",
       "I            0.100661\n",
       "dtype: float64"
      ]
     },
     "execution_count": 79,
     "metadata": {},
     "output_type": "execute_result"
    }
   ],
   "source": [
    "results.params"
   ]
  }
 ],
 "metadata": {
  "kernelspec": {
   "display_name": "base",
   "language": "python",
   "name": "python3"
  },
  "language_info": {
   "codemirror_mode": {
    "name": "ipython",
    "version": 3
   },
   "file_extension": ".py",
   "mimetype": "text/x-python",
   "name": "python",
   "nbconvert_exporter": "python",
   "pygments_lexer": "ipython3",
   "version": "3.10.14"
  }
 },
 "nbformat": 4,
 "nbformat_minor": 2
}
