{
 "cells": [
  {
   "cell_type": "code",
   "execution_count": 1,
   "id": "8de81f81",
   "metadata": {},
   "outputs": [],
   "source": [
    "import pandas as pd\n",
    "import numpy as np\n",
    "import matplotlib.pyplot as plt"
   ]
  },
  {
   "cell_type": "markdown",
   "id": "49dc89b0",
   "metadata": {},
   "source": [
    "### Caso ideal"
   ]
  },
  {
   "cell_type": "code",
   "execution_count": 11,
   "id": "49ab5b4d",
   "metadata": {},
   "outputs": [
    {
     "data": {
      "text/html": [
       "<div>\n",
       "<style scoped>\n",
       "    .dataframe tbody tr th:only-of-type {\n",
       "        vertical-align: middle;\n",
       "    }\n",
       "\n",
       "    .dataframe tbody tr th {\n",
       "        vertical-align: top;\n",
       "    }\n",
       "\n",
       "    .dataframe thead th {\n",
       "        text-align: right;\n",
       "    }\n",
       "</style>\n",
       "<table border=\"1\" class=\"dataframe\">\n",
       "  <thead>\n",
       "    <tr style=\"text-align: right;\">\n",
       "      <th></th>\n",
       "      <th>f</th>\n",
       "      <th>Tr</th>\n",
       "      <th>Ti</th>\n",
       "    </tr>\n",
       "  </thead>\n",
       "  <tbody>\n",
       "    <tr>\n",
       "      <th>995</th>\n",
       "      <td>9960.0</td>\n",
       "      <td>0.000429</td>\n",
       "      <td>13.713555</td>\n",
       "    </tr>\n",
       "    <tr>\n",
       "      <th>996</th>\n",
       "      <td>9970.0</td>\n",
       "      <td>0.000430</td>\n",
       "      <td>13.727324</td>\n",
       "    </tr>\n",
       "    <tr>\n",
       "      <th>997</th>\n",
       "      <td>9980.0</td>\n",
       "      <td>0.000431</td>\n",
       "      <td>13.741093</td>\n",
       "    </tr>\n",
       "    <tr>\n",
       "      <th>998</th>\n",
       "      <td>9990.0</td>\n",
       "      <td>0.000432</td>\n",
       "      <td>13.754861</td>\n",
       "    </tr>\n",
       "    <tr>\n",
       "      <th>999</th>\n",
       "      <td>10000.0</td>\n",
       "      <td>0.000433</td>\n",
       "      <td>13.768630</td>\n",
       "    </tr>\n",
       "  </tbody>\n",
       "</table>\n",
       "</div>"
      ],
      "text/plain": [
       "           f        Tr         Ti\n",
       "995   9960.0  0.000429  13.713555\n",
       "996   9970.0  0.000430  13.727324\n",
       "997   9980.0  0.000431  13.741093\n",
       "998   9990.0  0.000432  13.754861\n",
       "999  10000.0  0.000433  13.768630"
      ]
     },
     "execution_count": 11,
     "metadata": {},
     "output_type": "execute_result"
    }
   ],
   "source": [
    "df = pd.read_csv('data/Draft5.txt', \n",
    "                 sep='\\t|,',  \n",
    "                 engine='python',  \n",
    "                 skiprows=1, \n",
    "                 names=['f', 'Tr', 'Ti'],\n",
    "                 dtype='float'\n",
    ")\n",
    "\n",
    "df.tail()"
   ]
  },
  {
   "cell_type": "code",
   "execution_count": 17,
   "id": "e7c044ff",
   "metadata": {},
   "outputs": [
    {
     "data": {
      "image/png": "[encoded data removed]",
      "text/plain": [
       "<Figure size 640x480 with 1 Axes>"
      ]
     },
     "metadata": {},
     "output_type": "display_data"
    }
   ],
   "source": [
    "R=100\n",
    "Rg=50\n",
    "R1=10\n",
    "R2=50\n",
    "L1= 10e-3\n",
    "L2= 50e-3\n",
    "k = 0.98\n",
    "\n",
    "M= k*np.sqrt( L1*L2 )\n",
    "\n",
    "\n",
    "T_mod = lambda f: (M/R)*2*np.pi*f\n",
    "\n",
    "fig,ax = plt.subplots()\n",
    "\n",
    "T = abs(df[\"Tr\"]+ 1j*df[\"Ti\"])\n",
    "\n",
    "ax.scatter( df[\"f\"],T )\n",
    "\n",
    "ax.plot( df[\"f\"], T_mod( df[\"f\"] ), c='C3' )\n",
    "\n",
    "plt.show()"
   ]
  },
  {
   "cell_type": "markdown",
   "id": "b859d507",
   "metadata": {},
   "source": [
    "### Caso con perdidas"
   ]
  },
  {
   "cell_type": "code",
   "execution_count": 21,
   "id": "0cbf0a2b",
   "metadata": {},
   "outputs": [
    {
     "data": {
      "text/html": [
       "<div>\n",
       "<style scoped>\n",
       "    .dataframe tbody tr th:only-of-type {\n",
       "        vertical-align: middle;\n",
       "    }\n",
       "\n",
       "    .dataframe tbody tr th {\n",
       "        vertical-align: top;\n",
       "    }\n",
       "\n",
       "    .dataframe thead th {\n",
       "        text-align: right;\n",
       "    }\n",
       "</style>\n",
       "<table border=\"1\" class=\"dataframe\">\n",
       "  <thead>\n",
       "    <tr style=\"text-align: right;\">\n",
       "      <th></th>\n",
       "      <th>f</th>\n",
       "      <th>Tr</th>\n",
       "      <th>Ti</th>\n",
       "    </tr>\n",
       "  </thead>\n",
       "  <tbody>\n",
       "    <tr>\n",
       "      <th>995</th>\n",
       "      <td>99599.63964</td>\n",
       "      <td>27.401867</td>\n",
       "      <td>0.0</td>\n",
       "    </tr>\n",
       "    <tr>\n",
       "      <th>996</th>\n",
       "      <td>99699.72973</td>\n",
       "      <td>27.431054</td>\n",
       "      <td>0.0</td>\n",
       "    </tr>\n",
       "    <tr>\n",
       "      <th>997</th>\n",
       "      <td>99799.81982</td>\n",
       "      <td>27.460327</td>\n",
       "      <td>0.0</td>\n",
       "    </tr>\n",
       "    <tr>\n",
       "      <th>998</th>\n",
       "      <td>99899.90991</td>\n",
       "      <td>27.489684</td>\n",
       "      <td>0.0</td>\n",
       "    </tr>\n",
       "    <tr>\n",
       "      <th>999</th>\n",
       "      <td>100000.00000</td>\n",
       "      <td>27.519126</td>\n",
       "      <td>0.0</td>\n",
       "    </tr>\n",
       "  </tbody>\n",
       "</table>\n",
       "</div>"
      ],
      "text/plain": [
       "                f         Tr   Ti\n",
       "995   99599.63964  27.401867  0.0\n",
       "996   99699.72973  27.431054  0.0\n",
       "997   99799.81982  27.460327  0.0\n",
       "998   99899.90991  27.489684  0.0\n",
       "999  100000.00000  27.519126  0.0"
      ]
     },
     "execution_count": 21,
     "metadata": {},
     "output_type": "execute_result"
    }
   ],
   "source": [
    "df2 = pd.read_csv('data/transformadores_parasitos.txt', \n",
    "                 sep='\\t|,',  \n",
    "                 engine='python',  \n",
    "                 skiprows=1, \n",
    "                 names=['f', 'Tr', 'Ti'],\n",
    "                 dtype='float'\n",
    ")\n",
    "\n",
    "df2.tail()\n",
    "\n"
   ]
  },
  {
   "cell_type": "code",
   "execution_count": 26,
   "id": "2a933816",
   "metadata": {},
   "outputs": [
    {
     "data": {
      "image/png": "[encoded data removed]",
      "text/plain": [
       "<Figure size 640x480 with 1 Axes>"
      ]
     },
     "metadata": {},
     "output_type": "display_data"
    }
   ],
   "source": [
    "R=100\n",
    "Rg=50\n",
    "R1=10\n",
    "R2=50\n",
    "L1= 10e-3\n",
    "L2= 50e-3\n",
    "k = 0.8\n",
    "\n",
    "M= k*np.sqrt( L1*L2 )\n",
    "\n",
    "fig,ax = plt.subplots()\n",
    "\n",
    "T = abs(df2[\"Tr\"]+ 1j*df2[\"Ti\"])\n",
    "\n",
    "ax.scatter( df2[\"f\"],T )\n",
    "\n",
    "ax.plot( df2[\"f\"], T_mod( df2[\"f\"] ), c='C3' )\n",
    "\n",
    "\n",
    "ax.set_ylim((None,30))\n",
    "plt.show()"
   ]
  }
 ],
 "metadata": {
  "kernelspec": {
   "display_name": "base",
   "language": "python",
   "name": "python3"
  },
  "language_info": {
   "codemirror_mode": {
    "name": "ipython",
    "version": 3
   },
   "file_extension": ".py",
   "mimetype": "text/x-python",
   "name": "python",
   "nbconvert_exporter": "python",
   "pygments_lexer": "ipython3",
   "version": "3.10.14"
  }
 },
 "nbformat": 4,
 "nbformat_minor": 5
}
