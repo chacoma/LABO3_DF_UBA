{
 "cells": [
  {
   "cell_type": "markdown",
   "id": "5e073bbb",
   "metadata": {},
   "source": [
    "## Programa para adquisición en los experimentos de filtros\n",
    "\n",
    "En todos los experimentos donde estudiamos la respuesta de los filtros, tenemos que hacer un barrido en frecuencias con el generador de funciones y medir sobre la señal de entrada y la señal de salida del filtro con el osciloscopio. En este tuto muestro una guía para hacer la adquisición.\n",
    "\n",
    "Arrancamos importando las librerías necesarias,"
   ]
  },
  {
   "cell_type": "code",
   "execution_count": 1,
   "id": "b57ce8a3",
   "metadata": {},
   "outputs": [],
   "source": [
    "import pyvisa as visa\n",
    "import time\n",
    "import numpy as np\n",
    "import pandas as pd\n",
    "from matplotlib import pyplot as plt"
   ]
  },
  {
   "cell_type": "markdown",
   "id": "e28566b7",
   "metadata": {},
   "source": [
    "Defino el objeto resourse manager y listo los instrumentos conectados:"
   ]
  },
  {
   "cell_type": "code",
   "execution_count": null,
   "id": "acf044bd",
   "metadata": {},
   "outputs": [],
   "source": [
    "rm = visa.ResourceManager()\n",
    "\n",
    "lista_instrumentos = rm.list_resources()  \n",
    "\n",
    "print(lista_instrumentos)"
   ]
  },
  {
   "cell_type": "markdown",
   "id": "cc8e114b",
   "metadata": {},
   "source": [
    "Busco en la lista al **generador**, copio el nombre en la variable *instrumento_gen* y me conecto:"
   ]
  },
  {
   "cell_type": "code",
   "execution_count": null,
   "id": "a1419fb6",
   "metadata": {},
   "outputs": [],
   "source": [
    "instrumento_gen = ''\n",
    "\n",
    "gen=rm.open_resource()\n",
    "\n",
    "print(gen.query('*IDN?'))"
   ]
  },
  {
   "cell_type": "markdown",
   "id": "0d36c08a",
   "metadata": {},
   "source": [
    "Idem pero con el **osciloscopio**:"
   ]
  },
  {
   "cell_type": "code",
   "execution_count": null,
   "id": "5b9d484a",
   "metadata": {},
   "outputs": [],
   "source": [
    "instrumento_osc = ''\n",
    "\n",
    "osci=rm.open_resource()\n",
    "\n",
    "print(osci.query('*IDN?'))"
   ]
  },
  {
   "cell_type": "markdown",
   "id": "9f347e90",
   "metadata": {},
   "source": [
    "Setear la marca correcta del equipo que tienen en la mesa:"
   ]
  },
  {
   "cell_type": "code",
   "execution_count": null,
   "id": "9fcf743e",
   "metadata": {},
   "outputs": [],
   "source": [
    "genMarca = 'Tektronix' # poner en esta variable: \"Tektronix o \"Singlent\"\n",
    "\n",
    "oscMarca = '1000C' # poner en esta variable: \"1052B\" o  \"1000C\""
   ]
  },
  {
   "cell_type": "markdown",
   "id": "c19b8a67",
   "metadata": {},
   "source": [
    "**Importante!**\n",
    "\n",
    "Si colocan de manera correcta los nombres de *genMarca* y *oscMarca* el programa adquiere correctamente. De todas maneras se recomienda que no utilicen este programa directamente, sino más bien que lo usen como guía y hagan copy-paste de lo que necesiten para armar su propio programa.\n",
    "\n",
    "Configuro una onda de salida sinusoidal en el **generador** de amplitud *amp_in* y fase nula:"
   ]
  },
  {
   "cell_type": "code",
   "execution_count": null,
   "id": "1af2ab2f",
   "metadata": {},
   "outputs": [],
   "source": [
    "amp_in = 5         # amplitud de entrada, permanece cte todo el exp\n",
    "\n",
    "\n",
    "if genMarca=='Tektronix':\n",
    "\n",
    "    gen.write(\"OUTPUT1 OFF\")  \n",
    "    gen.write(\"SOURCE1:FUNC SIN\")\n",
    "    gen.write(\"SOURCE1:VOLT %f Vpp\" %amp_in) \n",
    "    gen.write(\"OUTPUT1 ON\")\n",
    "\n",
    "\n",
    "if genMarca=='Singlent':\n",
    "\n",
    "    gen.write('C1:OUTP OFF')  \n",
    "    gen.write('C1:BSWV WVTP,SINE' ) \n",
    "    gen.write('C1:BSWV AMP,%f' % amp_in) \n",
    "    gen.write('C1:OUTP ON')\n",
    "\n"
   ]
  },
  {
   "cell_type": "markdown",
   "id": "a0111d2d",
   "metadata": {},
   "source": [
    "Configuro el **osciloscopio**, voy a usar los canales así:\n",
    "\n",
    "- Mido la amplitud de la señal de entrada, utilizando en CH1 \n",
    "- Mido la amplitud y la fase en el salida del filtro, utilizando el CH2"
   ]
  },
  {
   "cell_type": "code",
   "execution_count": null,
   "id": "55d7cff3",
   "metadata": {},
   "outputs": [],
   "source": [
    "# Formateo datos de salida\n",
    "osci.write('DAT:ENC RPB')\n",
    "osci.write('DAT:WID 1') \n",
    "osci.write('HEADER OFF')\n",
    "osci.write('SEL:CH1 ON')        \n",
    "osci.write('SEL:CH2 ON')  \n",
    "\n",
    "if oscMarca == \"1052B\":\n",
    "    # Defino medicion 1 de AMPLITUD ch1\n",
    "    osci.write('MEASU:MEAS1:SOURCE CH1')\n",
    "    osci.write('MEASU:MEAS1:TYPE CRMS') \n",
    "\n",
    "    # Defino medicion 2 de AMPLITUD ch2\n",
    "    osci.write('MEASU:MEAS2:SOURCE CH2')\n",
    "    osci.write('MEASU:MEAS2:TYPE CRMS') \n",
    "\n",
    "    # Defino medicion 3 de FASE ch2\n",
    "    osci.write('MEASU:MEAS3:SOURCE CH2')\n",
    "    osci.write('MEASU:MEAS3:TYPE PHAse')\n",
    "\n"
   ]
  },
  {
   "cell_type": "markdown",
   "id": "497f25f3",
   "metadata": {},
   "source": [
    "Empiezo el **barrido en frecuencias**. Para cada frecuencia:"
   ]
  },
  {
   "cell_type": "code",
   "execution_count": null,
   "id": "357e379b",
   "metadata": {},
   "outputs": [],
   "source": [
    "frec1 = 500.               # freq mínima\n",
    "frec2 = 1500.              # freq máxima\n",
    "N=100                      # can datos\n",
    "\n",
    "# conjunto de freq del barrido\n",
    "frecuencias=np.geomspace( frec1, frec2, N ) \n",
    "\n",
    "\n",
    "# Defino contenedores para guardar los datos\n",
    "data={}\n",
    "data[\"Freq\"]=[]\n",
    "data[\"amp_in\"]=[]\n",
    "data[\"amp_out\"]=[]\n",
    "data[\"fase_out\"]=[]\n",
    "data[\"scale_out\"]=[]\n",
    "\n",
    "\n",
    "for freq in frecuencias:\n",
    "\n",
    "    # SETEO DE FRECUENCIA -----------------\n",
    "    print (freq)\n",
    "\n",
    "    if genMarca =='Tektronix':   \n",
    "        gen.write('SOURCE1:FREQ %f' % freq) \n",
    "\n",
    "    if genMarca =='Siglent':\n",
    "        gen.write('C1:BSWV FRQ,%f' % freq)    \n",
    "\n",
    "\n",
    "    # SETEO ESCALA OPTIMA EN OSCI ---------\n",
    "    osci.write('AUTOS EXEC')\n",
    "    time.sleep(5)\n",
    "\n",
    "\n",
    "    # CONGELAMOS PANTALLA -----------------\n",
    "    osci.write('ACQ:STATE OFF')  \n",
    "    \n",
    "\n",
    "\n",
    "    # MIDO AMPLITUD A LA ENTRADA ---------\n",
    "\n",
    "    # tomo la escala ch1 para el error\n",
    "    escala_ch1 = float(osci.query('CH1:SCAle?'))\n",
    "    time.sleep(2)\n",
    "\n",
    "    if oscMarca == '1052B':\n",
    "\n",
    "        # mido amplitud\n",
    "        amp_in= float(osci.query('MEASU:MEAS1:VALue?')) \n",
    "        time.sleep(2)\n",
    "\n",
    "\n",
    "    if oscMarca == '1000C':\n",
    "        \n",
    "        # Indico que quiero medir AMPLITUD y mido\n",
    "        osci.write('MEASUrement:IMMed:SOURce CH1')\n",
    "        osci.write('MEASUrement:IMMed:TYPe CRMS')\n",
    "        amp_in= float( osci.query('MEASUrement:IMMed:VALue?') )\n",
    "        time.sleep(2)\n",
    "\n",
    "\n",
    "\n",
    "\n",
    "    # MIDO AMPLITUD Y FASE A LA SALIDA -----\n",
    "\n",
    "    # tomo la escala para el error\n",
    "    escala_ch2 = float(osci.query('CH2:SCAle?'))\n",
    "    time.sleep(2)\n",
    "\n",
    "    if oscMarca == '1052B':\n",
    "\n",
    "        # mido amplitud\n",
    "        amp_out= float(osci.query('MEASU:MEAS2:VALue?')) \n",
    "        time.sleep(2)\n",
    "\n",
    "        # mido fase\n",
    "        fase_out = osci.query_ascii_values('MEASU:MEAS3:VAL?')[0]\n",
    "        time.sleep(2)\n",
    "\n",
    "\n",
    "    if oscMarca == '1000C':\n",
    "        \n",
    "        # Indico que quiero medir AMPLITUD y mido\n",
    "        osci.write('MEASUrement:IMMed:SOURce CH2')\n",
    "        osci.write('MEASUrement:IMMed:TYPe CRMS')\n",
    "        amp_out = float( osci.query('MEASUrement:IMMed:VALue?') )\n",
    "        time.sleep(2)\n",
    "\n",
    "        # Indico que quiero medir FASE y mido\n",
    "        osci.write('MEASUrement:IMMed:SOURce CH2')\n",
    "        osci.write('MEASU:IMM:TYP PHAse')\n",
    "        fase_out = osci.query_ascii_values('MEASUrement:IMMed:VALue?')[0] \n",
    "        time.sleep(2)\n",
    "\n",
    "\n",
    "\n",
    "    # DES - CONGELAMOS PANTALLA ------------\n",
    "    osci.write('ACQ:STATE ON')\n",
    "\n",
    "\n",
    "    # APILO DATOS  -------------------------\n",
    "    data[\"Freq\"].append( freq )\n",
    "    data[\"amp_in\"].append( amp_in )\n",
    "    data[\"scale_in\"].append( escala_ch1 )\n",
    "\n",
    "    data[\"amp_out\"].append( amp_out )\n",
    "    data[\"scale_out\"].append( escala_ch2 )\n",
    "    data[\"fase_out\"].append( fase_out )\n",
    "\n",
    "\n",
    "\n",
    "# GUARDO DATOS \n",
    "df = pd.DataFrame( data=data )\n",
    "\n",
    "df.to_csv( \"path/to/you/folder/name.csv\", index=False )"
   ]
  }
 ],
 "metadata": {
  "kernelspec": {
   "display_name": "base",
   "language": "python",
   "name": "python3"
  },
  "language_info": {
   "codemirror_mode": {
    "name": "ipython",
    "version": 3
   },
   "file_extension": ".py",
   "mimetype": "text/x-python",
   "name": "python",
   "nbconvert_exporter": "python",
   "pygments_lexer": "ipython3",
   "version": "3.10.14"
  }
 },
 "nbformat": 4,
 "nbformat_minor": 5
}
