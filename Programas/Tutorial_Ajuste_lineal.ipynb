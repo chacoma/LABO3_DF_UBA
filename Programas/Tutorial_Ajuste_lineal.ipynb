{
 "cells": [
  {
   "cell_type": "markdown",
   "metadata": {},
   "source": [
    "## Tutorial para la realización de ajustes lineales\n",
    "\n",
    "En este archivo muestro como:\n",
    "\n",
    "- Cargar un conjunto de datos y hacer un Pre- procesamiento\n",
    "- Calcular los errores en base a información del instrumental utilizado\n",
    "- Hacer un ajuste lineal ponderado por los errores de medición\n",
    "- Calcular los intervalos de confinza\n",
    "- Calcular las bandas de confianza\n",
    "\n",
    "Arranco importando la librerías que voy a utilizar:"
   ]
  },
  {
   "cell_type": "code",
   "execution_count": 2,
   "metadata": {},
   "outputs": [],
   "source": [
    "import pandas as pd                             # manejo de datos\n",
    "import numpy as np                              # operación con arrays\n",
    "import matplotlib.pyplot as plt                 # para graficar"
   ]
  },
  {
   "cell_type": "markdown",
   "metadata": {},
   "source": [
    "### Carga y preprocesamiento de datos\n",
    "\n",
    "En primer lugar cargamos los datos que adquirimos en nuestro experimento. Vamos a utilizar la libreria pandas:"
   ]
  },
  {
   "cell_type": "code",
   "execution_count": 3,
   "metadata": {},
   "outputs": [
    {
     "name": "stdout",
     "output_type": "stream",
     "text": [
      "(20, 2)\n"
     ]
    },
    {
     "data": {
      "text/html": [
       "<div>\n",
       "<style scoped>\n",
       "    .dataframe tbody tr th:only-of-type {\n",
       "        vertical-align: middle;\n",
       "    }\n",
       "\n",
       "    .dataframe tbody tr th {\n",
       "        vertical-align: top;\n",
       "    }\n",
       "\n",
       "    .dataframe thead th {\n",
       "        text-align: right;\n",
       "    }\n",
       "</style>\n",
       "<table border=\"1\" class=\"dataframe\">\n",
       "  <thead>\n",
       "    <tr style=\"text-align: right;\">\n",
       "      <th></th>\n",
       "      <th>corriente [mA]</th>\n",
       "      <th>tension [V]</th>\n",
       "    </tr>\n",
       "  </thead>\n",
       "  <tbody>\n",
       "    <tr>\n",
       "      <th>0</th>\n",
       "      <td>10.491378</td>\n",
       "      <td>1.045658</td>\n",
       "    </tr>\n",
       "    <tr>\n",
       "      <th>1</th>\n",
       "      <td>8.181423</td>\n",
       "      <td>0.813871</td>\n",
       "    </tr>\n",
       "    <tr>\n",
       "      <th>2</th>\n",
       "      <td>9.731880</td>\n",
       "      <td>1.005271</td>\n",
       "    </tr>\n",
       "    <tr>\n",
       "      <th>3</th>\n",
       "      <td>7.679995</td>\n",
       "      <td>0.773010</td>\n",
       "    </tr>\n",
       "    <tr>\n",
       "      <th>4</th>\n",
       "      <td>7.443637</td>\n",
       "      <td>0.728722</td>\n",
       "    </tr>\n",
       "  </tbody>\n",
       "</table>\n",
       "</div>"
      ],
      "text/plain": [
       "   corriente [mA]  tension [V]\n",
       "0       10.491378     1.045658\n",
       "1        8.181423     0.813871\n",
       "2        9.731880     1.005271\n",
       "3        7.679995     0.773010\n",
       "4        7.443637     0.728722"
      ]
     },
     "execution_count": 3,
     "metadata": {},
     "output_type": "execute_result"
    }
   ],
   "source": [
    "df = pd.read_csv(\"Datos/data_LeyDeOhm.csv\")                 # cargamos los datos a un objeto DataFrame \n",
    "\n",
    "print (df.shape)                                            # imprimimos las dimensiones de la matrix de datos: (filas,columnas)\n",
    "\n",
    "df.head()                                                   # inspeccionamos los primeros 10 datos"
   ]
  },
  {
   "cell_type": "markdown",
   "metadata": {},
   "source": [
    "Al adquirir solemos tomar los datos de forma desordenada, una buena costumbre es ordenarlos, aplicamos la rutina *.sort_values()* sobre el objeto *df* de pandas y ordenamos por valor de corriente:"
   ]
  },
  {
   "cell_type": "code",
   "execution_count": 4,
   "metadata": {},
   "outputs": [],
   "source": [
    "df_ord = df.sort_values(by='corriente [mA]')"
   ]
  },
  {
   "cell_type": "markdown",
   "metadata": {},
   "source": [
    "Guardamos los datos en dos arrays de *numpy* para operar mas facilmente:"
   ]
  },
  {
   "cell_type": "code",
   "execution_count": 5,
   "metadata": {},
   "outputs": [],
   "source": [
    "I = df_ord[\"corriente [mA]\"].to_numpy()\n",
    "V = df_ord[\"tension [V]\"].to_numpy()"
   ]
  },
  {
   "cell_type": "markdown",
   "metadata": {},
   "source": [
    "### Calculo de errores\n",
    "\n",
    "En este ejemplo, los valores de tensión y corriente fueron medidos con dos multimetros *modelo UT51-55* de *3 1/2 dígitos*.\n",
    "\n",
    "#### **Errores en el voltaje**:\n",
    "\n",
    "$$\n",
    "\\Delta V = \\frac{\\% error}{100} \\times V_{Medido} + n\\times LSB\n",
    "$$\n",
    "\n",
    "Se midió en la escala de $2 V$.\n",
    "\n",
    "El porcentaje de error es de $0.5\\%$ (para todas las escalas).\n",
    "\n",
    "En la escala de $2 V$, podemos ir del $0.000$ al $1.999$, entonces el LSB (bit menos significativo) es $0.001$. El valor de $n=1$ para todas las escalas.\n",
    "\n",
    "Con esta información, calculamos el error en la medición de voltaje:"
   ]
  },
  {
   "cell_type": "code",
   "execution_count": 6,
   "metadata": {},
   "outputs": [],
   "source": [
    "Verr = (0.5/100)*V + 1*0.001"
   ]
  },
  {
   "cell_type": "markdown",
   "metadata": {},
   "source": [
    "#### **Errores en la corriente**:\n",
    "\n",
    "$$\n",
    "\\Delta I = \\frac{\\% error}{100} \\times I_{Medido} + n\\times LSB\n",
    "$$\n",
    "\n",
    "Se midió en la escala de $20mA$.\n",
    "\n",
    "Para esa escala el porcentaje de error es $0.8\\%$.\n",
    "\n",
    "En la escala de $20 mA$, podemos ir desde $00.00$ hasta $19.99$, entonces el LSB es $0.01$. Para esta escala $n=1$.\n",
    "\n",
    "El error en la medición de la corriente será entonces:"
   ]
  },
  {
   "cell_type": "code",
   "execution_count": 7,
   "metadata": {},
   "outputs": [],
   "source": [
    "Ierr = (0.8/100)*I + 1*0.01"
   ]
  },
  {
   "cell_type": "markdown",
   "metadata": {},
   "source": [
    "### Primera inspección visual de los datos\n",
    "\n",
    "Vamos a hacer un primer gráfico con los errores para visualizar los resultados obtenidos.\n",
    "\n",
    "La corriente esta en $mA$, una buena costumbre (siempre que se pueda) es analizar los datos en unidades estandar, en este caso *Volt* - *Ampere*. Para esto divido por $1000$ en los arrays que contienen información de la corriente, $I$ y $Ierr$:"
   ]
  },
  {
   "cell_type": "code",
   "execution_count": 8,
   "metadata": {},
   "outputs": [],
   "source": [
    "I=I/1000\n",
    "Ierr = Ierr/1000"
   ]
  },
  {
   "cell_type": "markdown",
   "metadata": {},
   "source": [
    "Ahora graficamos:"
   ]
  },
  {
   "cell_type": "code",
   "execution_count": 9,
   "metadata": {},
   "outputs": [
    {
     "data": {
      "image/png": "[encoded data removed]",
      "text/plain": [
       "<Figure size 640x480 with 1 Axes>"
      ]
     },
     "metadata": {},
     "output_type": "display_data"
    }
   ],
   "source": [
    "fig,ax = plt.subplots()\n",
    "\n",
    "ax.errorbar( x=I,y=V, xerr=Ierr, yerr=Verr, fmt='none', capsize=2)      # Formato fmt='[tipo de punto][color]': fmt='none' sin formato, fmt='.r' puntos rojos\n",
    "\n",
    "ax.set_xlabel(\"I [A]\")\n",
    "ax.set_ylabel(\"V [V]\")\n",
    "\n",
    "plt.show()"
   ]
  },
  {
   "cell_type": "markdown",
   "metadata": {},
   "source": [
    "## Ajuste Lineal\n",
    "\n"
   ]
  },
  {
   "cell_type": "markdown",
   "metadata": {},
   "source": [
    "Hay muchas opciones de librerías en python para hacer un ajuste lineal, probablemente una de las más completas es [*statsmodels*](https://www.statsmodels.org/stable/index.html). Emepezamos importando:"
   ]
  },
  {
   "cell_type": "code",
   "execution_count": 10,
   "metadata": {},
   "outputs": [],
   "source": [
    "import statsmodels.api as sm"
   ]
  },
  {
   "cell_type": "markdown",
   "metadata": {},
   "source": [
    "Queremos hacer un ajuste lineal que tenga en cuenta los errores. \n",
    "\n",
    "Si sabemos que los errores vienen de una distribución normal, conviene definir los pesos como $w = \\frac{1}{yerr^2}$, esto le otorga más pesos a los errores chicos y asegura la minimización de $\\chi^2$.\n",
    "\n",
    "Si los errores son más bien estimaciones, o los datos son pocos, conviene definir los pesos como $w = \\frac{1}{yerr}$ esto le otorga menos peso a los errores chicos.\n",
    "\n",
    "En este caso, como son pocos datos y no puedo determinar la distribución de los errores voy a utilizar la segunda opción:"
   ]
  },
  {
   "cell_type": "code",
   "execution_count": 11,
   "metadata": {},
   "outputs": [],
   "source": [
    "w= 1/Verr           # definición de los pesos"
   ]
  },
  {
   "cell_type": "markdown",
   "metadata": {},
   "source": [
    "Vamos a utilizar la clase *sm.WLS()* que efectua un  [*Weighted Least Squares*](https://en.wikipedia.org/wiki/Weighted_least_squares). \n",
    "\n",
    "Para que la rutina calcule el intercepto (ordenada al origen) en la regresión, es necesario agregar una constante a la variable dependiente. Esto es simplemente un requerimiento de la rutina, que trabaja con ese formato de datos. Para hacerlo ejecutamos:"
   ]
  },
  {
   "cell_type": "code",
   "execution_count": 12,
   "metadata": {},
   "outputs": [],
   "source": [
    "X = sm.add_constant(I)  # Convierte I en matriz [1, I]"
   ]
  },
  {
   "cell_type": "markdown",
   "metadata": {},
   "source": [
    "Ahora, ya con todos los elementos, podemos definir el modelo lineal:"
   ]
  },
  {
   "cell_type": "code",
   "execution_count": 13,
   "metadata": {},
   "outputs": [],
   "source": [
    "model = sm.WLS(V, X, weights=w)  # WLS = Weighted Least Squares, con pesos w=1/yerr"
   ]
  },
  {
   "cell_type": "markdown",
   "metadata": {},
   "source": [
    "Con el modelo definido, solo queda hacer el ajuste:"
   ]
  },
  {
   "cell_type": "code",
   "execution_count": 14,
   "metadata": {},
   "outputs": [],
   "source": [
    "results = model.fit()"
   ]
  },
  {
   "cell_type": "markdown",
   "metadata": {},
   "source": [
    "Como ven es bastante simple. El objeto *results* contiene todos los resultados del ajuste. A partir de distintas rutinas podremos ir accediendo a cada uno de los resultados."
   ]
  },
  {
   "cell_type": "markdown",
   "metadata": {},
   "source": [
    "### Análisis de los parámetros del ajuste\n",
    "\n",
    "Los parámetros de la regresión son:"
   ]
  },
  {
   "cell_type": "code",
   "execution_count": null,
   "metadata": {},
   "outputs": [
    {
     "name": "stdout",
     "output_type": "stream",
     "text": [
      "Parámetros de la regresión V ~ R I + V0:\n",
      "Pendiente :  R = 99.69 ± 0.58\n",
      "Intercepto: V0 = 0.003 ± 0.005\n"
     ]
    }
   ],
   "source": [
    "ordenada , pendiente = results.params               # contiene los parámetros\n",
    "\n",
    "err_ordenada, err_pendiente = results.bse           # contiene los errores estandar (SE)\n",
    "\n",
    "print (\"Parámetros de la regresión V ~ R I + V0:\")\n",
    "print (\"Pendiente :  R = %.2f ± %.2f\" % ( pendiente, err_pendiente ) )\n",
    "print (\"Intercepto: V0 = %.3f ± %.3f\" % ( ordenada,  err_ordenada )  )"
   ]
  },
  {
   "cell_type": "markdown",
   "metadata": {},
   "source": [
    "Es importante notar que los **errores estándar (SE)**  de los coeficientes estimados representan la dispersión de la estimación alrededor del valor verdadero del parámetro. A partir de estos podemos construir intervalos de confianza para definir un rango estimado para cada coeficiente, esto proporciona una mejor interpretación de la incertidumbre.\n",
    "\n",
    "### Intervalos de confianza (CI)\n",
    "\n",
    "Se definen como:\n",
    "\n",
    "$$\n",
    "CI = \\hat{\\beta} \\pm z \\times SE\n",
    "$$\n",
    "\n",
    "Donde:\n",
    "- $\\hat{\\beta}$ es el valor que obtenemos del parámetro en el ajuste\n",
    "- SE es el error estandar, el error que tiene el parámetro que sale del ajuste\n",
    "- z es el valor crítico de la distribución normal y esta relacionado con el nivel de confianza así:\n",
    "\n",
    "  - $z \\approx 1.96$ $\\Rightarrow$ 95% de confianza ($\\alpha = 0.05$) \n",
    "  - $z \\approx 1.28$ $\\Rightarrow$ 80% de confianza ($\\alpha = 0.20$): \n",
    "  - $z \\approx 1.00$ $\\Rightarrow$ 68% de confianza, cercano a 1 error estándar ($\\alpha = 0.32$): \n",
    "\n",
    "\n",
    "Para obtener los intervalos de confianza desde el objeto *results* utilizamos la rutina *results.conf_int(alpha)* y pide que le demos un valor de $\\alpha$ de acuerdo al tamaño del intervalo que querramos, por ejemplo para obtener los intervalos del $95\\%$ ejecutamos:"
   ]
  },
  {
   "cell_type": "code",
   "execution_count": null,
   "metadata": {},
   "outputs": [],
   "source": [
    "CI = results.conf_int(alpha=0.05)"
   ]
  },
  {
   "cell_type": "markdown",
   "metadata": {},
   "source": [
    "Esto nos da una matriz $2x2$ donde la primer fila tiene los intervalos de confianza asociados a la ordenada y la segunda fila los asociados a la pendiente, para separarlos:"
   ]
  },
  {
   "cell_type": "code",
   "execution_count": 22,
   "metadata": {},
   "outputs": [
    {
     "name": "stdout",
     "output_type": "stream",
     "text": [
      "El intervalo de cofianza del $95\\%$ de los parametros es:\n",
      "Pendiente : R  = ( 98.47, 100.91) \n",
      "Intercepto: V0 = ( -0.007, 0.013) \n"
     ]
    }
   ],
   "source": [
    "ci_ordenada = CI[0,:]       # tomo todas las columnas (2) de la primer ila\n",
    "ci_pediente = CI[1,:]\n",
    "\n",
    "print (\"El intervalo de cofianza del $95\\%$ de los parametros es:\")\n",
    "print (\"Pendiente : R  = ( %.2f, %.2f) \" % (ci_pediente[0], ci_pediente[1]) )\n",
    "print (\"Intercepto: V0 = ( %.3f, %.3f) \" % (ci_ordenada[0], ci_ordenada[1]) )"
   ]
  },
  {
   "cell_type": "markdown",
   "metadata": {},
   "source": [
    "Note que el intervalo donde se encuentra el valor real del intercepto encierra al valor $0$, esto es consistente con la ecuación teórica de la **ley de Ohm** que no contempla la existencia de un $V0$. "
   ]
  },
  {
   "cell_type": "code",
   "execution_count": 17,
   "metadata": {},
   "outputs": [
    {
     "data": {
      "image/png": "[encoded data removed]",
      "text/plain": [
       "<Figure size 640x480 with 1 Axes>"
      ]
     },
     "metadata": {},
     "output_type": "display_data"
    }
   ],
   "source": [
    "a, b = results.params\n",
    "fl= lambda u: a+b*u\n",
    "\n",
    "\n",
    "fig,ax = plt.subplots()\n",
    "\n",
    "ax.errorbar( x=I,y=V, xerr=Ierr, yerr=Verr, fmt='none', capsize=2, label='Data')\n",
    "\n",
    "ax.plot( I, fl(I), c='C3' , label='Linear Fit')\n",
    "\n",
    "ax.set_xlabel(\"I [A]\")\n",
    "ax.set_ylabel(\"V [V]\")\n",
    "\n",
    "plt.legend()\n",
    "plt.show()"
   ]
  }
 ],
 "metadata": {
  "kernelspec": {
   "display_name": "base",
   "language": "python",
   "name": "python3"
  },
  "language_info": {
   "codemirror_mode": {
    "name": "ipython",
    "version": 3
   },
   "file_extension": ".py",
   "mimetype": "text/x-python",
   "name": "python",
   "nbconvert_exporter": "python",
   "pygments_lexer": "ipython3",
   "version": "3.11.7"
  }
 },
 "nbformat": 4,
 "nbformat_minor": 2
}
