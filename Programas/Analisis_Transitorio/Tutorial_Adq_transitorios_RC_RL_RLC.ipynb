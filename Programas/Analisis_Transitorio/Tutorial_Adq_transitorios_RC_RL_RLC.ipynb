{
 "cells": [
  {
   "cell_type": "markdown",
   "id": "d538e3fa",
   "metadata": {},
   "source": [
    "### Programa para adquisisción en los experimentos de transitorios en circuitos RC, RL y RLC\n",
    "\n",
    "Estamos estudiando fenómenos transitorios en los circuitos RC, RL o RLC.\n",
    "\n",
    "Tenemos dos curvas en el osciloscopio y las queremos adquirir para análizar los datos.\n",
    "\n",
    "En ese contexto, este programa muestra una guía paso a paso para hacer la adquisición.\n",
    "\n",
    "Es importante notar que este programa sirve para trabajar con los dos modelos de osciloscopios disponibles en el laboratorio, TDS1052B-EDU y TBS1000C, prestar atención que una de las celdas tienen que indicar con que modelo estan trabajando. Por que el comando utilizado en esa celda es levemente diferente para un equipo respecto del otro. El resto de los comandos es exáctamente igual para ambos modelos.\n",
    "\n",
    "Empezamos importando las librerías a utilizar:"
   ]
  },
  {
   "cell_type": "code",
   "execution_count": null,
   "id": "19180df7",
   "metadata": {},
   "outputs": [],
   "source": [
    "import pyvisa as visa\n",
    "import time\n",
    "import numpy as np\n",
    "import pandas as pd\n",
    "from matplotlib import pyplot as plt"
   ]
  },
  {
   "cell_type": "markdown",
   "id": "260216b7",
   "metadata": {},
   "source": [
    "Abrimos el Resource Manager de **pyvisa** para conectarnos con el equipo:"
   ]
  },
  {
   "cell_type": "code",
   "execution_count": null,
   "id": "7538c35a",
   "metadata": {},
   "outputs": [],
   "source": [
    "rm = visa.ResourceManager()\n",
    "\n",
    "lista_instrumentos = rm.list_resources()  \n",
    "\n",
    "print(lista_instrumentos)"
   ]
  },
  {
   "cell_type": "markdown",
   "id": "080e5f9f",
   "metadata": {},
   "source": [
    "Seleccionamos el instrumento y establecemos comunicación:"
   ]
  },
  {
   "cell_type": "code",
   "execution_count": null,
   "id": "3c57d00f",
   "metadata": {},
   "outputs": [],
   "source": [
    "instrumento = ''\n",
    "\n",
    "osci=rm.open_resource()\n",
    "\n",
    "print(osci.query('*IDN?'))"
   ]
  },
  {
   "cell_type": "markdown",
   "id": "f3e267bc",
   "metadata": {},
   "source": [
    "Formateamos los datos que vamos a recibir:"
   ]
  },
  {
   "cell_type": "code",
   "execution_count": null,
   "id": "354ada3b",
   "metadata": {},
   "outputs": [],
   "source": [
    "osci.write('DAT:ENC RPB') \n",
    "osci.write('DAT:WID 1') \n",
    "osci.write('HEADER OFF')"
   ]
  },
  {
   "cell_type": "markdown",
   "id": "b355185b",
   "metadata": {},
   "source": [
    "Congelamos la pantalla antes de comenzar a adquirir:"
   ]
  },
  {
   "cell_type": "code",
   "execution_count": null,
   "id": "bf6a9012",
   "metadata": {},
   "outputs": [],
   "source": [
    "osci.write('ACQ:STATE OFF')"
   ]
  },
  {
   "cell_type": "markdown",
   "id": "a1347afc",
   "metadata": {},
   "source": [
    "Tomamos las escalas en ambos canales. \n",
    "\n",
    "**ATENCIÓN!** Aquí hay que indicar el modelo de osciloscopio que tienen para que el programa pueda a travez de un bloque *if* decidir cuales son los comandos a utilizar:"
   ]
  },
  {
   "cell_type": "code",
   "execution_count": null,
   "id": "7f8093dc",
   "metadata": {},
   "outputs": [],
   "source": [
    "modelo_osci = \"TDS1052B\"   # aca poner el modelo del osciloscopio que tengan : \"TDS1052B\" o  \"TBS1000C\"\n",
    "\n",
    "\n",
    "if modelo_osci==\"TDS1052B\":\n",
    "\n",
    "    xze1, xin1, yze1, ymu1, yoff1 = osci.query_ascii_values('WFMPRE:CH1:XZE?;XIN?;YZE?;YMU?;YOFF?;',separator=';')\n",
    "    time.sleep(2)\n",
    "    xze2, xin2, yze2, ymu2, yoff2 = osci.query_ascii_values('WFMPRE:CH2:XZE?;XIN?;YZE?;YMU?;YOFF?;',separator=';')\n",
    "\n",
    "\n",
    "\n",
    "elif modelo_osci==\"TBS1000C\":\n",
    "\n",
    "    xze1, xin1, yze1, ymu1, yoff1 = osci.query_ascii_values('WFMOUTPRE:CH1:XZE?;XIN?;YZE?;YMU?;YOFF?;',separator=';')\n",
    "    time.sleep(2)\n",
    "    xze2, xin2, yze2, ymu2, yoff2 = osci.query_ascii_values('WFMOUTPRE:CH2:XZE?;XIN?;YZE?;YMU?;YOFF?;',separator=';')\n"
   ]
  },
  {
   "cell_type": "markdown",
   "id": "2a07d37e",
   "metadata": {},
   "source": [
    "Seleccionamos el **canal 1** como fuente de datos y adquirimos la curva:"
   ]
  },
  {
   "cell_type": "code",
   "execution_count": null,
   "id": "3a7e90d0",
   "metadata": {},
   "outputs": [],
   "source": [
    "osci.write('DAT:SOU CH1' )\n",
    "\n",
    "dataCH1 = osci.query_binary_values('CURV?', datatype='B',container=np.array)"
   ]
  },
  {
   "cell_type": "markdown",
   "id": "4d280283",
   "metadata": {},
   "source": [
    "Análogamente, seleccionamos el **canal 2** como fuente de datos y adquirimos la curva:"
   ]
  },
  {
   "cell_type": "code",
   "execution_count": null,
   "id": "15c6fa29",
   "metadata": {},
   "outputs": [],
   "source": [
    "osci.write('DAT:SOU CH2')    \n",
    "\n",
    "dataCH2=osci.query_binary_values('CURV?', datatype='B',container=np.array)"
   ]
  },
  {
   "cell_type": "markdown",
   "id": "403aa85c",
   "metadata": {},
   "source": [
    "Descongelamos la pantalla y cerramos conexión con el osci (si es que no lo van a utilizar más):"
   ]
  },
  {
   "cell_type": "code",
   "execution_count": null,
   "id": "a9dac977",
   "metadata": {},
   "outputs": [],
   "source": [
    "osci.write('ACQ:STATE ON')\n",
    "\n",
    "osci.close()"
   ]
  },
  {
   "cell_type": "markdown",
   "id": "124b3f22",
   "metadata": {},
   "source": [
    "Pasamos los datos a magnitudes físicas, tiempo en *segundos* y voltaje en *Volts*:"
   ]
  },
  {
   "cell_type": "code",
   "execution_count": null,
   "id": "c00d536d",
   "metadata": {},
   "outputs": [],
   "source": [
    "t1 = xze1 + np.arange(len(dataCH1))*xin1 \n",
    "V1=(dataCH1-yoff1)*ymu1+yze1 \n",
    "\n",
    "t2 = xze2 + np.arange(len(dataCH2))*xin2 \n",
    "V2=(dataCH2-yoff2)*ymu2+yze2 "
   ]
  },
  {
   "cell_type": "markdown",
   "id": "dcacf395",
   "metadata": {},
   "source": [
    "Hacemos un ploteo rápido para chequear que los datos adquiridos se corresponden con lo que realmente queremos:"
   ]
  },
  {
   "cell_type": "code",
   "execution_count": null,
   "id": "2d3fa03c",
   "metadata": {},
   "outputs": [],
   "source": [
    "fig, ax  =  plt.subplots()\n",
    "\n",
    "ax.plot(t1, V1, label=\"V CH1\")\n",
    "\n",
    "ax.plot(t2, V2, label=\"V CH2\")\n",
    "\n",
    "ax.set_xlabel('Tiempo [s]')\n",
    "ax.set_ylabel('Voltaje [V]')\n",
    "\n",
    "plt.show()"
   ]
  },
  {
   "cell_type": "markdown",
   "id": "9d75ce11",
   "metadata": {},
   "source": [
    "Guardamos los datos para hacer un análisis posterior:"
   ]
  },
  {
   "cell_type": "code",
   "execution_count": null,
   "id": "3d13eb41",
   "metadata": {},
   "outputs": [],
   "source": [
    "data = { \"t1\":t1, \"V1\":V1, \"t2\":t2, \"V2\":V2 }\n",
    "df = pd.DataFrame( data=data ) \n",
    "\n",
    "carpeta = \"C:path\\to\\you\\folder\"\n",
    "df.to_csv( carpeta+\"Transitorio_Curvas.csv\", index=False )\n",
    "\n",
    "df.head()   "
   ]
  }
 ],
 "metadata": {
  "language_info": {
   "name": "python"
  }
 },
 "nbformat": 4,
 "nbformat_minor": 5
}
