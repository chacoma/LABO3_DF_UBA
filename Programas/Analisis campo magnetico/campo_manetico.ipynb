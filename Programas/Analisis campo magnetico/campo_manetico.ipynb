{
 "cells": [
  {
   "cell_type": "code",
   "execution_count": 59,
   "id": "3c01062f",
   "metadata": {},
   "outputs": [],
   "source": [
    "import numpy as np\n",
    "import pandas as pd\n",
    "import matplotlib.pyplot as plt\n",
    "from scipy.optimize import curve_fit"
   ]
  },
  {
   "cell_type": "markdown",
   "id": "a6876b7f",
   "metadata": {},
   "source": [
    "### Datos\n",
    "\n",
    "El set de datos contiene la relacion entre el eje z solidario al solenoide y el campo magnético en ese eje.\n",
    "\n",
    "La posición en z fue medida con una regla, por tal motivo los errors de z fueron estimados de manera conservadora como $0.5$ para cada punto medido.\n",
    "\n",
    "Para medir el campo magnético se fijaba la sonda en un valor de $z$, y se midieron los valores de campo $B_0$ y $B_{180}$, para luego informar $Bz = \\frac{B_0-B_{180}}{2}$. En cada caso, para obtener el valor de campo se muestreaba durante 5 segundos y luego se promediaba. El error informado para cada punto de campo es la desviacion estandar de ese promedio."
   ]
  },
  {
   "cell_type": "code",
   "execution_count": 25,
   "id": "318c52ed",
   "metadata": {},
   "outputs": [
    {
     "data": {
      "text/html": [
       "<div>\n",
       "<style scoped>\n",
       "    .dataframe tbody tr th:only-of-type {\n",
       "        vertical-align: middle;\n",
       "    }\n",
       "\n",
       "    .dataframe tbody tr th {\n",
       "        vertical-align: top;\n",
       "    }\n",
       "\n",
       "    .dataframe thead th {\n",
       "        text-align: right;\n",
       "    }\n",
       "</style>\n",
       "<table border=\"1\" class=\"dataframe\">\n",
       "  <thead>\n",
       "    <tr style=\"text-align: right;\">\n",
       "      <th></th>\n",
       "      <th>z [cm]</th>\n",
       "      <th>err_z</th>\n",
       "      <th>Bz [T]</th>\n",
       "      <th>err_Bz</th>\n",
       "    </tr>\n",
       "  </thead>\n",
       "  <tbody>\n",
       "    <tr>\n",
       "      <th>0</th>\n",
       "      <td>0.0</td>\n",
       "      <td>0.5</td>\n",
       "      <td>0.000007</td>\n",
       "      <td>1.762362e-08</td>\n",
       "    </tr>\n",
       "    <tr>\n",
       "      <th>1</th>\n",
       "      <td>1.0</td>\n",
       "      <td>0.5</td>\n",
       "      <td>0.000008</td>\n",
       "      <td>2.245624e-08</td>\n",
       "    </tr>\n",
       "    <tr>\n",
       "      <th>2</th>\n",
       "      <td>2.0</td>\n",
       "      <td>0.5</td>\n",
       "      <td>0.000009</td>\n",
       "      <td>3.916987e-07</td>\n",
       "    </tr>\n",
       "    <tr>\n",
       "      <th>3</th>\n",
       "      <td>3.0</td>\n",
       "      <td>0.5</td>\n",
       "      <td>0.000010</td>\n",
       "      <td>1.018435e-09</td>\n",
       "    </tr>\n",
       "    <tr>\n",
       "      <th>4</th>\n",
       "      <td>4.0</td>\n",
       "      <td>0.5</td>\n",
       "      <td>0.000010</td>\n",
       "      <td>5.510986e-08</td>\n",
       "    </tr>\n",
       "  </tbody>\n",
       "</table>\n",
       "</div>"
      ],
      "text/plain": [
       "   z [cm]  err_z    Bz [T]        err_Bz\n",
       "0     0.0    0.5  0.000007  1.762362e-08\n",
       "1     1.0    0.5  0.000008  2.245624e-08\n",
       "2     2.0    0.5  0.000009  3.916987e-07\n",
       "3     3.0    0.5  0.000010  1.018435e-09\n",
       "4     4.0    0.5  0.000010  5.510986e-08"
      ]
     },
     "execution_count": 25,
     "metadata": {},
     "output_type": "execute_result"
    }
   ],
   "source": [
    "df = pd.read_csv( \"datos/campo_mag_bobina.csv\" )\n",
    "\n",
    "df.head()"
   ]
  },
  {
   "cell_type": "code",
   "execution_count": 26,
   "id": "03ab7f70",
   "metadata": {},
   "outputs": [
    {
     "data": {
      "text/plain": [
       "<Axes: xlabel='z [cm]'>"
      ]
     },
     "execution_count": 26,
     "metadata": {},
     "output_type": "execute_result"
    },
    {
     "data": {
      "image/png": "[encoded data removed]",
      "text/plain": [
       "<Figure size 400x300 with 1 Axes>"
      ]
     },
     "metadata": {},
     "output_type": "display_data"
    }
   ],
   "source": [
    "df.plot( x=\"z [cm]\", y='Bz [T]' ,marker='o', figsize=(4,3), linewidth=0)"
   ]
  },
  {
   "cell_type": "markdown",
   "id": "d11072b1",
   "metadata": {},
   "source": [
    "### Ajuste - Campo magnético en un solenoide real\n",
    "\n",
    "Si el solenoide no es infinitamente largo o si se considera una posición cercana a los extremos, el campo magnético ya no es completamente uniforme. En este caso, el campo en el eje del solenoide (eje \\( z \\)) puede aproximarse mediante:\n",
    "\n",
    "$$\n",
    "B(z) = \\frac{\\mu_0 n I}{2} \\left( \\frac{L/2 + z}{\\sqrt{R^2 + (L/2 + z)^2}} + \\frac{L/2 - z}{\\sqrt{R^2 + (L/2 - z)^2}} \\right)\n",
    "$$\n",
    "\n",
    "donde:\n",
    "- $L$ = longitud del solenoide\n",
    "- $R$ = radio del solenoide\n",
    "- $z$ = distancia desde el centro del solenoide a lo largo de su eje\n",
    "\n",
    "\n",
    "planteamos el modelo:"
   ]
  },
  {
   "cell_type": "code",
   "execution_count": null,
   "id": "d41853bc",
   "metadata": {},
   "outputs": [],
   "source": [
    "def modelo_Bz(z,u, L,n, mu0,I,R):\n",
    "\n",
    "    A1 = (( L/2) + z)/np.sqrt( ( (L/2) + z)**2 + R**2 )\n",
    "    A2 = (( L/2) - z)/np.sqrt( ( (L/2) - z)**2 + R**2 )\n",
    "\n",
    "    return (mu0*I*n/2.0)*(  A1+A2 )"
   ]
  },
  {
   "cell_type": "markdown",
   "id": "89a5c9c5",
   "metadata": {},
   "source": [
    "ajusto:"
   ]
  },
  {
   "cell_type": "code",
   "execution_count": null,
   "id": "129f2f4f",
   "metadata": {},
   "outputs": [
    {
     "name": "stderr",
     "output_type": "stream",
     "text": [
      "No artists with labels found to put in legend.  Note that artists whose label start with an underscore are ignored when legend() is called with no argument.\n"
     ]
    },
    {
     "name": "stdout",
     "output_type": "stream",
     "text": [
      "Parámetros obtenidos del ajuste:\n",
      "L = (30.9537 ± 0.276502)\n",
      "R = (2.0766 ± 85454971053394.062500)\n",
      "n = (27.6562 ± 37818894.823351)\n",
      "$\\mu_0$ = (0.2046 ± 8417997609508.162109)\n",
      "I = (3.8380 ± 0.378300)\n"
     ]
    },
    {
     "data": {
      "image/png": "[encoded data removed]",
      "text/plain": [
       "<Figure size 640x480 with 1 Axes>"
      ]
     },
     "metadata": {},
     "output_type": "display_data"
    }
   ],
   "source": [
    "z = df[\"z [cm]\"].to_numpy()-15              # translado el cero\n",
    "err_z= df[\"err_z\"].to_numpy()          \n",
    "\n",
    "Bz = df[\"Bz [T]\"].to_numpy()*1e6            # campo en militesla\n",
    "err_Bz = df[\"err_Bz\"].to_numpy()*1e6\n",
    "\n",
    "\n",
    "# parametros \n",
    "L_ini=30\n",
    "R_ini=5 \n",
    "mu0_ini=1.257 # en 1e-6\n",
    "n_ini=170\n",
    "I_ini=0.057\n",
    "\n",
    "nom= [\"L\", \"R\",\"n\", \"$\\mu_0$\", \"I\"]\n",
    "\n",
    "po = [L_ini, R_ini, n_ini, mu0_ini, I_ini]\n",
    "\n",
    "\n",
    "# ajuste\n",
    "popt, pcov = curve_fit(modelo_Bz, z, Bz, p0=po )      \n",
    "SE = np.sqrt(np.diag(pcov)) # Errores \n",
    "\n",
    "\n",
    "# Resutados \n",
    "print (\"Parámetros obtenidos del ajuste:\")\n",
    "for i in range(len(nom)):\n",
    "    print(f\"{nom[i]} = ({popt[i]:.4f} ± {SE[i]:.6f})\")\n",
    "\n",
    "z_ = np.arange(-15, 16, 0.5)\n",
    "Bz_ = modelo_Bz(z_, *popt )\n",
    "\n",
    "\n",
    "\n",
    "#plots\n",
    "fig, ax = plt.subplots()\n",
    "\n",
    "# data\n",
    "ax.scatter( z, Bz, marker='o', facecolor='white', edgecolor=\"C0\")\n",
    "ax.fill_between(z, Bz-err_Bz, Bz+err_Bz, color = \"C0\",alpha=0.2)\n",
    "\n",
    "# model\n",
    "ax.plot( z_, Bz_, c='C3')\n",
    "\n",
    "ax.set_xlabel(\"$z$ [cm]\")\n",
    "ax.set_ylabel(\"$B_z$ [uT]\")\n",
    "ax.legend()\n",
    "plt.show()"
   ]
  },
  {
   "cell_type": "code",
   "execution_count": null,
   "id": "f5e97b33",
   "metadata": {},
   "outputs": [],
   "source": [
    "\n",
    "\n",
    "\n",
    "\n",
    "\n",
    "\n",
    "L=0.15\n",
    "R=0.05 \n",
    "\n",
    "n=200\n",
    "mu0=1.257e-6\n",
    "I=0.050\n",
    "\n",
    "z0=0.079\n",
    "\n",
    "z = np.arange(-0.15, 0.16, 0.01)\n",
    "\n",
    "Bz_ = campo_Bz(z, z0, L, n, mu0,I,R) +campo_Bz(z, -z0, L, n, mu0,I,R) \n",
    "\n",
    "Bz = Bz_ + np.random.random(size=len(Bz_))*3e-7\n",
    "\n",
    "fig, ax = plt.subplots()\n",
    "\n",
    "ax.scatter(z, Bz)\n",
    "\n",
    "ax.axvline(0)\n",
    "\n",
    "plt.show()\n",
    "\n"
   ]
  },
  {
   "cell_type": "code",
   "execution_count": 132,
   "id": "46e73e64",
   "metadata": {},
   "outputs": [],
   "source": [
    "data= {\"z\":100*(z+0.15), \"B\":Bz}\n",
    "\n",
    "pd.DataFrame(data=data).to_csv( \"campo_mag_bobina.csv\",index=False )\n",
    "\n",
    "\n"
   ]
  }
 ],
 "metadata": {
  "kernelspec": {
   "display_name": "base",
   "language": "python",
   "name": "python3"
  },
  "language_info": {
   "codemirror_mode": {
    "name": "ipython",
    "version": 3
   },
   "file_extension": ".py",
   "mimetype": "text/x-python",
   "name": "python",
   "nbconvert_exporter": "python",
   "pygments_lexer": "ipython3",
   "version": "3.10.14"
  }
 },
 "nbformat": 4,
 "nbformat_minor": 5
}
