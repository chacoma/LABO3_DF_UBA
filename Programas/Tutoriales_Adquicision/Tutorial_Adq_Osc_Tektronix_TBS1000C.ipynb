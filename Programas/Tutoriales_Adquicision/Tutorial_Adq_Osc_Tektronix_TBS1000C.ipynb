{
 "cells": [
  {
   "cell_type": "markdown",
   "metadata": {},
   "source": [
    "## Adquisición con osciloscopio Tektronix TBS1000C\n",
    "\n",
    "En este tutorial vamos a ver:\n",
    "\n",
    "1- Cómo utilizar la [librería pyvisa](https://pyvisa.readthedocs.io/en/latest/) de python para comunicarnos con el equipo\n",
    "\n",
    "2- Cómo adquirir una curva mostrada por el osciloscopio\n",
    "\n",
    "3- Cómo realizar mediciones sobre la señal observada\n",
    "\n",
    "4- Cómo obtener las incertezas en la medición\n",
    "\n",
    "\n",
    "[ver manual de programación del TBS1000C](https://drive.google.com/file/d/12OwuZ7jb8mmm6hDEhMLc-YBIp1Tau8EP/view?usp=sharing)\n",
    "\n",
    "\n",
    "[ver manual de usuario del TBS1000C](https://drive.google.com/file/d/1qHF2r6Nui-zS7caoaPUTwJCwMAxECCAU/view?usp=sharing)\n",
    "\n",
    "### 1- Cómo utilizar pyvisa para comunicarnos con el equipo\n",
    "\n",
    "Empezamos importando las librerías que vamos a utilizar:"
   ]
  },
  {
   "cell_type": "code",
   "execution_count": null,
   "metadata": {},
   "outputs": [],
   "source": [
    "import pyvisa                               # para comunicarnos con los equipos\n",
    "import numpy as np                          # para operar con listas de datos\n",
    "import pandas as pd                         # para manejar archivos de datos: Guardar, abrir, etc\n",
    "import matplotlib.pyplot as plt             # para plotear \n",
    "import time                                 # para realizar pausas entre mediciones"
   ]
  },
  {
   "cell_type": "markdown",
   "metadata": {},
   "source": [
    "En primer lugar, necesitamos definir un objeto que nos permita comunicarnos e interactuar con los instrumentos que tenemos conectados vía puerto USB, GPIB, Serial (RS232), Ethernet, etc. Este objeto se conoce como Resource Manager y lo invocamos desde la librería pyvisa:"
   ]
  },
  {
   "cell_type": "code",
   "execution_count": null,
   "metadata": {},
   "outputs": [],
   "source": [
    "rm = pyvisa.ResourceManager()            # Defino objeto resource manager de pyvisa"
   ]
  },
  {
   "cell_type": "markdown",
   "metadata": {},
   "source": [
    "Este se utiliza para: (a) detectar dispositivos conectados y listar todos los recursos disponibles y (b) crear interfases para comunicarnos con dispositivos.\n",
    "\n",
    "Una vez definido el objeto **rm**, podemos listar los instrumentos conectados a nuestra PC: "
   ]
  },
  {
   "cell_type": "code",
   "execution_count": null,
   "metadata": {},
   "outputs": [],
   "source": [
    "instrumentos_conectados = rm.list_resources()           # lista de instrumentos conectados\n",
    "\n",
    "print (instrumentos_conectados)"
   ]
  },
  {
   "cell_type": "markdown",
   "metadata": {},
   "source": [
    "De la lista obtenida en la celda anterior, vemos que cada instrumento es identificado con un *string* de la siguiente manera: `puerto::marca::modelo::NroSerie`. Para identificar cual de todos es el osciloscopio, buscamos el *modelo* en la etiqueta ubicada en la parte trasera del equipo. Una vez identificado, copiamos el nombre y lo pegamos en la variable *instrumento*, luego procedemos a establecer la comunicación con el equipo:"
   ]
  },
  {
   "cell_type": "code",
   "execution_count": null,
   "metadata": {},
   "outputs": [],
   "source": [
    "instrumento = 'puerto::marca::modelo::NroSerie'         # colocar acá el instrumento asociado al osciloscopio \n",
    "\n",
    "osci = rm.open_resource(instrumento)                    # Establezco comunicación con el osciloscopio\n",
    "\n",
    "osci.query('*IDN?')                                     # le pido que se identifique para checkear la conexión"
   ]
  },
  {
   "cell_type": "markdown",
   "metadata": {},
   "source": [
    "El objeto *osci* será nuestra interfase, éste nos permite interactuar con el osciloscopio utilizando rutinas estándar. Generalmente, realizamos dos tipos de operaciones:\n",
    "\n",
    "- Enviar un comando al instrumento para configurar parámetros o iniciar procesos sin esperar ninguna respuesta. Esto se realiza mediante rutinas de tipo **write**.\n",
    "  \n",
    "- Enviar un comando al instrumento y esperar una respuesta, como por ejemplo, obtener los datos que estoy midiendo o consultar el estado del instrumento. Esto se realiza mediante rutinas de tipo **query**.\n",
    "\n",
    "El lenguaje que utilizamos para comunicarnos con el equipo está definido en el estándar [**SCPI**](https://en.wikipedia.org/wiki/Standard_Commands_for_Programmable_Instruments) (Standard Commands for Programmable Instruments), el cual es ampliamente utilizado para la comunicación remota con equipos de instrumentación como osciloscopios, multímetros y generadores de funciones.\n",
    "\n",
    "Una vez que comprobamos la conexión con el equipo, lo primero que haremos es configurar como queremos que éste formatee los datos de salida. Empezamos ejecutando,"
   ]
  },
  {
   "cell_type": "code",
   "execution_count": null,
   "metadata": {},
   "outputs": [],
   "source": [
    "osci.write('DAT:ENC RPB')"
   ]
  },
  {
   "cell_type": "markdown",
   "metadata": {},
   "source": [
    "Con ese comando le indicamos al equipo cómo debe codificar los datos de salida. En este caso, utilizaremos datos **Raw Binary** (RPB), lo que significa que queremos los datos en formato binario crudo, sin ningún tipo de procesamiento o compresión.\n",
    "\n",
    "A continuación, seteamos el ancho de banda en *1 byte*. Es decir, establecemos que el osciloscopio envíe datos como valores de 8 bits por muestra:"
   ]
  },
  {
   "cell_type": "code",
   "execution_count": null,
   "metadata": {},
   "outputs": [],
   "source": [
    "osci.write('DAT:WID 1')         # data band width 1 byte"
   ]
  },
  {
   "cell_type": "markdown",
   "metadata": {},
   "source": [
    "Pedimos también que los datos sean transmitidos limpiamente, sin encabezados:"
   ]
  },
  {
   "cell_type": "code",
   "execution_count": null,
   "metadata": {},
   "outputs": [],
   "source": [
    "osci.write('HEADER OFF')"
   ]
  },
  {
   "cell_type": "markdown",
   "metadata": {},
   "source": [
    "### 2. Adquisición de una curva mostrada por el osciloscopio\n",
    "\n",
    "Supongamos que estás utilizando el osciloscopio para medir la caída de tensión en un componente de tu circuito y estás visualizando la curva de tensión en uno de los canales del equipo. Te interesa adquirir esa curva para realizar algún tipo de análisis de datos en la PC. A continuación, te explico cómo hacerlo.\n",
    "\n",
    "Primero, encendemos el canal del equipo con el que queremos adquirir, en este caso, el canal 1 (CH1):"
   ]
  },
  {
   "cell_type": "code",
   "execution_count": null,
   "metadata": {},
   "outputs": [],
   "source": [
    "osci.write('SEL:CH1 ON')        # select:channel1 ON"
   ]
  },
  {
   "cell_type": "markdown",
   "metadata": {},
   "source": [
    "configuramos el equipo en AUTOSET. Esto le indica al osciloscopio que ajuste su configuración para optimizar la visualización de la señal que está midiendo, en particular nos interesa que realice un ajuste automático de la escala. Para esto, escribimos:"
   ]
  },
  {
   "cell_type": "code",
   "execution_count": null,
   "metadata": {},
   "outputs": [],
   "source": [
    "osci.write('AUTOS EXEC')   # Equivalente a apretar el botón AUTOSET del equipo, \n",
    "\n",
    "time.sleep(5)                   "
   ]
  },
  {
   "cell_type": "markdown",
   "metadata": {},
   "source": [
    "La rutina *time.sleep()* genera una pausa de 5 segundos, tiempo de espera necesario para que el equipo optimice la visualización de la señal antes de poder recibir otra orden.\n",
    "\n",
    "\n",
    "Si estamos por tomar los datos y la pantalla se mueve mucho, por ejemplo por una señal ruidosa, es conveniente congelar la pantalla antes de medir. Eso se hace con el comando:"
   ]
  },
  {
   "cell_type": "code",
   "execution_count": null,
   "metadata": {},
   "outputs": [],
   "source": [
    "osci.write('ACQ:STATE OFF')     "
   ]
  },
  {
   "cell_type": "markdown",
   "metadata": {},
   "source": [
    "Configuramos el osciloscopio para que la fuente de datos sea el canal 1 (CH1). Esto significa que, al realizar operaciones de adquisición o cálculos posteriormente, el osciloscopio usará la señal medida en el canal 1:"
   ]
  },
  {
   "cell_type": "code",
   "execution_count": null,
   "metadata": {},
   "outputs": [],
   "source": [
    "osci.write('DAT:SOU CH1')       # data:source channel1"
   ]
  },
  {
   "cell_type": "markdown",
   "metadata": {},
   "source": [
    "Una vez fijada la fuente de datos y congelado la pantalla, solicitamos al osciloscopio algunos parámetros relacionados con la escala de la señal que estamos adquiriendo. "
   ]
  },
  {
   "cell_type": "code",
   "execution_count": null,
   "metadata": {},
   "outputs": [],
   "source": [
    "xze, xin, yze, ymu, yoff = osci.query_ascii_values('WFMOUTPRE:XZE?;XIN?;YZE?;YMU?;YOFF?;',separator=';') # waveform preamble information\n",
    "\n",
    "time.sleep(2)           # breve pausa"
   ]
  },
  {
   "cell_type": "markdown",
   "metadata": {},
   "source": [
    "Siempre antes de hacer un *query* es recomendable hacer una pausa para darle tiempo al equipo a que termine de configurar las ordenes anteriores. En el contexto del *Jupyter Notebook* donde uno va ejecutando de a uno las celdas del programa, esto pude que no sea necesario, ya que esa misma dinámica le da las pausas necesarias. No obstante cuando uno decide correr todas las celdas juntas, la pausa con el *time.sleep()* cobra relevancia.\n",
    "\n",
    "\n",
    "En el comando múltiple *osci.query_ascii_values()* estamos solicitando al equipo: \n",
    "\n",
    "- 'WFMOUTPRE:XZE?': Pide el desplazamiento horizontal inicial (XZE), que es el tiempo correspondiente al primer punto de la señal.\n",
    "- 'WFMOUTPRE:XIN?': Pide el intervalo de muestreo (XIN), que es el tiempo entre muestras consecutivas.\n",
    "- 'WFMOUTPRE:YZE?': Pide el desplazamiento vertical cero (YZE), que es el nivel de voltaje que corresponde a un valor digital de cero.\n",
    "- 'WFMOUTPRE:YMU?': Pide la escala vertical (YMU), que convierte unidades digitales a unidades físicas (típicamente voltios).\n",
    "- 'WFMOUTPRE:YOFF?': Pide el desplazamiento vertical (YOFF), que corrige la señal para que el cero físico corresponda al cero digital.\n",
    "\n",
    "Más adelante utilizaremos estos parámetros para escribir la curva en términos de las magnitudes físicas correspondientes.\n",
    "\n",
    "Ahora si, finalmente, adquirimos la curva que observamos en el osciloscopio:"
   ]
  },
  {
   "cell_type": "code",
   "execution_count": null,
   "metadata": {},
   "outputs": [],
   "source": [
    "time.sleep(2)           \n",
    "\n",
    "dataCH1 = osci.query_binary_values('CURV?', datatype='B', container=np.array) "
   ]
  },
  {
   "cell_type": "markdown",
   "metadata": {},
   "source": [
    "Los argumentos de la función *osci.query_binary_values()* indican:\n",
    "\n",
    "- 'CURV?': Es la consulta que se realiza al dispositivo. En este caso, 'CURV?' generalmente se usa para solicitar datos de forma de onda (curva) del osciloscopio. Esto indica que el dispositivo debe enviar datos binarios de la forma de onda.\n",
    "\n",
    "- datatype='B': Especifica el tipo de datos que se esperan recibir del dispositivo. 'B' indica que los datos se recibirán como bytes (es decir, valores enteros de 8 bits sin signo).\n",
    "\n",
    "- container=np.array: Especifica el contenedor en el que se deben almacenar los datos recibidos. *np.array* indica que los datos se almacenarán en un array de NumPy."
   ]
  },
  {
   "cell_type": "markdown",
   "metadata": {},
   "source": [
    "Ya con la curva adquirida, utilizamos los parámetros para re-escribirla en términos de las magnitudes físicas correspondientes: "
   ]
  },
  {
   "cell_type": "code",
   "execution_count": null,
   "metadata": {},
   "outputs": [],
   "source": [
    "t = xze + np.arange(len(dataCH1)) * xin             # Conversion a tiempo en segundos\n",
    "\n",
    "VCH1 = (dataCH1 - yoff) * ymu + yze                 # Conversion a voltaje en Volts"
   ]
  },
  {
   "cell_type": "markdown",
   "metadata": {},
   "source": [
    "Hacemos un gráfico para visualizar los datos:"
   ]
  },
  {
   "cell_type": "code",
   "execution_count": null,
   "metadata": {},
   "outputs": [],
   "source": [
    "fig, ax  =  plt.subplots()\n",
    "\n",
    "ax.plot(t, VCH1, label=\"CH1\")\n",
    "\n",
    "ax.set_xlabel('Tiempo [s]')\n",
    "ax.set_ylabel('Voltaje [V]')\n",
    "plt.show()"
   ]
  },
  {
   "cell_type": "markdown",
   "metadata": {},
   "source": [
    "Queremos guardar los datos medidos, una forma sencilla es hacerlo a través de la librería *pandas*. Primero definimos un objeto *DataFrame* al cual le pasamos como argumentos los datos en un diccionario:"
   ]
  },
  {
   "cell_type": "code",
   "execution_count": null,
   "metadata": {},
   "outputs": [],
   "source": [
    "data = {\"tiempo\":t, \"voltaje\":VCH1}\n",
    "\n",
    "df = pd.DataFrame( data=data ) \n",
    "\n",
    "df.head()                                              # muestro las primeras filas de datos "
   ]
  },
  {
   "cell_type": "markdown",
   "metadata": {},
   "source": [
    "El objeto resultante, *df*, es un tipo de estructura de datos en Pandas que funciona como una tabla, similar a una hoja de cálculo o una base de datos, donde a partir de varias rutinas de la librería, podemos almacenar y manipular datos organizados en filas y columnas.\n",
    "\n",
    "Hecho esto, definimos una carpeta de destino para los datos, un nombre, y guardamos el conjunto de datos en un archivo tipo *Comma Separated Values* (*.csv*):"
   ]
  },
  {
   "cell_type": "code",
   "execution_count": null,
   "metadata": {},
   "outputs": [],
   "source": [
    "carpeta = \"path/to/you/folder/\"                       # indicar dirección de la carpeta donde se guardarán los datos\n",
    "\n",
    "df.to_csv( carpeta+\"voltaje_CH1.csv\", index=False )"
   ]
  },
  {
   "cell_type": "markdown",
   "metadata": {},
   "source": [
    "Adquirida la curva y guardada, vuelvo a activar la adquisición para seguir trabajando en otras mediciones:"
   ]
  },
  {
   "cell_type": "code",
   "execution_count": null,
   "metadata": {},
   "outputs": [],
   "source": [
    "osci.write('ACQ:STATE ON')"
   ]
  },
  {
   "cell_type": "markdown",
   "metadata": {},
   "source": [
    "### 3. Mediciones matemáticas sobre la señal\n",
    "\n",
    "Estamos midiendo la caída de tensión sobre un componente de nuestro circuito. Para esto estamos utilizando el canal 1 del osciloscopio (CH1). Visualizamos la curva en el osciloscopio y queremos obtener de ésta la amplitud y la fase. Para realizar estas mediciones, vamos a utilizar el comando **MEASUREMENT:IMMED**.\n",
    "\n",
    "#### 3.1. Medición de amplitud de la señal\n",
    "\n",
    "Antes de medir ajusto la escala del osciloscopio y le doy 5 segundos de pausa antes de ejecutar un nuevo comando"
   ]
  },
  {
   "cell_type": "code",
   "execution_count": null,
   "metadata": {},
   "outputs": [],
   "source": [
    "osci.write('AUTOS EXEC')\n",
    "\n",
    "time.sleep(5)               # esta pausa da tiempo para que ocurra la auto configuración"
   ]
  },
  {
   "cell_type": "markdown",
   "metadata": {},
   "source": [
    "En primer lugar configuramos al canal 1 como la fuente para una medición inmediata en el osciloscopio:"
   ]
  },
  {
   "cell_type": "code",
   "execution_count": null,
   "metadata": {},
   "outputs": [],
   "source": [
    "osci.write('MEASUrement:IMMed:SOURce CH1')              # las letras de los comandos en minúsculas no es necesario ponerlas"
   ]
  },
  {
   "cell_type": "markdown",
   "metadata": {},
   "source": [
    "Para medir la amplitud, configuramos al osciloscopio para que la medición sea del tipo *Root Mean Square* (RMS Ciclo), es decir pedimos que cuando midamos nos entregue el voltaje eficaz de la señal:"
   ]
  },
  {
   "cell_type": "code",
   "execution_count": null,
   "metadata": {},
   "outputs": [],
   "source": [
    "osci.write('MEASUrement:IMMed:TYPe CRMS')"
   ]
  },
  {
   "cell_type": "markdown",
   "metadata": {},
   "source": [
    "Mido la amplitud en el canal 1:"
   ]
  },
  {
   "cell_type": "code",
   "execution_count": null,
   "metadata": {},
   "outputs": [],
   "source": [
    "ACH1= float( osci.query('MEASUrement:IMMed:VALue?') ) \n",
    "\n",
    "time.sleep(2)"
   ]
  },
  {
   "cell_type": "markdown",
   "metadata": {},
   "source": [
    "Note que *osci.query('MEASUrement:IMMed:VALue?')* devuelve un string con el valor medido, como por ejemplo \"0.1234\" o \"1.56E-03\". Para convertirlo a un número flotante y poder hacer cálculos con él, es necesario usar la rutina *float()*.\n",
    "\n",
    "Muchas veces puede ser útil medir la amplitud pico a pico de la señal, para hacerlo, por ejemplo en el canal 1, ejecutamos:"
   ]
  },
  {
   "cell_type": "code",
   "execution_count": null,
   "metadata": {},
   "outputs": [],
   "source": [
    "osci.write('MEASUrement:IMMed:SOURce CH1')\n",
    "\n",
    "osci.write('MEASUrement:IMMed:TYPe PK2pk')\n",
    "\n",
    "Apk_CH1= float( osci.query('MEASUrement:IMMed:VALue?') ) \n",
    "\n",
    "time.sleep(2)"
   ]
  },
  {
   "cell_type": "markdown",
   "metadata": {},
   "source": [
    "#### 3.2. Medición de la fase de la señal\n",
    "\n",
    "Al igual que antes utilizamos el comando MEASU:IMM, el procedimiento es similar al caso de la amplitud: \n",
    "\n",
    "Definimos una medición inmediata con fuente en el canal 1, configuramos el tipo de medición en *tipo fase*, y ejecutamos un *query* para adquirir el valor:"
   ]
  },
  {
   "cell_type": "code",
   "execution_count": null,
   "metadata": {},
   "outputs": [],
   "source": [
    "osci.write('MEASU:IMM:SOUR CH1')\n",
    "\n",
    "osci.write('MEASU:IMM:TYP PHAse')\n",
    "\n",
    "time.sleep(2)\n",
    "\n",
    "fase = osci.query_ascii_values('MEASUrement:IMMed:VALue?')[0]      # en grados"
   ]
  },
  {
   "cell_type": "markdown",
   "metadata": {},
   "source": [
    "### 4. Acerca de los errores en la medición\n",
    "\n",
    "#### 4.1 Incerteza en la medición de voltaje\n",
    "\n",
    "\n",
    "Para obtener la incertidumbre en la medición de la amplitud, para eso utilizamos la expresión:\n",
    "\n",
    "\n",
    "$\\Delta A = \\Delta A_{\\text{rel}} + \\Delta A_{\\text{res}}$\n",
    "\n",
    "Donde:  \n",
    "- $ \\Delta A_{\\text{rel}}$: Error relativo asociado al sistema de medición.  \n",
    "- $ \\Delta A_{\\text{res}}$: Error debido a la resolución del sistema (cuantización).\n",
    "\n",
    "Cálculo de cada término:\n",
    "\n",
    "1. **Error relativo ($ \\Delta A_{\\text{rel}}$)**  \n",
    "    $\\Delta A_{\\text{rel}} = \\alpha ACH1$\n",
    "    \n",
    "    Donde:  \n",
    "    - $ACH1$ es la amplitud medida.\n",
    "    - $\\alpha$ es el error relativo dado por el fabricante del dispositivo (en este osciloscopio, $\\alpha = 0.03$ o $3\\%$).\n",
    "\n",
    "2. **Error de resolución ($\\Delta A_{\\text{res}}$)**  \n",
    "   $\\Delta A_{\\text{res}} = \\frac{\\text{escalav1} \\times (R/N)}{2}$\n",
    "\n",
    "   Donde:  \n",
    "   - $\\text{escalav1}$ es la escala de medición (por ejemplo 0.1 V/div).  \n",
    "   - $R$ es el rango total del sistema, es la diferencia entre el máximo y el mínimo voltaje que el osciloscopio puede medir.\n",
    "    En este modelo R=10 V (mide de -5 V a +5 V).  \n",
    "   - $N$ es el número de niveles de cuantización, como estoy midiendo con 8 bits, N = 255.\n",
    "   - El factor 2 indica estamos considerando que el error de resolución podría ser de hasta la mitad del intervalo de cuantización.\n",
    "\n",
    "Note que, necesitamos la escala vertical (o sensibilidad) del canal 1 para realizar el cálculo. Para obtenerla ejecutamos:"
   ]
  },
  {
   "cell_type": "code",
   "execution_count": null,
   "metadata": {},
   "outputs": [],
   "source": [
    "escalav1 = float(osci.query('CH1:SCAle?'))"
   ]
  },
  {
   "cell_type": "markdown",
   "metadata": {},
   "source": [
    "El error de medición entonces se calcula como:"
   ]
  },
  {
   "cell_type": "code",
   "execution_count": null,
   "metadata": {},
   "outputs": [],
   "source": [
    "errACH1 = 0.03*ACH1 + (escalav1*(10/255))/2.0"
   ]
  },
  {
   "cell_type": "markdown",
   "metadata": {},
   "source": [
    "#### 4.2 Incerteza en la medición de tiempo\n",
    "\n",
    "\n",
    "**Presición de la base de tiempo**. Mide la estabilidad y precisión del oscilador de cristal interno del osciloscopio que define el paso del tiempo. Para este equipo es de $25ppm$, significa que por cada 1 millón de segundos que el osciloscopio intenta medir, puede tener un error de hasta 25 segundos. Se aplica al intervalo de tiempo total, $t$, que estás midiendo,\n",
    "\n",
    "$$\n",
    "\\Delta t_{bt} = t \\times 25\\times10^{-6} \n",
    "$$\n",
    "\n",
    "\n",
    "**Incertidumbre por Discretización Temporal**. El osciloscopio digital no mide la señal de forma continua; la captura a intervalos fijos de tiempo, determinados por la Tasa de Muestreo (Sample Rate, $f_s$). Cada punto muestreado se \"bloquea\" en un instante de tiempo específico. El intervalo de tiempo entre dos puntos de muestreo adyacentes se llama Intervalo de Muestreo, $t_{step} = 1/f_s$. Se puede probar que el error asociado a esta discretización en este equipo viene dado por,\n",
    "\n",
    "$$\n",
    "\\Delta t_{dis} = \\frac{t_{step}}{\\sqrt{12}} \n",
    "$$​\n",
    "\n",
    "La frecuencia de muestreo puede depender de la escala, por lo tanto cada vez que medimos debemos solicitarla vía comandos, "
   ]
  },
  {
   "cell_type": "code",
   "execution_count": null,
   "metadata": {},
   "outputs": [],
   "source": [
    "fs = float( osci.query('HORizontal:SAMPLERate?') )\n",
    "\n",
    "err_t_dis = (1/fs)/np.sqrt(12)"
   ]
  },
  {
   "cell_type": "markdown",
   "metadata": {},
   "source": [
    "Los dos errores anteriores son muy chicos y en general no aportan mucho. En lo que sigue describimos el ruido de canal, que aparece cuando uno quiere medir tiempos asociados a cruces de umbral.\n",
    "\n",
    "**Incertidumbre por ruido**. La incerteza de timing inducida por el canal (Jitter) es la imprecisión con la que el osciloscopio detecta el instante exacto de tiempo (t) para un evento (como un cruce por cero o un flanco), y tiene que ver con los errores en el eje vertical. Viene dado por,\n",
    "\n",
    "$$\n",
    "\\Delta t_{ruido} = \\big| \\frac{ \\Delta V_{ruido.rms} }{ \\frac{dV}{dt} } \\big|\n",
    "$$\n",
    "\n",
    "Donde el numerador se puede obtener midiendo la desviación estandar y el denominador se puede aproximar utilizando la amplitud de la señal, por ejemplo para medir este ruido en el canal 1,"
   ]
  },
  {
   "cell_type": "code",
   "execution_count": null,
   "metadata": {},
   "outputs": [],
   "source": [
    "osci.write('MEASUrement:IMMediate:SOUrce1 CH1')\n",
    "osci.write('MEASUrement:IMMediate:TYPe RMS')\n",
    "DV_ruido_rms = osci.query_ascii_values('MEASUrement:IMMed:SDEv?')[0]\n",
    "time.sleep(2)\n",
    "\n",
    "\n",
    "osci.write('MEASUrement:IMMediate:SOUrce1 CH1')\n",
    "osci.write('MEASUrement:IMMediate:TYPe SLEWrate')\n",
    "dV_dt = osci.query_ascii_values('MEASUrement:IMMediate:VALue?')[0]\n",
    "time.sleep(2)\n",
    "\n",
    "err_t_ruido = abs( DV_ruido_rms/ dV_dt )"
   ]
  },
  {
   "cell_type": "markdown",
   "metadata": {},
   "source": [
    "En señales periodicas, la deriva puede ser aproximada por $ \\frac{dV}{dt} \\approx 2\\pi f A_{pk} $, donde $A_{pk}$ es la amplitud pico a pico.\n",
    "\n",
    "#### 4.3 Incerteza en la medición de fase\n",
    "\n",
    "Para obtener la incerteza de la fase conviene medir el promedio y la desviación estandar,"
   ]
  },
  {
   "cell_type": "code",
   "execution_count": null,
   "metadata": {},
   "outputs": [],
   "source": [
    "osci.write('MEASUrement:IMMediate:TYPe PHASE')\n",
    "osci.write('MEASUrement:IMMediate:SOUrce1 CH1')\n",
    "\n",
    "# acá necesito esperar un tiempo para que el equipo acumule estadística\n",
    "time.sleep(5)\n",
    "\n",
    "fase_mean = osci.query_ascii_values('MEASUrement:IMMediate:MEAN?')[0]\n",
    "std_fase  = osci.query_ascii_values('MEASUrement:IMMediate:SDEv?')[0]\n",
    "\n"
   ]
  }
 ],
 "metadata": {
  "kernelspec": {
   "display_name": "Python 3 (ipykernel)",
   "language": "python",
   "name": "python3"
  },
  "language_info": {
   "codemirror_mode": {
    "name": "ipython",
    "version": 3
   },
   "file_extension": ".py",
   "mimetype": "text/x-python",
   "name": "python",
   "nbconvert_exporter": "python",
   "pygments_lexer": "ipython3",
   "version": "3.10.14"
  }
 },
 "nbformat": 4,
 "nbformat_minor": 4
}
