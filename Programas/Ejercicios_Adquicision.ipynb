{
 "cells": [
  {
   "cell_type": "markdown",
   "id": "d3190140",
   "metadata": {},
   "source": [
    "## Ejercicios Adquisición\n",
    "\n",
    "En esta práctica se plantean una serie de ejercicios para trabajar la **operación combinada** del Generador de Funciones (GEN) y del Osciloscopio (OSC). Para su resolución, use como referencia los tutoriales que explican el funcionamiento básico de los equipos. \n",
    "\n",
    "Antes de empezar, conecte los canal 1 y 2 del GEN a los canal 1 y 2 del OSC.\n",
    "\n",
    "Ejecute sus respuestas en celdas de este mismo notebook.\n",
    "\n",
    "Recuerde siempre que puede necesitar ejecutar **pausas entre comandos** para el correcto funcionamiento del programa.\n",
    "\n",
    "\n"
   ]
  },
  {
   "cell_type": "markdown",
   "id": "7dc9ecff",
   "metadata": {},
   "source": [
    "#### (1) En la siguiente celda se importan dos de las librerías necesarias para operar el GEN y para adquirir con el OSC. Importe las que faltan:"
   ]
  },
  {
   "cell_type": "code",
   "execution_count": 17,
   "id": "60cc83a3",
   "metadata": {},
   "outputs": [],
   "source": [
    "import numpy as np\n",
    "import pandas as pd\n",
    "\n"
   ]
  },
  {
   "cell_type": "markdown",
   "id": "18eb6682",
   "metadata": {},
   "source": [
    "#### (2) Defina el objeto resource manager y muestre una lista con los equipos conectados."
   ]
  },
  {
   "cell_type": "code",
   "execution_count": null,
   "id": "3dd8de19",
   "metadata": {},
   "outputs": [],
   "source": []
  },
  {
   "cell_type": "markdown",
   "id": "19d3cb79",
   "metadata": {},
   "source": [
    "#### (3) Establezca conexión con Generador de Funciones y con el Osciloscopio. Luego ejecute un *query* a ambos para pedir que se identifiquen."
   ]
  },
  {
   "cell_type": "code",
   "execution_count": null,
   "id": "3caa180e",
   "metadata": {},
   "outputs": [],
   "source": []
  },
  {
   "cell_type": "markdown",
   "id": "3238ed87",
   "metadata": {},
   "source": [
    "#### (4) Escriba un programa que setee en el canal 1 del Generador de Funciones una función sinusoidal de frecuencia $440Hz$, amplitud $1V_{PP}$, con fase nula. Visualize la curva en el Osciloscopio, adquiera, grafique y guarde los datos en archivo *.csv*."
   ]
  },
  {
   "cell_type": "code",
   "execution_count": null,
   "id": "f9a32fea",
   "metadata": {},
   "outputs": [],
   "source": []
  },
  {
   "cell_type": "markdown",
   "id": "34c94f5a",
   "metadata": {},
   "source": [
    "#### (5) Para verificar la frecuencia y la amplitud entregada por el Generador de Funciones en el canal 1, escriba un programa para que el Osciloscopio mida esos parámetros de la señal."
   ]
  },
  {
   "cell_type": "code",
   "execution_count": null,
   "id": "b4d46186",
   "metadata": {},
   "outputs": [],
   "source": []
  },
  {
   "cell_type": "markdown",
   "id": "96cd07be",
   "metadata": {},
   "source": [
    "#### (6) Escriba un programa que setee en el canal 2 del generador de Funciones una señal de $523 Hz$, amplitud $2V_{PP}$, con fase $\\pi/2$. Visualize las dos curvas en el osciloscopio, la que había seteado previamente en el canal 1 y esta, y mida la diferencia de fases y la diferencia de amplitud entre ambas."
   ]
  },
  {
   "cell_type": "code",
   "execution_count": null,
   "id": "f2f4405c",
   "metadata": {},
   "outputs": [],
   "source": []
  },
  {
   "cell_type": "markdown",
   "id": "fc455c39",
   "metadata": {},
   "source": [
    "#### (7) En el siguiente programa se genera un conjunto aleatorio de frecuencias entre $10$ y $1000 Hz$, para hacer un barrido en frecuencias. Utilizando un ciclo for se recorre cada elemento del conjunto y en cada iteración se define un valor aleatorio de amplitud y fase. Por cada iteración tenemos entonces una terna frecuencia, amplitud y fase para setear en la función sinusoidal. Haga un programa que en cada iteración utilice el Generador de Funciones para setear una función sinusoidal utilizando la terna dada, y que adquiera la medición de la frecuencia, amplitud y fase de la señal con el Osciloscopio."
   ]
  },
  {
   "cell_type": "code",
   "execution_count": null,
   "id": "ed2cb354",
   "metadata": {},
   "outputs": [],
   "source": [
    "N= 10\n",
    "frecuencias = np.random.randint(10,1000, N)\n",
    "\n",
    "\n",
    "for freq in frecuencias:\n",
    "\n",
    "    amp  = np.random.random()*3+1          # tomo un valor random de amplitud entre 1 y 4 VPP\n",
    "    fase = np.random.random()*180          # tomo un valor random de fase entre 0 y 180 DEG\n",
    "\n",
    "    print ( \"Freq: %.1f , Amp: %.1f , Fase: %.1f\" % (freq,amp,fase) )       # visualizo la terna freq,amp,fase\n",
    "\n",
    "\n",
    "    \n"
   ]
  }
 ],
 "metadata": {
  "kernelspec": {
   "display_name": "base",
   "language": "python",
   "name": "python3"
  },
  "language_info": {
   "codemirror_mode": {
    "name": "ipython",
    "version": 3
   },
   "file_extension": ".py",
   "mimetype": "text/x-python",
   "name": "python",
   "nbconvert_exporter": "python",
   "pygments_lexer": "ipython3",
   "version": "3.10.14"
  }
 },
 "nbformat": 4,
 "nbformat_minor": 5
}
