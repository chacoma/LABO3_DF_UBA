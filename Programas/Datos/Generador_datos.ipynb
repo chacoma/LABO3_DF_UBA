{
 "cells": [
  {
   "cell_type": "code",
   "execution_count": 29,
   "metadata": {},
   "outputs": [],
   "source": [
    "import numpy as np\n",
    "import matplotlib.pyplot as plt\n",
    "import pandas as pd"
   ]
  },
  {
   "cell_type": "markdown",
   "metadata": {},
   "source": [
    "## Data para ley de ohm\n",
    "\n",
    "Simulo unos datos para el ejemplo. Imaginen que se corresponden con lo que obtuvieron al medir la ley de ohm en un experimento.\n",
    "La corriente viene dada en $mA$, la resistencia en $\\Omega$ y por lo tanto la tensión en $mV$."
   ]
  },
  {
   "cell_type": "code",
   "execution_count": null,
   "metadata": {},
   "outputs": [
    {
     "data": {
      "image/png": "[encoded data removed]",
      "text/plain": [
       "<Figure size 640x480 with 1 Axes>"
      ]
     },
     "metadata": {},
     "output_type": "display_data"
    },
    {
     "data": {
      "text/html": [
       "<div>\n",
       "<style scoped>\n",
       "    .dataframe tbody tr th:only-of-type {\n",
       "        vertical-align: middle;\n",
       "    }\n",
       "\n",
       "    .dataframe tbody tr th {\n",
       "        vertical-align: top;\n",
       "    }\n",
       "\n",
       "    .dataframe thead th {\n",
       "        text-align: right;\n",
       "    }\n",
       "</style>\n",
       "<table border=\"1\" class=\"dataframe\">\n",
       "  <thead>\n",
       "    <tr style=\"text-align: right;\">\n",
       "      <th></th>\n",
       "      <th>corriente [mA]</th>\n",
       "      <th>tension [V]</th>\n",
       "      <th>error corriente [mA]</th>\n",
       "      <th>error tension [V]</th>\n",
       "    </tr>\n",
       "  </thead>\n",
       "  <tbody>\n",
       "    <tr>\n",
       "      <th>0</th>\n",
       "      <td>10.491378</td>\n",
       "      <td>1.035218</td>\n",
       "      <td>1.574707</td>\n",
       "      <td>0.052761</td>\n",
       "    </tr>\n",
       "    <tr>\n",
       "      <th>1</th>\n",
       "      <td>8.181423</td>\n",
       "      <td>0.801055</td>\n",
       "      <td>1.228213</td>\n",
       "      <td>0.041053</td>\n",
       "    </tr>\n",
       "    <tr>\n",
       "      <th>2</th>\n",
       "      <td>9.731880</td>\n",
       "      <td>1.101520</td>\n",
       "      <td>1.460782</td>\n",
       "      <td>0.056076</td>\n",
       "    </tr>\n",
       "    <tr>\n",
       "      <th>3</th>\n",
       "      <td>7.679995</td>\n",
       "      <td>0.788041</td>\n",
       "      <td>1.152999</td>\n",
       "      <td>0.040402</td>\n",
       "    </tr>\n",
       "    <tr>\n",
       "      <th>4</th>\n",
       "      <td>7.443637</td>\n",
       "      <td>0.681797</td>\n",
       "      <td>1.117546</td>\n",
       "      <td>0.035090</td>\n",
       "    </tr>\n",
       "  </tbody>\n",
       "</table>\n",
       "</div>"
      ],
      "text/plain": [
       "   corriente [mA]  tension [V]  error corriente [mA]  error tension [V]\n",
       "0       10.491378     1.035218              1.574707           0.052761\n",
       "1        8.181423     0.801055              1.228213           0.041053\n",
       "2        9.731880     1.101520              1.460782           0.056076\n",
       "3        7.679995     0.788041              1.152999           0.040402\n",
       "4        7.443637     0.681797              1.117546           0.035090"
      ]
     },
     "execution_count": 46,
     "metadata": {},
     "output_type": "execute_result"
    }
   ],
   "source": [
    "N=20\n",
    "R= 100\n",
    "np.random.seed(120)\n",
    "\n",
    "\n",
    "I = np.random.uniform(1, 15, size=N)\n",
    "V = (R*I + np.random.normal(0,0.4*R,N))/1000.0\n",
    "\n",
    "# errores segun manual\n",
    "errV = V*0.5/100 + 0.001    # 0.5%+1dig en escala 2V\n",
    "errI = I*0.8/100 + 0.001    # 0.8%+1dig en escala 20mA\n",
    "\n",
    "fig,ax = plt.subplots()\n",
    "#ax.scatter(I, V)\n",
    "ax.errorbar( I,V, xerr=errI, yerr=errV, fmt=\"none\" )\n",
    "\n",
    "plt.show()\n",
    "\n",
    "df = pd.DataFrame( data={\"corriente [mA]\":I, \"tension [V]\":V, \"error corriente [mA]\":errI, \"error tension [V]\":errV } )\n",
    "\n",
    "\n",
    "df.to_csv(\"data_LeyDeOhm.csv\", index=False)\n",
    "\n",
    "df.head()\n"
   ]
  },
  {
   "cell_type": "code",
   "execution_count": null,
   "metadata": {},
   "outputs": [
    {
     "data": {
      "text/plain": [
       "array([0.00617609, 0.00500528, 0.0065076 , 0.00494021, 0.00440898,\n",
       "       0.0081929 , 0.00870592, 0.00764418, 0.0055445 , 0.00296932,\n",
       "       0.00311011, 0.00199554, 0.00607964, 0.00636043, 0.00389657,\n",
       "       0.00801879, 0.00548989, 0.00828134, 0.00526951, 0.00226706])"
      ]
     },
     "execution_count": 32,
     "metadata": {},
     "output_type": "execute_result"
    }
   ],
   "source": []
  }
 ],
 "metadata": {
  "kernelspec": {
   "display_name": "base",
   "language": "python",
   "name": "python3"
  },
  "language_info": {
   "codemirror_mode": {
    "name": "ipython",
    "version": 3
   },
   "file_extension": ".py",
   "mimetype": "text/x-python",
   "name": "python",
   "nbconvert_exporter": "python",
   "pygments_lexer": "ipython3",
   "version": "3.10.14"
  }
 },
 "nbformat": 4,
 "nbformat_minor": 2
}
