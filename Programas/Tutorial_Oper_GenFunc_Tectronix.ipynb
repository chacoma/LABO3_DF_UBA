{
 "cells": [
  {
   "cell_type": "markdown",
   "id": "bb32e7dc-420e-4352-94ac-80520f0928a5",
   "metadata": {},
   "source": [
    "### Operación remota de generadores de funciones de la marca Tektronix\n",
    "\n",
    "Un **generador de funciones** es un dispositivo que genera señales eléctricas de diferentes formas, como **senoidal**, **cuadrada** o **rampa**. Se usan para probar circuitos electrónicos, estudiar comportamientos de sistemas o simular señales en experimentos.\n",
    "\n",
    "De la marca tektronix, en el laboratorio esta disponible el modelo AFG1022."
   ]
  },
  {
   "cell_type": "markdown",
   "id": "84b3e565",
   "metadata": {},
   "source": [
    "La idea de este tutorial es mostrar como se operán estos instrumentos a partir del standart NI-VISA utilizando como interfaz la librería pyvisa de Python. Empezamos importando las librerias que vamos a utilizar:"
   ]
  },
  {
   "cell_type": "code",
   "execution_count": 1,
   "id": "bd8d4f27-3552-4296-8f94-a98adfaf495a",
   "metadata": {},
   "outputs": [],
   "source": [
    "import pyvisa                               # para comunicarnos con los equipos\n",
    "import numpy as np                          # para operar con listas de datos\n",
    "import pandas as pd                         # para manejar archivos de datos: Guardar, abrir, etc\n",
    "import matplotlib.pyplot as plt             # para graficar \n",
    "import time                                 # para realizar pausas entre mediciones"
   ]
  },
  {
   "cell_type": "markdown",
   "id": "bf2eb0a0",
   "metadata": {},
   "source": [
    "En primer lugar, necesitamos un objeto que nos permita comunicarnos e interactuar con los instrumentos que tenemos conectados vía puerto USB, GPIB, Serial (RS232), Ethernet, etc. Ese objeto es el *resource manager* (administrador de recursos) y la invocamos desde la librería pyvisa:"
   ]
  },
  {
   "cell_type": "code",
   "execution_count": null,
   "id": "c3eefa4c",
   "metadata": {},
   "outputs": [],
   "source": [
    "rm = pyvisa.ResourceManager()"
   ]
  },
  {
   "cell_type": "markdown",
   "id": "9ce3c58c",
   "metadata": {},
   "source": [
    "El resource manager (rm) se utiliza para: (a) detectar dispositivos conectados y listar todos los recursos disponibles y (b) crear interfases para comunicarnos con dispositivos.\n",
    "\n",
    "Una vez defido el objeto **rm**, podemos listar los instrumentos conectados a nuestra PC: "
   ]
  },
  {
   "cell_type": "code",
   "execution_count": null,
   "id": "ed54aee0",
   "metadata": {},
   "outputs": [],
   "source": [
    "instrumentos_conectados = rm.list_resources()           # lista de instrumentos conectados\n",
    "\n",
    "print (instrumentos_conectados)"
   ]
  },
  {
   "cell_type": "markdown",
   "id": "9983658d",
   "metadata": {},
   "source": [
    "De la lista obtenida en la celda anterior, buscamos el generador con el que queremos interactuar. Copiamos el nombre y lo pegamos en la variable instrumento, luego procedemos a establecer la comunicación con el equipo:"
   ]
  },
  {
   "cell_type": "code",
   "execution_count": null,
   "id": "ff4cdc2f",
   "metadata": {},
   "outputs": [],
   "source": [
    "instrumento = 'puerto::marca::modelo::NroSerie'         # colocar acá el instrumento asociado al osciloscopio \n",
    "\n",
    "gen = rm.open_resource(instrumento)                     # Establezco comunicación con el osciloscopio\n",
    "\n",
    "gen.query('*IDN?')                                      # pido que se identifique para checkear conexión"
   ]
  },
  {
   "cell_type": "markdown",
   "id": "800a2677",
   "metadata": {},
   "source": [
    "El objeto *gen* será nuestra interfase, éste nos permite interactuar con el generador de funciones utilizando rutinas estándar. Generalmente, realizamos dos tipos de operaciones:\n",
    "\n",
    "- Enviar un comando al instrumento para configurar parámetros o iniciar procesos sin esperar ninguna respuesta. Esto se realiza mediante rutinas de tipo **write**.\n",
    "  \n",
    "- Enviar un comando al instrumento y esperar una respuesta, como por ejemplo, obtener los datos que estoy midiendo o consultar el estado del instrumento. Esto se realiza mediante rutinas de tipo **query**.\n",
    "\n",
    "El lenguaje que utilizamos para comunicarnos con el equipo está definido en el estándar [**SCPI**](https://en.wikipedia.org/wiki/Standard_Commands_for_Programmable_Instruments) (Standard Commands for Programmable Instruments), el cual es ampliamente utilizado para la comunicación remota con equipos de instrumentación como osciloscopios, multímetros y generadores de funciones."
   ]
  },
  {
   "cell_type": "markdown",
   "id": "0a5e7b56",
   "metadata": {},
   "source": [
    "### 1- Generación de funciones\n",
    "\n",
    "Establecida la conexión con el generador de función, a continuación mostramos como configurar el equipo para que entregue distintos tipos de señales.\n",
    "\n",
    "#### 1.1. Señal sinusoidal \n",
    "\n",
    "En primer lugar, apago la salida, esto es opcional pero es una buena costumbre:"
   ]
  },
  {
   "cell_type": "code",
   "execution_count": null,
   "id": "a84ebc9a",
   "metadata": {},
   "outputs": [],
   "source": [
    "gen.write(\"OUTPUT1 OFF\")  "
   ]
  },
  {
   "cell_type": "markdown",
   "id": "36118ea4",
   "metadata": {},
   "source": [
    "Luego indicamos que en el canal 1 se quiere generar una función seno:"
   ]
  },
  {
   "cell_type": "code",
   "execution_count": null,
   "id": "fd360eaa",
   "metadata": {},
   "outputs": [],
   "source": [
    "gen.write(\"SOURCE1:FUNC SIN\")"
   ]
  },
  {
   "cell_type": "markdown",
   "id": "75120c65",
   "metadata": {},
   "source": [
    "Para generar una función sinusoide necesitamos definir tres parámetros: Amplitud, frecuencia y fase, esto dependerá del experimento. Por ejemplo, supongamos:"
   ]
  },
  {
   "cell_type": "code",
   "execution_count": null,
   "id": "ab2b7a0b",
   "metadata": {},
   "outputs": [],
   "source": [
    "ampli= 4           # voltaje pico a pico\n",
    "freq = 440         # en Hz \n",
    "fase = 180         # en grados"
   ]
  },
  {
   "cell_type": "markdown",
   "id": "ff5168e6",
   "metadata": {},
   "source": [
    "Configuramos la señal con los parámetros que definimos antes:"
   ]
  },
  {
   "cell_type": "code",
   "execution_count": null,
   "id": "27d42cd6",
   "metadata": {},
   "outputs": [],
   "source": [
    "gen.write(\"SOURCE1:VOLT %f Vpp\" %ampli)     # setea la amplitud, le especificamos la unidad Vpp"
   ]
  },
  {
   "cell_type": "code",
   "execution_count": null,
   "id": "6e4adc34",
   "metadata": {},
   "outputs": [],
   "source": [
    "gen.write(\"SOURCE1:FREQ %f\" %freq)          # setea la frecuencia en Hz"
   ]
  },
  {
   "cell_type": "code",
   "execution_count": null,
   "id": "6c309772",
   "metadata": {},
   "outputs": [],
   "source": [
    "gen.write(\"SOURCE1:PHASE %f DEG\" %fase)     # setea la fase, hay que agregar la unidad (DEG) por defecto toma radianes"
   ]
  },
  {
   "cell_type": "markdown",
   "id": "a6e79844",
   "metadata": {},
   "source": [
    "Listo, la señal quedo configurada ahora encendemos el canal:"
   ]
  },
  {
   "cell_type": "code",
   "execution_count": null,
   "id": "8d28af93",
   "metadata": {},
   "outputs": [],
   "source": [
    "gen.write(\"OUTPUT1 ON\")"
   ]
  },
  {
   "cell_type": "markdown",
   "id": "125aa925",
   "metadata": {},
   "source": [
    "#### 1.2. Señal tipo Rampa\n"
   ]
  },
  {
   "cell_type": "code",
   "execution_count": null,
   "id": "507417ca",
   "metadata": {},
   "outputs": [],
   "source": [
    "gen.write(\"SOURCE1:FUNC RAMP\")"
   ]
  },
  {
   "cell_type": "code",
   "execution_count": null,
   "id": "1428cc40",
   "metadata": {},
   "outputs": [],
   "source": [
    "gen.write('SOURCE1:VOLT 4 Vpp') # Seteo de la amplitud pico a pico"
   ]
  },
  {
   "cell_type": "markdown",
   "id": "cc25b50c-7c68-4820-8f49-9db3f556632d",
   "metadata": {},
   "source": [
    "### 2. Barrido en frecuencias\n",
    "\n",
    "Para hacer un barrido, en primer lugar definimos las frecuencias mínimas y máximas que queremos, así como el numero de freq a explorar en el barrido."
   ]
  },
  {
   "cell_type": "code",
   "execution_count": null,
   "id": "d4b888d8-92b3-488d-8e09-469e7840317a",
   "metadata": {},
   "outputs": [],
   "source": [
    "frec1 = 10.0                # freq mínima\n",
    "frec2 = 1000.0              # freq máxima"
   ]
  },
  {
   "cell_type": "markdown",
   "id": "fe6729a8-21ce-4a4b-8f3d-4934dfbfe451",
   "metadata": {},
   "source": [
    "Primero, exploramos un barrido en frecuencias lineal. En este caso, variamos la frecuencia tal que esta se incrementa de manera uniforme entre un valor inicial y un valor final. "
   ]
  },
  {
   "cell_type": "code",
   "execution_count": null,
   "id": "11960d49-774f-4e7c-a645-99b4466e24aa",
   "metadata": {},
   "outputs": [],
   "source": [
    "paso= 50                                           # espaciamiento entre freqs\n",
    "\n",
    "N1 = int( (frec2-frec1)/paso ) +1                  # cant de freqs en el conjunto\n",
    "\n",
    "frecuencias = np.linspace( frec1, frec2, N1 )      # conjunto de freqs\n",
    "\n",
    "for freq in frecuencias:\n",
    "    print( freq )\n",
    "    gen.write('SOURCE1:FREQ %f' % freq)            # fija la freq en el gen\n",
    "    time.sleep(2)"
   ]
  },
  {
   "cell_type": "markdown",
   "id": "ef3d4dc4-6ff2-4ef9-b96d-6a4471ded1c0",
   "metadata": {},
   "source": [
    "Ahora planteamos un barrido logarítmico. En este caso, las frecuencias de prueba se distribuyen de manera que la relación entre frecuencias consecutivas es constante, en lugar de la diferencia absoluta. Esto permite cubrir un rango amplio de frecuencias con mayor detalle en bajas frecuencias y menos puntos en altas frecuencias, siendo útil en análisis de respuesta en frecuencia y caracterización de sistemas que siguen comportamientos exponenciales o de amplio espectro."
   ]
  },
  {
   "cell_type": "code",
   "execution_count": null,
   "id": "1ea6c9ba-9533-4d24-8e02-39825d7017c3",
   "metadata": {},
   "outputs": [],
   "source": [
    "frec1 = 10.0                # freq mínima\n",
    "frec2 = 1000.0              # freq máxima\n",
    "\n",
    "N2=100\n",
    "\n",
    "frecuencias=np.geomspace( frec1, frec2, N2 )\n",
    "\n",
    "for freq in frecuencias:\n",
    "    print(freq)\n",
    "    gen.write('SOURCE1:FREQ %f' % freq)             # fija freq\n",
    "    time.sleep(2)    "
   ]
  }
 ],
 "metadata": {
  "kernelspec": {
   "display_name": "Python 3 (ipykernel)",
   "language": "python",
   "name": "python3"
  },
  "language_info": {
   "codemirror_mode": {
    "name": "ipython",
    "version": 3
   },
   "file_extension": ".py",
   "mimetype": "text/x-python",
   "name": "python",
   "nbconvert_exporter": "python",
   "pygments_lexer": "ipython3",
   "version": "3.10.14"
  }
 },
 "nbformat": 4,
 "nbformat_minor": 5
}
