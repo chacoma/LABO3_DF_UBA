{
 "cells": [
  {
   "cell_type": "markdown",
   "metadata": {},
   "source": [
    "## Ajuste Lineal\n",
    "\n",
    "En este tutorial muestro como:\n",
    "\n",
    "- Cargar un conjunto de datos y hacer un Pre- procesamiento\n",
    "- Calcular los errores en base a información del instrumental utilizado\n",
    "- Hacer un ajuste lineal ponderado por los errores de medición\n",
    "- Calcular los intervalos de confinza\n",
    "- Calcular las bandas de confianza\n",
    "\n",
    "Arranco importando la librerías que voy a utilizar:"
   ]
  },
  {
   "cell_type": "code",
   "execution_count": null,
   "metadata": {},
   "outputs": [],
   "source": [
    "import pandas as pd                             # manejo de datos\n",
    "import numpy as np                              # operación con arrays\n",
    "import matplotlib.pyplot as plt                 # para graficar"
   ]
  },
  {
   "cell_type": "markdown",
   "metadata": {},
   "source": [
    "### Carga y preprocesamiento de datos\n",
    "\n",
    "En primer lugar cargamos los datos que adquirimos en nuestro experimento. Vamos a utilizar la libreria pandas:"
   ]
  },
  {
   "cell_type": "code",
   "execution_count": null,
   "metadata": {},
   "outputs": [
    {
     "name": "stdout",
     "output_type": "stream",
     "text": [
      "(20, 2)\n"
     ]
    },
    {
     "data": {
      "text/html": [
       "<div>\n",
       "<style scoped>\n",
       "    .dataframe tbody tr th:only-of-type {\n",
       "        vertical-align: middle;\n",
       "    }\n",
       "\n",
       "    .dataframe tbody tr th {\n",
       "        vertical-align: top;\n",
       "    }\n",
       "\n",
       "    .dataframe thead th {\n",
       "        text-align: right;\n",
       "    }\n",
       "</style>\n",
       "<table border=\"1\" class=\"dataframe\">\n",
       "  <thead>\n",
       "    <tr style=\"text-align: right;\">\n",
       "      <th></th>\n",
       "      <th>corriente [mA]</th>\n",
       "      <th>tension [V]</th>\n",
       "    </tr>\n",
       "  </thead>\n",
       "  <tbody>\n",
       "    <tr>\n",
       "      <th>0</th>\n",
       "      <td>10.491378</td>\n",
       "      <td>1.045658</td>\n",
       "    </tr>\n",
       "    <tr>\n",
       "      <th>1</th>\n",
       "      <td>8.181423</td>\n",
       "      <td>0.813871</td>\n",
       "    </tr>\n",
       "    <tr>\n",
       "      <th>2</th>\n",
       "      <td>9.731880</td>\n",
       "      <td>1.005271</td>\n",
       "    </tr>\n",
       "    <tr>\n",
       "      <th>3</th>\n",
       "      <td>7.679995</td>\n",
       "      <td>0.773010</td>\n",
       "    </tr>\n",
       "    <tr>\n",
       "      <th>4</th>\n",
       "      <td>7.443637</td>\n",
       "      <td>0.728722</td>\n",
       "    </tr>\n",
       "  </tbody>\n",
       "</table>\n",
       "</div>"
      ],
      "text/plain": [
       "   corriente [mA]  tension [V]\n",
       "0       10.491378     1.045658\n",
       "1        8.181423     0.813871\n",
       "2        9.731880     1.005271\n",
       "3        7.679995     0.773010\n",
       "4        7.443637     0.728722"
      ]
     },
     "execution_count": 96,
     "metadata": {},
     "output_type": "execute_result"
    }
   ],
   "source": [
    "df = pd.read_csv(\"Datos/data_LeyDeOhm.csv\")                 # cargamos los datos a un objeto DataFrame \n",
    "\n",
    "print (df.shape)                                            # imprimimos las dimensiones de la matrix de datos: (filas,columnas)\n",
    "\n",
    "df.head()                                                   # inspeccionamos los primeros 10 datos"
   ]
  },
  {
   "cell_type": "markdown",
   "metadata": {},
   "source": [
    "Al adquirir solemos tomar los datos de forma desordenada, una buena costumbre es ordenarlos, aplicamos la rutina *.sort_values()* sobre el objeto *df* de pandas y ordenamos por valor de corriente:"
   ]
  },
  {
   "cell_type": "code",
   "execution_count": 60,
   "metadata": {},
   "outputs": [],
   "source": [
    "df_ord = df.sort_values(by='corriente [mA]')"
   ]
  },
  {
   "cell_type": "markdown",
   "metadata": {},
   "source": [
    "Guardamos los datos en dos arrays de *numpy* para operar mas facilmente:"
   ]
  },
  {
   "cell_type": "code",
   "execution_count": 61,
   "metadata": {},
   "outputs": [],
   "source": [
    "I = df_ord[\"corriente [mA]\"].to_numpy()\n",
    "V = df_ord[\"tension [V]\"].to_numpy()"
   ]
  },
  {
   "cell_type": "markdown",
   "metadata": {},
   "source": [
    "### Calculo de errores\n",
    "\n",
    "En este ejemplo, los valores de tensión y corriente fueron medidos con dos multimetros *modelo UT51-55* de *3 1/2 dígitos*.\n",
    "\n",
    "#### **Errores en el voltaje**:\n",
    "\n",
    "$$\n",
    "\\Delta V = \\frac{\\% error}{100} \\times V_{Medido} + n\\times LSB\n",
    "$$\n",
    "\n",
    "Se midió en la escala de $2 V$.\n",
    "\n",
    "El porcentaje de error es de $0.5\\%$ (para todas las escalas).\n",
    "\n",
    "En la escala de $2 V$, podemos ir del $0.000$ al $1.999$, entonces el LSB (bit menos significativo) es $0.001$. El valor de $n=1$ para todas las escalas.\n",
    "\n",
    "Con esta información, calculamos el error en la medición de voltaje:"
   ]
  },
  {
   "cell_type": "code",
   "execution_count": 62,
   "metadata": {},
   "outputs": [],
   "source": [
    "Verr = (0.5/100)*V + 1*0.001"
   ]
  },
  {
   "cell_type": "markdown",
   "metadata": {},
   "source": [
    "#### **Errores en la corriente**:\n",
    "\n",
    "$$\n",
    "\\Delta I = \\frac{\\% error}{100} \\times I_{Medido} + n\\times LSB\n",
    "$$\n",
    "\n",
    "Se midió en la escala de $20mA$.\n",
    "\n",
    "Para esa escala el porcentaje de error es $0.8\\%$.\n",
    "\n",
    "En la escala de $20 mA$, podemos ir desde $00.00$ hasta $19.99$, entonces el LSB es $0.01$. Para esta escala $n=1$.\n",
    "\n",
    "El error en la medición de la corriente será entonces:"
   ]
  },
  {
   "cell_type": "code",
   "execution_count": 63,
   "metadata": {},
   "outputs": [],
   "source": [
    "Ierr = (0.8/100)*I + 1*0.01"
   ]
  },
  {
   "cell_type": "markdown",
   "metadata": {},
   "source": [
    "### Primera inspección visual de los datos\n",
    "\n",
    "Vamos a hacer un primer gráfico con los errores para visualizar los resultados obtenidos.\n",
    "\n",
    "La corriente esta en $mA$, una buena costumbre (siempre que se pueda) es analizar los datos en unidades estandar, en este caso *Volt* - *Ampere*. Para esto divido por $1000$ en los arrays que contienen información de la corriente, $I$ y $Ierr$:"
   ]
  },
  {
   "cell_type": "code",
   "execution_count": 64,
   "metadata": {},
   "outputs": [],
   "source": [
    "I=I/1000\n",
    "Ierr = Ierr/1000"
   ]
  },
  {
   "cell_type": "markdown",
   "metadata": {},
   "source": [
    "Ahora graficamos:"
   ]
  },
  {
   "cell_type": "code",
   "execution_count": 87,
   "metadata": {},
   "outputs": [
    {
     "data": {
      "image/png": "[encoded data removed]",
      "text/plain": [
       "<Figure size 640x480 with 1 Axes>"
      ]
     },
     "metadata": {},
     "output_type": "display_data"
    }
   ],
   "source": [
    "fig,ax = plt.subplots()\n",
    "\n",
    "ax.errorbar( x=I,y=V, xerr=Ierr, yerr=Verr, fmt='none', capsize=2)      # Formato fmt='[tipo de punto][color]': fmt='none' sin formato, fmt='.r' puntos rojos\n",
    "\n",
    "ax.set_xlabel(\"I [A]\")\n",
    "ax.set_ylabel(\"V [V]\")\n",
    "\n",
    "plt.show()"
   ]
  },
  {
   "cell_type": "markdown",
   "metadata": {},
   "source": [
    "## Ajuste Lineal\n",
    "\n"
   ]
  },
  {
   "cell_type": "markdown",
   "metadata": {},
   "source": [
    "Hay muchas opciones de librerías en python para hacer un ajuste lineal, probablemente una de las más completas es [*statsmodels*](https://www.statsmodels.org/stable/index.html). Emepezamos importando:"
   ]
  },
  {
   "cell_type": "code",
   "execution_count": 88,
   "metadata": {},
   "outputs": [],
   "source": [
    "import statsmodels.api as sm"
   ]
  },
  {
   "cell_type": "markdown",
   "metadata": {},
   "source": [
    "Queremos hacer un ajuste lineal que tenga en cuenta los errores. \n",
    "\n",
    "Si sabemos que los errores vienen de una distribución normal, conviene definir los pesos como $w = \\frac{1}{yerr^2}$, esto le otorga más pesos a los errores chicos y asegura la minimización de $\\chi^2$.\n",
    "\n",
    "Si los errores son más bien estimaciones, o son pocos, conviene definir los pesos como $w = \\frac{1}{yerr}$ esto le otorga menos peso a los errores chicos y no minimiza $\\chi^2$.\n",
    "\n",
    "En este caso, como son pocos datos y no conozco la distribución de los errores voy a utilizar la segunda opción:"
   ]
  },
  {
   "cell_type": "code",
   "execution_count": 95,
   "metadata": {},
   "outputs": [],
   "source": [
    "w= 1/Verr           # definición de los pesos"
   ]
  },
  {
   "cell_type": "markdown",
   "metadata": {},
   "source": [
    "Vamos a utilizar la clase *sm.WLS()* que efectua un  [*Weighted Least Squares*](https://en.wikipedia.org/wiki/Weighted_least_squares). \n",
    "\n",
    "Para que la rutina calcule el intercepto (ordenada al origen) en la regresión, es necesario agregar una constante a la variable dependiente, esto es simplemente por que la rutina trabaja con ese formato de datos. Para hacerlo ejecutamos:"
   ]
  },
  {
   "cell_type": "code",
   "execution_count": null,
   "metadata": {},
   "outputs": [],
   "source": [
    "X = sm.add_constant(I)  # Convierte I en matriz [1, I]"
   ]
  },
  {
   "cell_type": "markdown",
   "metadata": {},
   "source": [
    "Ahora, ya con todos los elementos, podemos definir el modelo lineal:"
   ]
  },
  {
   "cell_type": "code",
   "execution_count": 97,
   "metadata": {},
   "outputs": [],
   "source": [
    "model = sm.WLS(V, X, weights=w)  # WLS = Weighted Least Squares, con pesos w=1/yerr"
   ]
  },
  {
   "cell_type": "markdown",
   "metadata": {},
   "source": [
    "Con el modelo definido, solo queda hacer el ajuste:"
   ]
  },
  {
   "cell_type": "code",
   "execution_count": 98,
   "metadata": {},
   "outputs": [],
   "source": [
    "results = model.fit()"
   ]
  },
  {
   "cell_type": "markdown",
   "metadata": {},
   "source": [
    "### Análisis de los parámetros del ajuste\n",
    "\n",
    "El objeto results contiene todos los resultados del ajuste. A partir de distintas rutinas podremos acceder a estos.\n",
    "\n",
    "Los parámetros de la regresión son:"
   ]
  },
  {
   "cell_type": "code",
   "execution_count": 104,
   "metadata": {},
   "outputs": [
    {
     "name": "stdout",
     "output_type": "stream",
     "text": [
      "Parámetros de la regresión V ~ R I + V0:\n",
      "Pendiente :  R = 99.69 ± 0.58\n",
      "Intercepto: V0 = 0.003 ± 0.005\n"
     ]
    }
   ],
   "source": [
    "ordenada , pendiente = results.params               # contiene los parámetros\n",
    "\n",
    "err_ordenada, err_pendiente = results.bse           # contiene los errores\n",
    "\n",
    "print (\"Parámetros de la regresión V ~ R I + V0:\")\n",
    "print (\"Pendiente :  R = %.2f ± %.2f\" % ( pendiente, err_pendiente ) )\n",
    "print (\"Intercepto: V0 = %.3f ± %.3f\" % ( ordenada,  err_ordenada )  )"
   ]
  },
  {
   "cell_type": "markdown",
   "metadata": {},
   "source": [
    "Del ajuste obtenido podemos ver:\n",
    "- El valor real de la resistencia se encuentra entre los valores $R=( 99.11, 100.27)$.\n",
    "- El valor del intercepto $(-0.002, 0.008 )$\n",
    "\n",
    "Note que el intervalo donde se encuentra el valor real del intercepto encierra al valor $0$, esto es consistente con la ecuación teorica de la ley de ohm que no contempla la existencia de un $V0$"
   ]
  },
  {
   "cell_type": "code",
   "execution_count": 73,
   "metadata": {},
   "outputs": [
    {
     "data": {
      "image/png": "[encoded data removed]",
      "text/plain": [
       "<Figure size 640x480 with 1 Axes>"
      ]
     },
     "metadata": {},
     "output_type": "display_data"
    }
   ],
   "source": [
    "a, b = results.params\n",
    "fl= lambda u: a+b*u\n",
    "\n",
    "\n",
    "fig,ax = plt.subplots()\n",
    "\n",
    "ax.errorbar( x=I,y=V, xerr=Ierr, yerr=Verr, fmt='none', capsize=2, label='Data')\n",
    "\n",
    "ax.plot( I, fl(I), c='C3' , label='Linear Fit')\n",
    "\n",
    "ax.set_xlabel(\"I [A]\")\n",
    "ax.set_ylabel(\"V [V]\")\n",
    "\n",
    "plt.legend()\n",
    "plt.show()"
   ]
  }
 ],
 "metadata": {
  "kernelspec": {
   "display_name": "base",
   "language": "python",
   "name": "python3"
  },
  "language_info": {
   "codemirror_mode": {
    "name": "ipython",
    "version": 3
   },
   "file_extension": ".py",
   "mimetype": "text/x-python",
   "name": "python",
   "nbconvert_exporter": "python",
   "pygments_lexer": "ipython3",
   "version": "3.10.14"
  }
 },
 "nbformat": 4,
 "nbformat_minor": 2
}
