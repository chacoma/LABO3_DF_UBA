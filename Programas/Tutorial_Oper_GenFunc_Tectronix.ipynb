{
 "cells": [
  {
   "cell_type": "markdown",
   "id": "bb32e7dc-420e-4352-94ac-80520f0928a5",
   "metadata": {},
   "source": [
    "## Operación del generador de funciones de la marca **Tektronix**\n",
    "\n",
    "En este tutorial vamos a ver:\n",
    "\n",
    "1- Cómo utilizar la [librería pyvisa](https://pyvisa.readthedocs.io/en/latest/) de python para comunicarnos con el equipo\n",
    "\n",
    "2- Cómo configurar el equipo para la generación de señales típicas\n",
    "\n",
    "3- Cómo hacer un barrido en frecuencias\n",
    "\n",
    "4- Cómo hacer un barrido en amplitud\n",
    "\n",
    "\n",
    "**Detalles del equipo**: De la marca Tektronix, en el laboratorio esta disponible el modelo AFG1022 \n",
    "\n",
    "[Ver manual de programación del AFG1022](https://asignaturas.df.uba.ar/l3-raspa/wp-content/uploads/sites/26/2025/02/AFG1022-Programmer-Manual-EN-1.pdf).\n",
    "\n",
    "### 1- Cómo utilizar pyvisa para cominicarnos con el equipo\n",
    "\n",
    "Empezamos importando las librerías que vamos a utilizar:"
   ]
  },
  {
   "cell_type": "code",
   "execution_count": null,
   "id": "bd8d4f27-3552-4296-8f94-a98adfaf495a",
   "metadata": {},
   "outputs": [],
   "source": [
    "import pyvisa                               # para comunicarnos con los equipos\n",
    "import numpy as np                          # para operar con listas de datos\n",
    "import time                                 # para realizar pausas entre mediciones"
   ]
  },
  {
   "cell_type": "markdown",
   "id": "bf2eb0a0",
   "metadata": {},
   "source": [
    "En primer lugar, necesitamos un objeto que nos permita comunicarnos e interactuar con los instrumentos que tenemos conectados vía puerto USB, GPIB, Serial (RS232), Ethernet, etc. Ese objeto es el *resource manager* (administrador de recursos) y la invocamos desde la librería pyvisa:"
   ]
  },
  {
   "cell_type": "code",
   "execution_count": null,
   "id": "c3eefa4c",
   "metadata": {},
   "outputs": [],
   "source": [
    "rm = pyvisa.ResourceManager()"
   ]
  },
  {
   "cell_type": "markdown",
   "id": "9ce3c58c",
   "metadata": {},
   "source": [
    "El resource manager (rm) se utiliza para: (a) detectar dispositivos conectados y listar todos los recursos disponibles y (b) crear interfases para comunicarnos con dispositivos.\n",
    "\n",
    "Una vez definido el objeto **rm**, podemos listar los instrumentos conectados a nuestra PC: "
   ]
  },
  {
   "cell_type": "code",
   "execution_count": null,
   "id": "ed54aee0",
   "metadata": {},
   "outputs": [],
   "source": [
    "instrumentos_conectados = rm.list_resources()           # lista de instrumentos conectados\n",
    "\n",
    "print (instrumentos_conectados)"
   ]
  },
  {
   "cell_type": "markdown",
   "id": "9983658d",
   "metadata": {},
   "source": [
    "De la lista obtenida en la celda anterior, buscamos el generador Tektronix. Copiamos el nombre y lo pegamos en la variable instrumento, luego procedemos a establecer la comunicación con el equipo:"
   ]
  },
  {
   "cell_type": "code",
   "execution_count": null,
   "id": "ff4cdc2f",
   "metadata": {},
   "outputs": [],
   "source": [
    "instrumento = 'puerto::marca::modelo::NroSerie'         # colocar acá el instrumento asociado al osciloscopio \n",
    "\n",
    "gen = rm.open_resource(instrumento)                     # Establezco comunicación con el osciloscopio\n",
    "\n",
    "gen.query('*IDN?')                                      # pido que se identifique para checkear conexión"
   ]
  },
  {
   "cell_type": "markdown",
   "id": "800a2677",
   "metadata": {},
   "source": [
    "El objeto *gen* será nuestra interfase, éste nos permitirá interactuar con el generador de funciones utilizando rutinas estándar. Generalmente, solemos realizar dos tipos de operaciones:\n",
    "\n",
    "- Enviar un comando al instrumento para configurar parámetros o iniciar procesos sin esperar ninguna respuesta. Esto se realiza mediante rutinas de tipo **write**.\n",
    "  \n",
    "- Enviar un comando al instrumento y esperar una respuesta, como por ejemplo, obtener los datos que estoy midiendo o consultar el estado del instrumento. Esto se realiza mediante rutinas de tipo **query**.\n",
    "\n",
    "El lenguaje que utilizamos para comunicarnos con el equipo está definido en el estándar [**SCPI**](https://en.wikipedia.org/wiki/Standard_Commands_for_Programmable_Instruments) (Standard Commands for Programmable Instruments), el cual es ampliamente utilizado para la comunicación remota con equipos de instrumentación como osciloscopios, multímetros y generadores de funciones."
   ]
  },
  {
   "cell_type": "markdown",
   "id": "0a5e7b56",
   "metadata": {},
   "source": [
    "### 2- Generación de funciones\n",
    "\n",
    "Establecida la conexión con el generador de función, a continuación mostramos como configurar el equipo para que entregue distintos tipos de señales.\n",
    "\n",
    "#### 2.1. Señal sinusoidal \n",
    "\n",
    "En primer lugar, apago la salida, esto es opcional pero es una buena costumbre:"
   ]
  },
  {
   "cell_type": "code",
   "execution_count": null,
   "id": "a84ebc9a",
   "metadata": {},
   "outputs": [],
   "source": [
    "gen.write(\"OUTPUT1 OFF\")  "
   ]
  },
  {
   "cell_type": "markdown",
   "id": "36118ea4",
   "metadata": {},
   "source": [
    "Luego indicamos que en el canal 1 se quiere generar una función seno:"
   ]
  },
  {
   "cell_type": "code",
   "execution_count": null,
   "id": "fd360eaa",
   "metadata": {},
   "outputs": [],
   "source": [
    "gen.write(\"SOURCE1:FUNC SIN\")"
   ]
  },
  {
   "cell_type": "markdown",
   "id": "75120c65",
   "metadata": {},
   "source": [
    "Para generar una función sinusoide necesitamos definir tres parámetros: Amplitud, frecuencia y fase, esto dependerá del experimento. Por ejemplo, supongamos:"
   ]
  },
  {
   "cell_type": "code",
   "execution_count": null,
   "id": "ab2b7a0b",
   "metadata": {},
   "outputs": [],
   "source": [
    "ampli= 4           # voltaje pico a pico\n",
    "freq = 440         # en Hz \n",
    "fase = 180         # en grados"
   ]
  },
  {
   "cell_type": "markdown",
   "id": "ff5168e6",
   "metadata": {},
   "source": [
    "Configuramos la señal con esos parámetros:"
   ]
  },
  {
   "cell_type": "code",
   "execution_count": null,
   "id": "27d42cd6",
   "metadata": {},
   "outputs": [],
   "source": [
    "gen.write(\"SOURCE1:VOLT %f Vpp\" %ampli)     # setea la amplitud, le especificamos la unidad Vpp\n",
    "\n",
    "gen.write(\"SOURCE1:FREQ %f\" %freq)          # setea la frecuencia en Hz\n",
    "\n",
    "gen.write(\"SOURCE1:PHASE %f DEG\" %fase)     # setea la fase, hay que agregar la unidad (DEG) para usar grados, sino por defecto toma radianes"
   ]
  },
  {
   "cell_type": "markdown",
   "id": "a6e79844",
   "metadata": {},
   "source": [
    "Listo, la señal quedo configurada ahora encendemos el canal:"
   ]
  },
  {
   "cell_type": "code",
   "execution_count": null,
   "id": "8d28af93",
   "metadata": {},
   "outputs": [],
   "source": [
    "gen.write(\"OUTPUT1 ON\")"
   ]
  },
  {
   "cell_type": "markdown",
   "id": "125aa925",
   "metadata": {},
   "source": [
    "#### 2.2. Señal tipo Rampa\n",
    "\n",
    "Queremos una señal tipo rampa o diente de sierra. Este tipo de señal crece linealmente por un tiempo para luego decaer linealmente.\n",
    "\n",
    "En forma similar, seteamos al canal 1 como source y le indicamos que genera una función tipo *RAMP*:"
   ]
  },
  {
   "cell_type": "code",
   "execution_count": null,
   "id": "507417ca",
   "metadata": {},
   "outputs": [],
   "source": [
    "gen.write(\"OUTPUT1 OFF\")  # primero apago la salida\n",
    "\n",
    "gen.write(\"SOURCE1:FUNC RAMP\")"
   ]
  },
  {
   "cell_type": "markdown",
   "id": "059ce73a",
   "metadata": {},
   "source": [
    "Con los mismos comandos que antes podemos setear amplitud, frecuencia y fase. A este tipo de función se le agrega el parámetro simetría. \n",
    "\n",
    "Por ejemplo queremos setear una rampa de amplitud *4 Vpp* de frecuencia *440 Hz*"
   ]
  },
  {
   "cell_type": "code",
   "execution_count": null,
   "id": "1428cc40",
   "metadata": {},
   "outputs": [],
   "source": [
    "gen.write('SOURCE1:VOLT 4 Vpp') # Seteo de la amplitud pico a pico\n",
    "\n",
    "gen.write(\"SOURCE1:FREQ 440\" )\n",
    "\n",
    "gen.write(\"OUTPUT1 ON\") # Una vez seteada, enciendo el canal"
   ]
  },
  {
   "cell_type": "markdown",
   "id": "cc25b50c-7c68-4820-8f49-9db3f556632d",
   "metadata": {},
   "source": [
    "### 3. Barrido en frecuencias\n",
    "\n",
    "Vamos a hacer un barrido en frecuencias de una señal sinusoidal, la seteamos en el generador:"
   ]
  },
  {
   "cell_type": "code",
   "execution_count": null,
   "id": "ab00395a",
   "metadata": {},
   "outputs": [],
   "source": [
    "gen.write(\"SOURCE1:FUNC SIN\")"
   ]
  },
  {
   "cell_type": "markdown",
   "id": "7c102b84",
   "metadata": {},
   "source": [
    "En primer lugar definimos las frecuencias mínima y máxima de nuestro barrido:"
   ]
  },
  {
   "cell_type": "code",
   "execution_count": null,
   "id": "d4b888d8-92b3-488d-8e09-469e7840317a",
   "metadata": {},
   "outputs": [],
   "source": [
    "frec1 = 10.0                # freq mínima\n",
    "frec2 = 1000.0              # freq máxima"
   ]
  },
  {
   "cell_type": "markdown",
   "id": "fe6729a8-21ce-4a4b-8f3d-4934dfbfe451",
   "metadata": {},
   "source": [
    "Primero, exploramos un barrido en frecuencias lineal. En este caso, variamos la frecuencia tal que esta se incrementa de manera uniforme entre un valor inicial y un valor final. "
   ]
  },
  {
   "cell_type": "code",
   "execution_count": null,
   "id": "11960d49-774f-4e7c-a645-99b4466e24aa",
   "metadata": {},
   "outputs": [],
   "source": [
    "paso= 50                                           # espaciamiento entre freqs\n",
    "\n",
    "N1 = int( (frec2-frec1)/paso ) +1                  # cant de freqs en el conjunto\n",
    "\n",
    "frecuencias = np.linspace( frec1, frec2, N1 )      # conjunto de freqs\n",
    "\n",
    "for freq in frecuencias:\n",
    "    print( freq )\n",
    "    gen.write('SOURCE1:FREQ %f' % freq)            # fija la freq en el gen\n",
    "    time.sleep(2)"
   ]
  },
  {
   "cell_type": "markdown",
   "id": "ef3d4dc4-6ff2-4ef9-b96d-6a4471ded1c0",
   "metadata": {},
   "source": [
    "Ahora planteamos un barrido logarítmico. En este caso, las frecuencias de prueba se distribuyen de manera que la relación entre frecuencias consecutivas es constante, en lugar de la diferencia absoluta. Esto permite cubrir un rango amplio de frecuencias con mayor detalle en bajas frecuencias y menos puntos en altas frecuencias, siendo útil en análisis de respuesta en frecuencia y caracterización de sistemas que siguen comportamientos exponenciales o de amplio espectro."
   ]
  },
  {
   "cell_type": "code",
   "execution_count": null,
   "id": "1ea6c9ba-9533-4d24-8e02-39825d7017c3",
   "metadata": {},
   "outputs": [],
   "source": [
    "frec1 = 10.0                # freq mínima\n",
    "frec2 = 1000.0              # freq máxima\n",
    "\n",
    "N2=100\n",
    "\n",
    "frecuencias=np.geomspace( frec1, frec2, N2 )\n",
    "\n",
    "for freq in frecuencias:\n",
    "    print(freq)\n",
    "    gen.write('SOURCE1:FREQ %f' % freq)             # fija freq\n",
    "    time.sleep(2)    "
   ]
  },
  {
   "cell_type": "markdown",
   "id": "3ba35e9d",
   "metadata": {},
   "source": [
    "### 4- Barrido en amplitud"
   ]
  }
 ],
 "metadata": {
  "kernelspec": {
   "display_name": "Python 3 (ipykernel)",
   "language": "python",
   "name": "python3"
  },
  "language_info": {
   "codemirror_mode": {
    "name": "ipython",
    "version": 3
   },
   "file_extension": ".py",
   "mimetype": "text/x-python",
   "name": "python",
   "nbconvert_exporter": "python",
   "pygments_lexer": "ipython3",
   "version": "3.10.14"
  }
 },
 "nbformat": 4,
 "nbformat_minor": 5
}
