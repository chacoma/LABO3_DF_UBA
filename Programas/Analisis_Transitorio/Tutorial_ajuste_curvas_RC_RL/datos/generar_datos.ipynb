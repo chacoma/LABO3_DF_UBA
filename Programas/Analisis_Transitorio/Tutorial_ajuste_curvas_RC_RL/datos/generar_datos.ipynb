{
 "cells": [
  {
   "cell_type": "code",
   "execution_count": 19,
   "id": "6847aa23",
   "metadata": {},
   "outputs": [],
   "source": [
    "import numpy as np\n",
    "import pandas as pd\n",
    "import matplotlib.pyplot as plt"
   ]
  },
  {
   "cell_type": "markdown",
   "id": "51b71438",
   "metadata": {},
   "source": [
    "## RC"
   ]
  },
  {
   "cell_type": "code",
   "execution_count": 20,
   "id": "e6db8b05",
   "metadata": {},
   "outputs": [
    {
     "name": "stdout",
     "output_type": "stream",
     "text": [
      "time    float64\n",
      "Vin     float64\n",
      "VC      float64\n",
      "I       float64\n",
      "dtype: object\n"
     ]
    },
    {
     "data": {
      "text/html": [
       "<div>\n",
       "<style scoped>\n",
       "    .dataframe tbody tr th:only-of-type {\n",
       "        vertical-align: middle;\n",
       "    }\n",
       "\n",
       "    .dataframe tbody tr th {\n",
       "        vertical-align: top;\n",
       "    }\n",
       "\n",
       "    .dataframe thead th {\n",
       "        text-align: right;\n",
       "    }\n",
       "</style>\n",
       "<table border=\"1\" class=\"dataframe\">\n",
       "  <thead>\n",
       "    <tr style=\"text-align: right;\">\n",
       "      <th></th>\n",
       "      <th>time</th>\n",
       "      <th>Vin</th>\n",
       "      <th>VC</th>\n",
       "      <th>I</th>\n",
       "    </tr>\n",
       "  </thead>\n",
       "  <tbody>\n",
       "    <tr>\n",
       "      <th>0</th>\n",
       "      <td>0.000000e+00</td>\n",
       "      <td>0.0</td>\n",
       "      <td>0.000000e+00</td>\n",
       "      <td>0.000000</td>\n",
       "    </tr>\n",
       "    <tr>\n",
       "      <th>1</th>\n",
       "      <td>1.000000e-09</td>\n",
       "      <td>5.0</td>\n",
       "      <td>2.500410e-07</td>\n",
       "      <td>-0.000500</td>\n",
       "    </tr>\n",
       "    <tr>\n",
       "      <th>2</th>\n",
       "      <td>7.590087e-05</td>\n",
       "      <td>5.0</td>\n",
       "      <td>3.776433e-02</td>\n",
       "      <td>-0.000496</td>\n",
       "    </tr>\n",
       "    <tr>\n",
       "      <th>3</th>\n",
       "      <td>1.518007e-04</td>\n",
       "      <td>5.0</td>\n",
       "      <td>7.518195e-02</td>\n",
       "      <td>-0.000492</td>\n",
       "    </tr>\n",
       "    <tr>\n",
       "      <th>4</th>\n",
       "      <td>2.277006e-04</td>\n",
       "      <td>5.0</td>\n",
       "      <td>1.122531e-01</td>\n",
       "      <td>-0.000489</td>\n",
       "    </tr>\n",
       "  </tbody>\n",
       "</table>\n",
       "</div>"
      ],
      "text/plain": [
       "           time  Vin            VC         I\n",
       "0  0.000000e+00  0.0  0.000000e+00  0.000000\n",
       "1  1.000000e-09  5.0  2.500410e-07 -0.000500\n",
       "2  7.590087e-05  5.0  3.776433e-02 -0.000496\n",
       "3  1.518007e-04  5.0  7.518195e-02 -0.000492\n",
       "4  2.277006e-04  5.0  1.122531e-01 -0.000489"
      ]
     },
     "execution_count": 20,
     "metadata": {},
     "output_type": "execute_result"
    }
   ],
   "source": [
    "arx = \"RC.txt\"\n",
    "\n",
    "df = pd.read_csv(arx, sep='\\s+', header=None, names=['time', 'Vin','VC' ,'I'])\n",
    "\n",
    "print(df.dtypes)\n",
    "\n",
    "df.head()"
   ]
  },
  {
   "cell_type": "code",
   "execution_count": null,
   "id": "e15a8a2a",
   "metadata": {},
   "outputs": [
    {
     "data": {
      "image/png": "[encoded data removed]",
      "text/plain": [
       "<Figure size 640x480 with 1 Axes>"
      ]
     },
     "metadata": {},
     "output_type": "display_data"
    }
   ],
   "source": [
    "t = df[\"time\"]\n",
    "\n",
    "Vin = df[\"Vin\"].to_numpy() + np.random.normal(size=len(t))*0.01\n",
    "\n",
    "VC = df[\"VC\"].to_numpy() + np.random.normal(size=len(t))*0.01\n",
    "\n",
    "I = df[\"I\"].to_numpy() + np.random.normal(size=len(t))*0.000001\n",
    "\n",
    "fig,ax = plt.subplots()\n",
    "\n",
    "#ax.plot( t, Vin )\n",
    "#ax.plot( t, VC )\n",
    "\n",
    "ax.plot( t, I )\n",
    "\n",
    "plt.show()\n"
   ]
  },
  {
   "cell_type": "code",
   "execution_count": 38,
   "id": "72126cfb",
   "metadata": {},
   "outputs": [],
   "source": [
    "data = { \"time\":t, \"Vin\":Vin, \"VC\":VC, \"I\":I }\n",
    "\n",
    "df = pd.DataFrame(data=data)\n",
    "\n",
    "df.to_csv(\"data_RC.csv\", index=False)"
   ]
  },
  {
   "cell_type": "markdown",
   "id": "8f40a3fd",
   "metadata": {},
   "source": [
    "## RL"
   ]
  },
  {
   "cell_type": "code",
   "execution_count": 41,
   "id": "a70090d5",
   "metadata": {},
   "outputs": [
    {
     "name": "stdout",
     "output_type": "stream",
     "text": [
      "time    float64\n",
      "Vin     float64\n",
      "VL      float64\n",
      "I       float64\n",
      "dtype: object\n"
     ]
    },
    {
     "data": {
      "text/html": [
       "<div>\n",
       "<style scoped>\n",
       "    .dataframe tbody tr th:only-of-type {\n",
       "        vertical-align: middle;\n",
       "    }\n",
       "\n",
       "    .dataframe tbody tr th {\n",
       "        vertical-align: top;\n",
       "    }\n",
       "\n",
       "    .dataframe thead th {\n",
       "        text-align: right;\n",
       "    }\n",
       "</style>\n",
       "<table border=\"1\" class=\"dataframe\">\n",
       "  <thead>\n",
       "    <tr style=\"text-align: right;\">\n",
       "      <th></th>\n",
       "      <th>time</th>\n",
       "      <th>Vin</th>\n",
       "      <th>VL</th>\n",
       "      <th>I</th>\n",
       "    </tr>\n",
       "  </thead>\n",
       "  <tbody>\n",
       "    <tr>\n",
       "      <th>0</th>\n",
       "      <td>0.000000e+00</td>\n",
       "      <td>0.000000</td>\n",
       "      <td>0.000000</td>\n",
       "      <td>0.000000e+00</td>\n",
       "    </tr>\n",
       "    <tr>\n",
       "      <th>1</th>\n",
       "      <td>1.428571e-10</td>\n",
       "      <td>0.714286</td>\n",
       "      <td>0.714286</td>\n",
       "      <td>-5.624446e-10</td>\n",
       "    </tr>\n",
       "    <tr>\n",
       "      <th>2</th>\n",
       "      <td>2.857143e-10</td>\n",
       "      <td>1.428571</td>\n",
       "      <td>1.428571</td>\n",
       "      <td>-2.130384e-09</td>\n",
       "    </tr>\n",
       "    <tr>\n",
       "      <th>3</th>\n",
       "      <td>4.285714e-10</td>\n",
       "      <td>2.142857</td>\n",
       "      <td>2.142857</td>\n",
       "      <td>-4.703817e-09</td>\n",
       "    </tr>\n",
       "    <tr>\n",
       "      <th>4</th>\n",
       "      <td>5.714286e-10</td>\n",
       "      <td>2.857143</td>\n",
       "      <td>2.857142</td>\n",
       "      <td>-8.282744e-09</td>\n",
       "    </tr>\n",
       "  </tbody>\n",
       "</table>\n",
       "</div>"
      ],
      "text/plain": [
       "           time       Vin        VL             I\n",
       "0  0.000000e+00  0.000000  0.000000  0.000000e+00\n",
       "1  1.428571e-10  0.714286  0.714286 -5.624446e-10\n",
       "2  2.857143e-10  1.428571  1.428571 -2.130384e-09\n",
       "3  4.285714e-10  2.142857  2.142857 -4.703817e-09\n",
       "4  5.714286e-10  2.857143  2.857142 -8.282744e-09"
      ]
     },
     "execution_count": 41,
     "metadata": {},
     "output_type": "execute_result"
    }
   ],
   "source": [
    "arx = \"RL.txt\"\n",
    "\n",
    "df1 = pd.read_csv(arx, sep='\\s+', header=None, names=['time', 'Vin','VL' ,'I'])\n",
    "\n",
    "print(df1.dtypes)\n",
    "\n",
    "df1.head()"
   ]
  },
  {
   "cell_type": "code",
   "execution_count": 46,
   "id": "d896fa82",
   "metadata": {},
   "outputs": [
    {
     "data": {
      "image/png": "[encoded data removed]",
      "text/plain": [
       "<Figure size 640x480 with 1 Axes>"
      ]
     },
     "metadata": {},
     "output_type": "display_data"
    }
   ],
   "source": [
    "t1 = df1[\"time\"]\n",
    "\n",
    "Vin1 = df1[\"Vin\"].to_numpy() + np.random.normal(size=len(t1))*0.01\n",
    "\n",
    "VL1 = df1[\"VL\"].to_numpy() + np.random.normal(size=len(t1))*0.01\n",
    "\n",
    "I1 = df1[\"I\"].to_numpy() + np.random.normal(size=len(t1))*0.0001\n",
    "\n",
    "fig,ax = plt.subplots()\n",
    "\n",
    "ax.plot( t1, Vin1 )\n",
    "ax.plot( t1, VL1 )\n",
    "\n",
    "#ax.plot( t1, I1 )\n",
    "\n",
    "plt.show()"
   ]
  },
  {
   "cell_type": "code",
   "execution_count": 47,
   "id": "9c5cb840",
   "metadata": {},
   "outputs": [],
   "source": [
    "data = { \"time\":t1, \"Vin\":Vin1, \"VL\":VL1, \"I\":I1 }\n",
    "\n",
    "df = pd.DataFrame(data=data)\n",
    "\n",
    "df.to_csv(\"data_RL.csv\", index=False)"
   ]
  }
 ],
 "metadata": {
  "kernelspec": {
   "display_name": "base",
   "language": "python",
   "name": "python3"
  },
  "language_info": {
   "codemirror_mode": {
    "name": "ipython",
    "version": 3
   },
   "file_extension": ".py",
   "mimetype": "text/x-python",
   "name": "python",
   "nbconvert_exporter": "python",
   "pygments_lexer": "ipython3",
   "version": "3.10.14"
  }
 },
 "nbformat": 4,
 "nbformat_minor": 5
}
